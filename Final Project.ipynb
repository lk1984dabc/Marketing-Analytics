{
 "cells": [
  {
   "cell_type": "code",
   "execution_count": 1,
   "id": "41ea8387",
   "metadata": {},
   "outputs": [],
   "source": [
    "import pickle\n",
    "import numpy as np\n",
    "import pandas as pd"
   ]
  },
  {
   "cell_type": "markdown",
   "id": "4de60f10",
   "metadata": {},
   "source": [
    "## Load Data"
   ]
  },
  {
   "cell_type": "code",
   "execution_count": 2,
   "id": "fd0a9ff8",
   "metadata": {},
   "outputs": [],
   "source": [
    "path_subscribers = \"C:\\\\Users\\\\kongl\\\\Desktop\\\\NYU Shanghai\\\\Fall 2021\\\\Marketing Analytics\\\\Final Project\\\\Fall 2021 MSDABC Final Project\\\\Digital Marketing Analytics final case project data\\subscribers\"\n",
    "path_engagement = \"C:\\\\Users\\\\kongl\\\\Desktop\\\\NYU Shanghai\\\\Fall 2021\\\\Marketing Analytics\\\\Final Project\\\\Fall 2021 MSDABC Final Project\\\\Digital Marketing Analytics final case project data\\engagement\"\n",
    "path_reps = \"C:\\\\Users\\\\kongl\\\\Desktop\\\\NYU Shanghai\\\\Fall 2021\\\\Marketing Analytics\\\\Final Project\\\\Fall 2021 MSDABC Final Project\\\\Digital Marketing Analytics final case project data\\customer_service_reps\""
   ]
  },
  {
   "cell_type": "code",
   "execution_count": 3,
   "id": "54744fff",
   "metadata": {},
   "outputs": [],
   "source": [
    "# Build a function that loads the binary data\n",
    "\n",
    "def load_data(path):\n",
    "    \n",
    "    '''\n",
    "    The input of the function is the path of the data file.\n",
    "    The output of the function is the dataframe loaded.\n",
    "    '''\n",
    "    \n",
    "    f=open(path,\"rb\")\n",
    "    df=pickle.load(f)\n",
    "    f.close()\n",
    "    \n",
    "    return df"
   ]
  },
  {
   "cell_type": "code",
   "execution_count": 182,
   "id": "5f90b88a",
   "metadata": {},
   "outputs": [],
   "source": [
    "df_subs = load_data(path_subscribers)\n",
    "df_eng = load_data(path_engagement)\n",
    "df_reps = load_data(path_reps)"
   ]
  },
  {
   "cell_type": "code",
   "execution_count": 5,
   "id": "eb6f5e44",
   "metadata": {},
   "outputs": [],
   "source": [
    "# Read the channel data\n",
    "\n",
    "df_channels = pd.read_excel(\"advertising_spend_data.xlsx\", header=2)"
   ]
  },
  {
   "cell_type": "markdown",
   "id": "b77d4ae9",
   "metadata": {},
   "source": [
    "## Data Review"
   ]
  },
  {
   "cell_type": "markdown",
   "id": "c26fee85",
   "metadata": {},
   "source": [
    "First, we check the dataset to see which data we want to use for A/B testing and Allocation method."
   ]
  },
  {
   "cell_type": "code",
   "execution_count": 6,
   "id": "cbbca8c4",
   "metadata": {},
   "outputs": [
    {
     "name": "stdout",
     "output_type": "stream",
     "text": [
      "In representative dataset, there are records for 1369360 past or present customers.\n"
     ]
    }
   ],
   "source": [
    "rep_customers = df_reps['subid'].unique()\n",
    "print(\"In representative dataset, there are records for {} past or present customers.\".format(len(rep_customers)))"
   ]
  },
  {
   "cell_type": "code",
   "execution_count": 7,
   "id": "4518e97d",
   "metadata": {},
   "outputs": [
    {
     "name": "stdout",
     "output_type": "stream",
     "text": [
      "In subsriber dataset, there are records for 227628 past or present customers.\n"
     ]
    }
   ],
   "source": [
    "sub_customers = df_subs['subid'].unique()\n",
    "print(\"In subsriber dataset, there are records for {} past or present customers.\".format(len(sub_customers)))"
   ]
  },
  {
   "cell_type": "markdown",
   "id": "85261798",
   "metadata": {},
   "source": [
    "We're not sure why there are far more customer records in the representative dataset. But merging them might not be a reasonable approach since subids in the subscriber dataset is not a subset of those in the representative dataset."
   ]
  },
  {
   "cell_type": "markdown",
   "id": "f3fad392",
   "metadata": {},
   "source": [
    "Let's check the less complex representative dataset first."
   ]
  },
  {
   "cell_type": "markdown",
   "id": "6e50af6e",
   "metadata": {},
   "source": [
    "We can see that trial plan are for each customer is avialable in this dataset, meaning that representative data might be ideal for our A/B testing."
   ]
  },
  {
   "cell_type": "code",
   "execution_count": 8,
   "id": "75c8d661",
   "metadata": {},
   "outputs": [
    {
     "data": {
      "text/plain": [
       "14    1968089\n",
       "7      160596\n",
       "0       79958\n",
       "Name: num_trial_days, dtype: int64"
      ]
     },
     "execution_count": 8,
     "metadata": {},
     "output_type": "execute_result"
    }
   ],
   "source": [
    "df_reps['num_trial_days'].value_counts()"
   ]
  },
  {
   "cell_type": "markdown",
   "id": "3c2c36f3",
   "metadata": {},
   "source": [
    "Before we start performing A/B testings, we need to find our what are the variants worth testing.<br>\n",
    "We noticed that the distribution of billing channel is somewhat similar to the distribution of trial plans. <br>\n",
    "We want to see if it's the case that certain trial plans were only available to certain channels.<br>"
   ]
  },
  {
   "cell_type": "code",
   "execution_count": 9,
   "id": "f4ca4173",
   "metadata": {},
   "outputs": [
    {
     "data": {
      "text/plain": [
       "OTT       1848663\n",
       "itunes     301713\n",
       "google      58267\n",
       "Name: billing_channel, dtype: int64"
      ]
     },
     "execution_count": 9,
     "metadata": {},
     "output_type": "execute_result"
    }
   ],
   "source": [
    "# Examine distribution of billing channels\n",
    "\n",
    "df_reps['billing_channel'].value_counts()"
   ]
  },
  {
   "cell_type": "code",
   "execution_count": 10,
   "id": "03d584a8",
   "metadata": {},
   "outputs": [
    {
     "data": {
      "text/plain": [
       "14    1826975\n",
       "0       21688\n",
       "Name: num_trial_days, dtype: int64"
      ]
     },
     "execution_count": 10,
     "metadata": {},
     "output_type": "execute_result"
    }
   ],
   "source": [
    "# Examine billing channels with no trial period plans.\n",
    "\n",
    "df_reps[df_reps['billing_channel'] == 'OTT']['num_trial_days'].value_counts()"
   ]
  },
  {
   "cell_type": "code",
   "execution_count": 11,
   "id": "1f006ed7",
   "metadata": {},
   "outputs": [
    {
     "data": {
      "text/plain": [
       "7     160596\n",
       "14    141114\n",
       "0          3\n",
       "Name: num_trial_days, dtype: int64"
      ]
     },
     "execution_count": 11,
     "metadata": {},
     "output_type": "execute_result"
    }
   ],
   "source": [
    "# Examine billing channels with 7-day trial period plans.\n",
    "\n",
    "df_reps[df_reps['billing_channel'] == 'itunes']['num_trial_days'].value_counts()"
   ]
  },
  {
   "cell_type": "code",
   "execution_count": 12,
   "id": "d2a7c62c",
   "metadata": {},
   "outputs": [
    {
     "data": {
      "text/plain": [
       "0    58267\n",
       "Name: num_trial_days, dtype: int64"
      ]
     },
     "execution_count": 12,
     "metadata": {},
     "output_type": "execute_result"
    }
   ],
   "source": [
    "# Examine billing channels with 14-day trial period plans.\n",
    "\n",
    "df_reps[df_reps['billing_channel'] == 'google']['num_trial_days'].value_counts()"
   ]
  },
  {
   "cell_type": "markdown",
   "id": "7c71883d",
   "metadata": {},
   "source": [
    "We can see that what itunes offered were mostly **7-day trials** and **14-day trials**.<br>\n",
    "Google offered **no trial** period to customers. <br>\n",
    "OTT offered **14-day trials** and **no trail** plans.\n"
   ]
  },
  {
   "cell_type": "markdown",
   "id": "c5531323",
   "metadata": {},
   "source": [
    "This indicates that we might need to segment customer population when doing the A/B test.<br>\n",
    "Given the data we had, there are two things we can test: <br>\n",
    "**14-Day Trial** vs. **7-Day Trial** for itunes customers.<br>\n",
    "**14-Day Trial** vs. **No Trial** for OTT customers.<br>\n",
    "<br>\n",
    "Further hypotheses cannot be tested given the data we had. But in future analysis, we might be also to make some valuable inferences by integrating our two test results with some Diff-in-Diff comparison."
   ]
  },
  {
   "cell_type": "markdown",
   "id": "0bf35c6f",
   "metadata": {},
   "source": [
    "Next, let's check the subscriber data to see how we can extract valuable information for attribution and allocation."
   ]
  },
  {
   "cell_type": "code",
   "execution_count": 13,
   "id": "5a68e829",
   "metadata": {},
   "outputs": [],
   "source": [
    "# Build a function that get the account creation month\n",
    "\n",
    "def get_month(datetime):\n",
    "    \n",
    "    '''\n",
    "    The input of the function is datetime.\n",
    "    The output of the function is month.\n",
    "    '''\n",
    "    \n",
    "    year, month, date = str(datetime).split('-')\n",
    "    time = '/'.join([year, month])\n",
    "    \n",
    "    return time"
   ]
  },
  {
   "cell_type": "code",
   "execution_count": 14,
   "id": "8dc81761",
   "metadata": {},
   "outputs": [],
   "source": [
    "# Replace the original date with the recalculated date\n",
    "\n",
    "df_channels['date'] = df_channels['date'].apply(get_month)\n",
    "df_subs['account_creation_month'] = df_subs['account_creation_date'].apply(get_month)"
   ]
  },
  {
   "cell_type": "code",
   "execution_count": 15,
   "id": "fb4484ec",
   "metadata": {},
   "outputs": [
    {
     "data": {
      "text/html": [
       "<div>\n",
       "<style scoped>\n",
       "    .dataframe tbody tr th:only-of-type {\n",
       "        vertical-align: middle;\n",
       "    }\n",
       "\n",
       "    .dataframe tbody tr th {\n",
       "        vertical-align: top;\n",
       "    }\n",
       "\n",
       "    .dataframe thead th {\n",
       "        text-align: right;\n",
       "    }\n",
       "</style>\n",
       "<table border=\"1\" class=\"dataframe\">\n",
       "  <thead>\n",
       "    <tr style=\"text-align: right;\">\n",
       "      <th></th>\n",
       "      <th>date</th>\n",
       "      <th>facebook</th>\n",
       "      <th>email</th>\n",
       "      <th>search</th>\n",
       "      <th>brand sem intent google</th>\n",
       "      <th>affiliate</th>\n",
       "      <th>email_blast</th>\n",
       "      <th>pinterest</th>\n",
       "      <th>referral</th>\n",
       "    </tr>\n",
       "  </thead>\n",
       "  <tbody>\n",
       "    <tr>\n",
       "      <th>0</th>\n",
       "      <td>2019/06</td>\n",
       "      <td>84800</td>\n",
       "      <td>75000</td>\n",
       "      <td>17300</td>\n",
       "      <td>21400</td>\n",
       "      <td>11900</td>\n",
       "      <td>10500</td>\n",
       "      <td>5900</td>\n",
       "      <td>6100</td>\n",
       "    </tr>\n",
       "    <tr>\n",
       "      <th>1</th>\n",
       "      <td>2019/07</td>\n",
       "      <td>60000</td>\n",
       "      <td>75600</td>\n",
       "      <td>17300</td>\n",
       "      <td>21300</td>\n",
       "      <td>12000</td>\n",
       "      <td>29800</td>\n",
       "      <td>6000</td>\n",
       "      <td>6600</td>\n",
       "    </tr>\n",
       "    <tr>\n",
       "      <th>2</th>\n",
       "      <td>2019/08</td>\n",
       "      <td>52300</td>\n",
       "      <td>76100</td>\n",
       "      <td>18100</td>\n",
       "      <td>21300</td>\n",
       "      <td>16300</td>\n",
       "      <td>65900</td>\n",
       "      <td>6200</td>\n",
       "      <td>6800</td>\n",
       "    </tr>\n",
       "    <tr>\n",
       "      <th>3</th>\n",
       "      <td>2019/09</td>\n",
       "      <td>49000</td>\n",
       "      <td>75800</td>\n",
       "      <td>18900</td>\n",
       "      <td>21300</td>\n",
       "      <td>16400</td>\n",
       "      <td>73700</td>\n",
       "      <td>6000</td>\n",
       "      <td>7400</td>\n",
       "    </tr>\n",
       "    <tr>\n",
       "      <th>4</th>\n",
       "      <td>2019/10</td>\n",
       "      <td>51300</td>\n",
       "      <td>76000</td>\n",
       "      <td>21000</td>\n",
       "      <td>21400</td>\n",
       "      <td>12200</td>\n",
       "      <td>32300</td>\n",
       "      <td>6700</td>\n",
       "      <td>7300</td>\n",
       "    </tr>\n",
       "    <tr>\n",
       "      <th>5</th>\n",
       "      <td>2019/11</td>\n",
       "      <td>56100</td>\n",
       "      <td>75900</td>\n",
       "      <td>21400</td>\n",
       "      <td>21600</td>\n",
       "      <td>11700</td>\n",
       "      <td>9800</td>\n",
       "      <td>6300</td>\n",
       "      <td>7300</td>\n",
       "    </tr>\n",
       "    <tr>\n",
       "      <th>6</th>\n",
       "      <td>2019/12</td>\n",
       "      <td>51400</td>\n",
       "      <td>76100</td>\n",
       "      <td>32100</td>\n",
       "      <td>22200</td>\n",
       "      <td>12100</td>\n",
       "      <td>3500</td>\n",
       "      <td>7200</td>\n",
       "      <td>8000</td>\n",
       "    </tr>\n",
       "    <tr>\n",
       "      <th>7</th>\n",
       "      <td>2020/01</td>\n",
       "      <td>49000</td>\n",
       "      <td>75500</td>\n",
       "      <td>33600</td>\n",
       "      <td>22700</td>\n",
       "      <td>14300</td>\n",
       "      <td>300</td>\n",
       "      <td>6700</td>\n",
       "      <td>7400</td>\n",
       "    </tr>\n",
       "    <tr>\n",
       "      <th>8</th>\n",
       "      <td>2020/02</td>\n",
       "      <td>49700</td>\n",
       "      <td>76600</td>\n",
       "      <td>30100</td>\n",
       "      <td>21700</td>\n",
       "      <td>15000</td>\n",
       "      <td>300</td>\n",
       "      <td>6400</td>\n",
       "      <td>6500</td>\n",
       "    </tr>\n",
       "    <tr>\n",
       "      <th>9</th>\n",
       "      <td>2020/03</td>\n",
       "      <td>49100</td>\n",
       "      <td>78000</td>\n",
       "      <td>22700</td>\n",
       "      <td>21200</td>\n",
       "      <td>17600</td>\n",
       "      <td>300</td>\n",
       "      <td>5900</td>\n",
       "      <td>10000</td>\n",
       "    </tr>\n",
       "  </tbody>\n",
       "</table>\n",
       "</div>"
      ],
      "text/plain": [
       "      date  facebook  email  search  brand sem intent google  affiliate  \\\n",
       "0  2019/06     84800  75000   17300                    21400      11900   \n",
       "1  2019/07     60000  75600   17300                    21300      12000   \n",
       "2  2019/08     52300  76100   18100                    21300      16300   \n",
       "3  2019/09     49000  75800   18900                    21300      16400   \n",
       "4  2019/10     51300  76000   21000                    21400      12200   \n",
       "5  2019/11     56100  75900   21400                    21600      11700   \n",
       "6  2019/12     51400  76100   32100                    22200      12100   \n",
       "7  2020/01     49000  75500   33600                    22700      14300   \n",
       "8  2020/02     49700  76600   30100                    21700      15000   \n",
       "9  2020/03     49100  78000   22700                    21200      17600   \n",
       "\n",
       "   email_blast  pinterest  referral  \n",
       "0        10500       5900      6100  \n",
       "1        29800       6000      6600  \n",
       "2        65900       6200      6800  \n",
       "3        73700       6000      7400  \n",
       "4        32300       6700      7300  \n",
       "5         9800       6300      7300  \n",
       "6         3500       7200      8000  \n",
       "7          300       6700      7400  \n",
       "8          300       6400      6500  \n",
       "9          300       5900     10000  "
      ]
     },
     "execution_count": 15,
     "metadata": {},
     "output_type": "execute_result"
    }
   ],
   "source": [
    "df_channels"
   ]
  },
  {
   "cell_type": "code",
   "execution_count": 16,
   "id": "c3c14a12",
   "metadata": {},
   "outputs": [
    {
     "data": {
      "text/plain": [
       "0    232900\n",
       "1    228600\n",
       "2    263000\n",
       "3    268500\n",
       "4    228200\n",
       "5    210100\n",
       "6    212600\n",
       "7    209500\n",
       "8    206300\n",
       "9    204800\n",
       "dtype: int64"
      ]
     },
     "execution_count": 16,
     "metadata": {},
     "output_type": "execute_result"
    }
   ],
   "source": [
    "# Calculate the budget for each month\n",
    "\n",
    "df_channels.iloc[:,1:].apply(sum, axis = 1)"
   ]
  },
  {
   "cell_type": "code",
   "execution_count": 17,
   "id": "77a04ae8",
   "metadata": {},
   "outputs": [
    {
     "data": {
      "text/plain": [
       "2020/02    28089\n",
       "2019/11    26828\n",
       "2020/03    26122\n",
       "2019/07    25708\n",
       "2019/08    25434\n",
       "2019/12    25339\n",
       "2020/01    24843\n",
       "2019/10    22412\n",
       "2019/09    20190\n",
       "2019/06     2663\n",
       "Name: account_creation_month, dtype: int64"
      ]
     },
     "execution_count": 17,
     "metadata": {},
     "output_type": "execute_result"
    }
   ],
   "source": [
    "# Check the total number of customers converted every month\n",
    "\n",
    "df_subs['account_creation_month'].value_counts()"
   ]
  },
  {
   "cell_type": "markdown",
   "id": "5a911641",
   "metadata": {},
   "source": [
    "We can confirm that, to calculate attribution and allocation, both subscriber and channel data should be used.<br>\n",
    "Next, let's think about which data implies conversion."
   ]
  },
  {
   "cell_type": "code",
   "execution_count": 18,
   "id": "af771b89",
   "metadata": {},
   "outputs": [
    {
     "data": {
      "text/plain": [
       "['facebook',\n",
       " 'email',\n",
       " 'search',\n",
       " 'brand sem intent google',\n",
       " 'affiliate',\n",
       " 'email_blast',\n",
       " 'pinterest',\n",
       " 'referral']"
      ]
     },
     "execution_count": 18,
     "metadata": {},
     "output_type": "execute_result"
    }
   ],
   "source": [
    "channels= list(df_channels.columns[1:])\n",
    "channels"
   ]
  },
  {
   "cell_type": "code",
   "execution_count": 19,
   "id": "8827d12b",
   "metadata": {},
   "outputs": [],
   "source": [
    "df_paid = df_subs[df_subs['paid_TF'] == True]\n",
    "df_convert = df_paid[df_paid['refund_after_trial_TF'] == False]"
   ]
  },
  {
   "cell_type": "markdown",
   "id": "219e5e5f",
   "metadata": {},
   "source": [
    "We find it reasonable to consider customers who have made a successful payment and haven't requested refund as converted customers."
   ]
  },
  {
   "cell_type": "code",
   "execution_count": 20,
   "id": "0d05aee7",
   "metadata": {},
   "outputs": [
    {
     "data": {
      "text/plain": [
       "(82805, 30)"
      ]
     },
     "execution_count": 20,
     "metadata": {},
     "output_type": "execute_result"
    }
   ],
   "source": [
    "df_convert.shape"
   ]
  },
  {
   "cell_type": "code",
   "execution_count": 21,
   "id": "44328077",
   "metadata": {},
   "outputs": [
    {
     "data": {
      "text/plain": [
       "facebook                   26279\n",
       "email                      10007\n",
       "search                      8095\n",
       "brand sem intent google     7573\n",
       "affiliate                   3039\n",
       "email_blast                 3589\n",
       "pinterest                   1853\n",
       "referral                    2797\n",
       "Name: attribution_technical, dtype: int64"
      ]
     },
     "execution_count": 21,
     "metadata": {},
     "output_type": "execute_result"
    }
   ],
   "source": [
    "# Check the data we have for attribution\n",
    "\n",
    "df_convert['attribution_technical'].value_counts()[channels]"
   ]
  },
  {
   "cell_type": "code",
   "execution_count": 22,
   "id": "b4ad194c",
   "metadata": {},
   "outputs": [
    {
     "name": "stdout",
     "output_type": "stream",
     "text": [
      "facebook 41142\n",
      "search 2613\n",
      "affiliate 639\n",
      "pinterest 2493\n",
      "referral 10305\n"
     ]
    }
   ],
   "source": [
    "for channel in channels:\n",
    "    if channel in df_convert['attribution_survey'].value_counts().index:\n",
    "        print(channel, df_convert['attribution_survey'].value_counts()[channel])"
   ]
  },
  {
   "cell_type": "code",
   "execution_count": 23,
   "id": "6c700ad7",
   "metadata": {},
   "outputs": [],
   "source": [
    "months = sorted(list(df_convert['account_creation_month'].unique()))"
   ]
  },
  {
   "cell_type": "code",
   "execution_count": 24,
   "id": "9b99ab83",
   "metadata": {
    "scrolled": true
   },
   "outputs": [],
   "source": [
    "df_convert_bymonth = df_convert.groupby(\"account_creation_month\")"
   ]
  },
  {
   "cell_type": "code",
   "execution_count": 25,
   "id": "c7cc3ef6",
   "metadata": {
    "scrolled": true
   },
   "outputs": [
    {
     "data": {
      "text/plain": [
       "facebook                   497\n",
       "email                      135\n",
       "search                      35\n",
       "brand sem intent google     91\n",
       "affiliate                   39\n",
       "email_blast                 61\n",
       "pinterest                   10\n",
       "referral                    15\n",
       "Name: attribution_technical, dtype: int64"
      ]
     },
     "execution_count": 25,
     "metadata": {},
     "output_type": "execute_result"
    }
   ],
   "source": [
    "df_convert_bymonth.get_group(months[0])['attribution_technical'].value_counts()[channels]"
   ]
  },
  {
   "cell_type": "code",
   "execution_count": 26,
   "id": "c07a751e",
   "metadata": {},
   "outputs": [
    {
     "data": {
      "text/html": [
       "<div>\n",
       "<style scoped>\n",
       "    .dataframe tbody tr th:only-of-type {\n",
       "        vertical-align: middle;\n",
       "    }\n",
       "\n",
       "    .dataframe tbody tr th {\n",
       "        vertical-align: top;\n",
       "    }\n",
       "\n",
       "    .dataframe thead th {\n",
       "        text-align: right;\n",
       "    }\n",
       "</style>\n",
       "<table border=\"1\" class=\"dataframe\">\n",
       "  <thead>\n",
       "    <tr style=\"text-align: right;\">\n",
       "      <th></th>\n",
       "      <th>date</th>\n",
       "      <th>facebook</th>\n",
       "      <th>email</th>\n",
       "      <th>search</th>\n",
       "      <th>brand sem intent google</th>\n",
       "      <th>affiliate</th>\n",
       "      <th>email_blast</th>\n",
       "      <th>pinterest</th>\n",
       "      <th>referral</th>\n",
       "    </tr>\n",
       "  </thead>\n",
       "  <tbody>\n",
       "    <tr>\n",
       "      <th>0</th>\n",
       "      <td>2019/06</td>\n",
       "      <td>84800</td>\n",
       "      <td>75000</td>\n",
       "      <td>17300</td>\n",
       "      <td>21400</td>\n",
       "      <td>11900</td>\n",
       "      <td>10500</td>\n",
       "      <td>5900</td>\n",
       "      <td>6100</td>\n",
       "    </tr>\n",
       "    <tr>\n",
       "      <th>1</th>\n",
       "      <td>2019/07</td>\n",
       "      <td>60000</td>\n",
       "      <td>75600</td>\n",
       "      <td>17300</td>\n",
       "      <td>21300</td>\n",
       "      <td>12000</td>\n",
       "      <td>29800</td>\n",
       "      <td>6000</td>\n",
       "      <td>6600</td>\n",
       "    </tr>\n",
       "    <tr>\n",
       "      <th>2</th>\n",
       "      <td>2019/08</td>\n",
       "      <td>52300</td>\n",
       "      <td>76100</td>\n",
       "      <td>18100</td>\n",
       "      <td>21300</td>\n",
       "      <td>16300</td>\n",
       "      <td>65900</td>\n",
       "      <td>6200</td>\n",
       "      <td>6800</td>\n",
       "    </tr>\n",
       "    <tr>\n",
       "      <th>3</th>\n",
       "      <td>2019/09</td>\n",
       "      <td>49000</td>\n",
       "      <td>75800</td>\n",
       "      <td>18900</td>\n",
       "      <td>21300</td>\n",
       "      <td>16400</td>\n",
       "      <td>73700</td>\n",
       "      <td>6000</td>\n",
       "      <td>7400</td>\n",
       "    </tr>\n",
       "    <tr>\n",
       "      <th>4</th>\n",
       "      <td>2019/10</td>\n",
       "      <td>51300</td>\n",
       "      <td>76000</td>\n",
       "      <td>21000</td>\n",
       "      <td>21400</td>\n",
       "      <td>12200</td>\n",
       "      <td>32300</td>\n",
       "      <td>6700</td>\n",
       "      <td>7300</td>\n",
       "    </tr>\n",
       "    <tr>\n",
       "      <th>5</th>\n",
       "      <td>2019/11</td>\n",
       "      <td>56100</td>\n",
       "      <td>75900</td>\n",
       "      <td>21400</td>\n",
       "      <td>21600</td>\n",
       "      <td>11700</td>\n",
       "      <td>9800</td>\n",
       "      <td>6300</td>\n",
       "      <td>7300</td>\n",
       "    </tr>\n",
       "    <tr>\n",
       "      <th>6</th>\n",
       "      <td>2019/12</td>\n",
       "      <td>51400</td>\n",
       "      <td>76100</td>\n",
       "      <td>32100</td>\n",
       "      <td>22200</td>\n",
       "      <td>12100</td>\n",
       "      <td>3500</td>\n",
       "      <td>7200</td>\n",
       "      <td>8000</td>\n",
       "    </tr>\n",
       "    <tr>\n",
       "      <th>7</th>\n",
       "      <td>2020/01</td>\n",
       "      <td>49000</td>\n",
       "      <td>75500</td>\n",
       "      <td>33600</td>\n",
       "      <td>22700</td>\n",
       "      <td>14300</td>\n",
       "      <td>300</td>\n",
       "      <td>6700</td>\n",
       "      <td>7400</td>\n",
       "    </tr>\n",
       "    <tr>\n",
       "      <th>8</th>\n",
       "      <td>2020/02</td>\n",
       "      <td>49700</td>\n",
       "      <td>76600</td>\n",
       "      <td>30100</td>\n",
       "      <td>21700</td>\n",
       "      <td>15000</td>\n",
       "      <td>300</td>\n",
       "      <td>6400</td>\n",
       "      <td>6500</td>\n",
       "    </tr>\n",
       "    <tr>\n",
       "      <th>9</th>\n",
       "      <td>2020/03</td>\n",
       "      <td>49100</td>\n",
       "      <td>78000</td>\n",
       "      <td>22700</td>\n",
       "      <td>21200</td>\n",
       "      <td>17600</td>\n",
       "      <td>300</td>\n",
       "      <td>5900</td>\n",
       "      <td>10000</td>\n",
       "    </tr>\n",
       "  </tbody>\n",
       "</table>\n",
       "</div>"
      ],
      "text/plain": [
       "      date  facebook  email  search  brand sem intent google  affiliate  \\\n",
       "0  2019/06     84800  75000   17300                    21400      11900   \n",
       "1  2019/07     60000  75600   17300                    21300      12000   \n",
       "2  2019/08     52300  76100   18100                    21300      16300   \n",
       "3  2019/09     49000  75800   18900                    21300      16400   \n",
       "4  2019/10     51300  76000   21000                    21400      12200   \n",
       "5  2019/11     56100  75900   21400                    21600      11700   \n",
       "6  2019/12     51400  76100   32100                    22200      12100   \n",
       "7  2020/01     49000  75500   33600                    22700      14300   \n",
       "8  2020/02     49700  76600   30100                    21700      15000   \n",
       "9  2020/03     49100  78000   22700                    21200      17600   \n",
       "\n",
       "   email_blast  pinterest  referral  \n",
       "0        10500       5900      6100  \n",
       "1        29800       6000      6600  \n",
       "2        65900       6200      6800  \n",
       "3        73700       6000      7400  \n",
       "4        32300       6700      7300  \n",
       "5         9800       6300      7300  \n",
       "6         3500       7200      8000  \n",
       "7          300       6700      7400  \n",
       "8          300       6400      6500  \n",
       "9          300       5900     10000  "
      ]
     },
     "execution_count": 26,
     "metadata": {},
     "output_type": "execute_result"
    }
   ],
   "source": [
    "df_channels"
   ]
  },
  {
   "cell_type": "markdown",
   "id": "c20de35e",
   "metadata": {},
   "source": [
    "There are multiple tasks we can do for attribution and allocation.<br>\n",
    "First, for attribution method, it's obvious that we shall attribute conversion based on both ***attribution_technical*** and ***attribution_survey***.<br>\n",
    "Second, we want to calculate CAC for all channels in all months to see if how CAC differs between channels and how CAC of each channel change over time. <br>\n",
    "Third, using monthly data, we can calculate marginal CAC for allocation decision making. This approach should be viable since monthly budgets for most channels didn't change a lot except channel **email_blast**. This might mean that marginal CAC calculated for email_blast would not be representative.<br>"
   ]
  },
  {
   "cell_type": "code",
   "execution_count": 27,
   "id": "a10bdb08",
   "metadata": {},
   "outputs": [
    {
     "data": {
      "text/plain": [
       "Index(['customer_service_rep_id', 'subid', 'current_sub_TF', 'cancel_date',\n",
       "       'account_creation_date', 'num_trial_days', 'trial_completed_TF',\n",
       "       'billing_channel', 'revenue_net_1month', 'payment_period',\n",
       "       'last_payment', 'next_payment', 'renew'],\n",
       "      dtype='object')"
      ]
     },
     "execution_count": 27,
     "metadata": {},
     "output_type": "execute_result"
    }
   ],
   "source": [
    "df_reps.columns"
   ]
  },
  {
   "cell_type": "markdown",
   "id": "537f16cd",
   "metadata": {},
   "source": [
    "## A/B Testing"
   ]
  },
  {
   "cell_type": "code",
   "execution_count": 28,
   "id": "779fd2f6",
   "metadata": {},
   "outputs": [],
   "source": [
    "from scipy import stats"
   ]
  },
  {
   "cell_type": "code",
   "execution_count": 29,
   "id": "84559399",
   "metadata": {},
   "outputs": [],
   "source": [
    "# Get the customer population we want to study\n",
    "\n",
    "df_OTT = df_reps[df_reps['billing_channel'] == 'OTT']\n",
    "df_itunes = df_reps[df_reps['billing_channel'] == 'itunes']"
   ]
  },
  {
   "cell_type": "code",
   "execution_count": 30,
   "id": "994c0de1",
   "metadata": {},
   "outputs": [],
   "source": [
    "# Get lists of unique customers for two populations\n",
    "\n",
    "id_OTT = df_OTT['subid'].unique()\n",
    "id_itunes = df_itunes['subid'].unique()"
   ]
  },
  {
   "cell_type": "markdown",
   "id": "4ac06208",
   "metadata": {},
   "source": [
    "First we process and test customers from OTT."
   ]
  },
  {
   "cell_type": "code",
   "execution_count": 31,
   "id": "7a78f16d",
   "metadata": {},
   "outputs": [],
   "source": [
    "if 1 == 0:\n",
    "    df_test_OTT = pd.DataFrame(df_OTT.groupby(\"subid\").size()).reset_index()\n",
    "    df_test_OTT.rename(columns = {0:\"conversion\"}, inplace = True)\n",
    "    df_test_OTT.loc[(df_test_OTT['conversion'] == 1),'conversion'] = 0\n",
    "    df_test_OTT.loc[(df_test_OTT['conversion'] > 1),'conversion'] = 1"
   ]
  },
  {
   "cell_type": "code",
   "execution_count": 32,
   "id": "85864cf7",
   "metadata": {},
   "outputs": [],
   "source": [
    "if 1 == 0:\n",
    "    OTT_trials = [list(df_OTT[df_OTT['subid'] == i]['num_trial_days'])[0] for i in id_OTT]"
   ]
  },
  {
   "cell_type": "code",
   "execution_count": 33,
   "id": "c0bf60a6",
   "metadata": {},
   "outputs": [],
   "source": [
    "# Write the processed OTT data for A/B testing to csv file\n",
    "\n",
    "if 1 == 0:\n",
    "    df_test_OTT['trial_plan'] = OTT_trials\n",
    "    df_test_OTT.to_csv(\"df_test_OTT.csv\", index = False)"
   ]
  },
  {
   "cell_type": "code",
   "execution_count": 34,
   "id": "34fc0b90",
   "metadata": {},
   "outputs": [],
   "source": [
    "df_test_OTT = pd.read_csv('df_test_OTT.csv')"
   ]
  },
  {
   "cell_type": "markdown",
   "id": "198c74b5",
   "metadata": {},
   "source": [
    "After processing the data, we start our A/B testing."
   ]
  },
  {
   "cell_type": "code",
   "execution_count": 35,
   "id": "2b358942",
   "metadata": {},
   "outputs": [],
   "source": [
    "df_OTT_0d = df_test_OTT[df_test_OTT['trial_plan'] == 0]\n",
    "df_OTT_14d = df_test_OTT[df_test_OTT['trial_plan'] == 14]"
   ]
  },
  {
   "cell_type": "code",
   "execution_count": 36,
   "id": "3f938d4e",
   "metadata": {},
   "outputs": [
    {
     "name": "stdout",
     "output_type": "stream",
     "text": [
      "The sample sizes for two variant groups are 6954 and 1202918. Both are large enough.\n"
     ]
    }
   ],
   "source": [
    "n1_OTT= len(df_OTT_0d)\n",
    "n2_OTT = len(df_OTT_14d)\n",
    "print(\"The sample sizes for two variant groups are {} and {}. Both are large enough.\".format(n1_OTT, n2_OTT))"
   ]
  },
  {
   "cell_type": "code",
   "execution_count": 37,
   "id": "3d4d4fe4",
   "metadata": {},
   "outputs": [],
   "source": [
    "p1hat = sum(df_OTT_0d[\"conversion\"])/n1_OTT\n",
    "p2hat = sum(df_OTT_14d[\"conversion\"])/n2_OTT"
   ]
  },
  {
   "cell_type": "code",
   "execution_count": 793,
   "id": "bdd0e099",
   "metadata": {},
   "outputs": [
    {
     "data": {
      "text/plain": [
       "0.410267471958585"
      ]
     },
     "execution_count": 793,
     "metadata": {},
     "output_type": "execute_result"
    }
   ],
   "source": [
    "p1hat"
   ]
  },
  {
   "cell_type": "code",
   "execution_count": 794,
   "id": "5ad0e18b",
   "metadata": {},
   "outputs": [
    {
     "data": {
      "text/plain": [
       "0.40814752127742704"
      ]
     },
     "execution_count": 794,
     "metadata": {},
     "output_type": "execute_result"
    }
   ],
   "source": [
    "p2hat"
   ]
  },
  {
   "cell_type": "markdown",
   "id": "4d27fe46",
   "metadata": {},
   "source": [
    "Since assumptions of two-sample t test are met, we can conduct a two-sample t test using all data."
   ]
  },
  {
   "cell_type": "markdown",
   "id": "550912bc",
   "metadata": {},
   "source": [
    "Denote by p1, p2 the population conversion rate of no trial and 14-day trial for OTT customers.<br>\n",
    "Our hypothesis test is: <br>\n",
    "<br>\n",
    "H0: p1 - p2 = 0 <br>\n",
    "Ha: p1 - p2 > 0 ,with a significant rate of 0.05."
   ]
  },
  {
   "cell_type": "markdown",
   "id": "3b9a6d18",
   "metadata": {},
   "source": [
    "To calculate test statistic, we need to know the following parameters: <br>\n",
    "**p1hat**: Sample conversion rate of no trial. <br>\n",
    "**p2hat**: Sample conversion rate of 14-day trial. <br>\n",
    "**pchat**: Combined estimate of population conversion rate <br>\n",
    "**n1_OTT**: Sample size of no trial group <br>\n",
    "**n2_OTT**: Sample size of 14-day trial group"
   ]
  },
  {
   "cell_type": "code",
   "execution_count": 38,
   "id": "fd1a8410",
   "metadata": {},
   "outputs": [
    {
     "name": "stdout",
     "output_type": "stream",
     "text": [
      "The combined estimate of population conversion rate is 0.4081597061507333.\n"
     ]
    }
   ],
   "source": [
    "# Calculate pchat\n",
    "\n",
    "pchat = (n1_OTT*p1hat + n2_OTT*p2hat)/(n1_OTT+n2_OTT)\n",
    "print(\"The combined estimate of population conversion rate is {}.\".format(pchat))"
   ]
  },
  {
   "cell_type": "code",
   "execution_count": 39,
   "id": "3ddab502",
   "metadata": {},
   "outputs": [
    {
     "name": "stdout",
     "output_type": "stream",
     "text": [
      "The test statistic is 60.67676011979459.\n"
     ]
    }
   ],
   "source": [
    "# Calculate test statistic\n",
    "\n",
    "z_score = (p1hat - p2hat)/(pchat*(1-pchat)*(1/n1_OTT + 1/n2_OTT))\n",
    "print(\"The test statistic is {}.\".format(z_score))"
   ]
  },
  {
   "cell_type": "code",
   "execution_count": 40,
   "id": "42305408",
   "metadata": {},
   "outputs": [
    {
     "name": "stdout",
     "output_type": "stream",
     "text": [
      "The p-value is 0.0.\n"
     ]
    }
   ],
   "source": [
    "# Calculate the p-value\n",
    "\n",
    "p_value = stats.norm.sf(abs(z_score))\n",
    "print(\"The p-value is {}.\".format(p_value))"
   ]
  },
  {
   "cell_type": "markdown",
   "id": "059ae574",
   "metadata": {},
   "source": [
    "Since our p-value < 0.05, we reject our null hypothesis and conclude that plan without trial had better conversion rate than plan with 14-day trial for OTT customers."
   ]
  },
  {
   "cell_type": "markdown",
   "id": "74aec187",
   "metadata": {},
   "source": [
    "Next we process and test customers from itunes."
   ]
  },
  {
   "cell_type": "code",
   "execution_count": 41,
   "id": "f0fee55f",
   "metadata": {},
   "outputs": [],
   "source": [
    "if 1 == 0:\n",
    "    df_test_itunes = pd.DataFrame(df_itunes.groupby(\"subid\").size()).reset_index()\n",
    "    df_test_itunes.rename(columns = {0:\"conversion\"}, inplace = True)\n",
    "    df_test_itunes.loc[(df_test_itunes['conversion'] == 1),'conversion'] = 0\n",
    "    df_test_itunes.loc[(df_test_itunes['conversion'] > 1),'conversion'] = 1"
   ]
  },
  {
   "cell_type": "code",
   "execution_count": 42,
   "id": "cdd6853e",
   "metadata": {},
   "outputs": [],
   "source": [
    "if 1 == 0:\n",
    "    itunes_trials = [list(df_itunes[df_itunes['subid'] == i]['num_trial_days'])[0] for i in id_itunes]"
   ]
  },
  {
   "cell_type": "code",
   "execution_count": 43,
   "id": "50344578",
   "metadata": {},
   "outputs": [],
   "source": [
    "# Write the processed OTT data for A/B testing to csv file\n",
    "\n",
    "if 1 == 0:\n",
    "    df_test_itunes['trial_plan'] = OTT_trials\n",
    "    df_test_itunes.to_csv(\"df_test_itunes.csv\", index = False)"
   ]
  },
  {
   "cell_type": "code",
   "execution_count": 44,
   "id": "bff96a1a",
   "metadata": {},
   "outputs": [],
   "source": [
    "df_test_itunes = pd.read_csv('df_test_itunes.csv')\n",
    "df_test_itunes = df_test_itunes[df_test_itunes['trial_plan'] != 0]"
   ]
  },
  {
   "cell_type": "markdown",
   "id": "39902be2",
   "metadata": {},
   "source": [
    "After processing the data, we start our A/B testing."
   ]
  },
  {
   "cell_type": "code",
   "execution_count": 45,
   "id": "c212f2cd",
   "metadata": {},
   "outputs": [],
   "source": [
    "df_itunes_7d = df_test_itunes[df_test_itunes['trial_plan'] == 7]\n",
    "df_itunes_14d = df_test_itunes[df_test_itunes['trial_plan'] == 14]"
   ]
  },
  {
   "cell_type": "code",
   "execution_count": 46,
   "id": "ce211145",
   "metadata": {},
   "outputs": [
    {
     "name": "stdout",
     "output_type": "stream",
     "text": [
      "The sample sizes for two variant groups are 78209 and 64043. Both are large enough.\n"
     ]
    }
   ],
   "source": [
    "n1_itunes= len(df_itunes_14d)\n",
    "n2_itunes = len(df_itunes_7d)\n",
    "print(\"The sample sizes for two variant groups are {} and {}. Both are large enough.\".format(n1_itunes, n2_itunes))"
   ]
  },
  {
   "cell_type": "code",
   "execution_count": 47,
   "id": "fdbe494d",
   "metadata": {},
   "outputs": [],
   "source": [
    "p1hat_2 = sum(df_itunes_14d[\"conversion\"])/n1_itunes\n",
    "p2hat_2 = sum(df_itunes_7d[\"conversion\"])/n2_itunes"
   ]
  },
  {
   "cell_type": "code",
   "execution_count": 797,
   "id": "83b5303c",
   "metadata": {},
   "outputs": [
    {
     "data": {
      "text/plain": [
       "0.4958380749018655"
      ]
     },
     "execution_count": 797,
     "metadata": {},
     "output_type": "execute_result"
    }
   ],
   "source": [
    "p1hat_2"
   ]
  },
  {
   "cell_type": "code",
   "execution_count": 798,
   "id": "cb907a11",
   "metadata": {},
   "outputs": [
    {
     "data": {
      "text/plain": [
       "0.4931686523117281"
      ]
     },
     "execution_count": 798,
     "metadata": {},
     "output_type": "execute_result"
    }
   ],
   "source": [
    "p2hat_2"
   ]
  },
  {
   "cell_type": "markdown",
   "id": "34b2296e",
   "metadata": {},
   "source": [
    "Since assumptions of two-sample t test are met, we can conduct a two-sample t test using all data."
   ]
  },
  {
   "cell_type": "markdown",
   "id": "a0bee000",
   "metadata": {},
   "source": [
    "Denote by p1, p2 the population conversion rate of no trial and 14-day trial for itunescustomers.<br>\n",
    "Our hypothesis test is: <br>\n",
    "<br>\n",
    "H0: p1 - p2 = 0 <br>\n",
    "Ha: p1 - p2 > 0 ,with a significant rate of 0.05."
   ]
  },
  {
   "cell_type": "markdown",
   "id": "b6d1b8ba",
   "metadata": {},
   "source": [
    "To calculate test statistic, we need to know the following parameters: <br>\n",
    "**p1hat**: Sample conversion rate of 14-day trial. <br>\n",
    "**p2hat**: Sample conversion rate of 7-day trial. <br>\n",
    "**pchat**: Combined estimate of population conversion rate <br>\n",
    "**n1_itunes**: Sample size of 14-day trial group <br>\n",
    "**n2_itunes**: Sample size of 7-day trial group"
   ]
  },
  {
   "cell_type": "code",
   "execution_count": 48,
   "id": "b8b13e8f",
   "metadata": {},
   "outputs": [
    {
     "name": "stdout",
     "output_type": "stream",
     "text": [
      "The combined estimate of population conversion rate is 0.494636279279026.\n"
     ]
    }
   ],
   "source": [
    "# Calculate pchat\n",
    "\n",
    "pchat_2 = (n1_itunes*p1hat_2 + n2_itunes*p2hat_2)/(n1_itunes+n2_itunes)\n",
    "print(\"The combined estimate of population conversion rate is {}.\".format(pchat_2))"
   ]
  },
  {
   "cell_type": "code",
   "execution_count": 49,
   "id": "d7e16a8a",
   "metadata": {},
   "outputs": [
    {
     "name": "stdout",
     "output_type": "stream",
     "text": [
      "The test statistic is 376.0082057388898.\n"
     ]
    }
   ],
   "source": [
    "# Calculate test statistic\n",
    "\n",
    "z_score2 = (p1hat_2 - p2hat_2)/(pchat_2*(1-pchat_2)*(1/n1_itunes + 1/n2_itunes))\n",
    "print(\"The test statistic is {}.\".format(z_score2))"
   ]
  },
  {
   "cell_type": "code",
   "execution_count": 50,
   "id": "ef00277b",
   "metadata": {},
   "outputs": [
    {
     "name": "stdout",
     "output_type": "stream",
     "text": [
      "The p-value is 0.0.\n"
     ]
    }
   ],
   "source": [
    "# Calculate the p-value\n",
    "\n",
    "p_value2 = stats.norm.sf(abs(z_score2))\n",
    "print(\"The p-value is {}.\".format(p_value2))"
   ]
  },
  {
   "cell_type": "markdown",
   "id": "7b33e094",
   "metadata": {},
   "source": [
    "Since our p-value < 0.05, we reject our null hypothesis and conclude that plan with 14-day trial had better conversion rate than plan with 7-day trial for itunes customers."
   ]
  },
  {
   "cell_type": "markdown",
   "id": "fa256d4a",
   "metadata": {},
   "source": [
    "## Attribution and Allocation"
   ]
  },
  {
   "cell_type": "code",
   "execution_count": 51,
   "id": "65e1e7f6",
   "metadata": {},
   "outputs": [],
   "source": [
    "from copy import deepcopy"
   ]
  },
  {
   "cell_type": "code",
   "execution_count": 52,
   "id": "3e529e0d",
   "metadata": {},
   "outputs": [],
   "source": [
    "# Compute the credit of each subset and find the total credit for each channel\n",
    "\n",
    "def count(row, credit):\n",
    "    \n",
    "    '''\n",
    "    The input of the function is one row representing one user.\n",
    "    The attribution of credit is added to the dictionary named credit.\n",
    "    '''\n",
    "    \n",
    "    attt = row['attribution_technical']\n",
    "    atts = row['attribution_survey']\n",
    "    \n",
    "    if (attt in channels) & (atts in channels):\n",
    "        credit[attt] += 0.5\n",
    "        credit[atts] += 0.5\n",
    "    elif (attt in channels) & (atts not in channels):\n",
    "        credit[attt] += 1\n",
    "    elif (attt not in channels) & (atts in channels):\n",
    "        credit[atts] += 1"
   ]
  },
  {
   "cell_type": "code",
   "execution_count": 53,
   "id": "9a99731c",
   "metadata": {},
   "outputs": [],
   "source": [
    "# Prepare the dictionary for data storage\n",
    "credit = dict()\n",
    "for i in channels:\n",
    "    credit[i] = 0\n",
    "    \n",
    "attribution_bymonth = [deepcopy(credit) for _ in months]"
   ]
  },
  {
   "cell_type": "code",
   "execution_count": 54,
   "id": "95674419",
   "metadata": {},
   "outputs": [
    {
     "data": {
      "text/html": [
       "<div>\n",
       "<style scoped>\n",
       "    .dataframe tbody tr th:only-of-type {\n",
       "        vertical-align: middle;\n",
       "    }\n",
       "\n",
       "    .dataframe tbody tr th {\n",
       "        vertical-align: top;\n",
       "    }\n",
       "\n",
       "    .dataframe thead th {\n",
       "        text-align: right;\n",
       "    }\n",
       "</style>\n",
       "<table border=\"1\" class=\"dataframe\">\n",
       "  <thead>\n",
       "    <tr style=\"text-align: right;\">\n",
       "      <th></th>\n",
       "      <th>facebook</th>\n",
       "      <th>email</th>\n",
       "      <th>search</th>\n",
       "      <th>brand sem intent google</th>\n",
       "      <th>affiliate</th>\n",
       "      <th>email_blast</th>\n",
       "      <th>pinterest</th>\n",
       "      <th>referral</th>\n",
       "    </tr>\n",
       "    <tr>\n",
       "      <th>date</th>\n",
       "      <th></th>\n",
       "      <th></th>\n",
       "      <th></th>\n",
       "      <th></th>\n",
       "      <th></th>\n",
       "      <th></th>\n",
       "      <th></th>\n",
       "      <th></th>\n",
       "    </tr>\n",
       "  </thead>\n",
       "  <tbody>\n",
       "    <tr>\n",
       "      <th>2019/06</th>\n",
       "      <td>128.193500</td>\n",
       "      <td>828.729282</td>\n",
       "      <td>443.589744</td>\n",
       "      <td>324.242424</td>\n",
       "      <td>396.666667</td>\n",
       "      <td>241.379310</td>\n",
       "      <td>327.777778</td>\n",
       "      <td>123.232323</td>\n",
       "    </tr>\n",
       "    <tr>\n",
       "      <th>2019/07</th>\n",
       "      <td>12.392853</td>\n",
       "      <td>83.031301</td>\n",
       "      <td>45.406824</td>\n",
       "      <td>35.500000</td>\n",
       "      <td>45.197740</td>\n",
       "      <td>61.443299</td>\n",
       "      <td>19.704433</td>\n",
       "      <td>9.880240</td>\n",
       "    </tr>\n",
       "    <tr>\n",
       "      <th>2019/08</th>\n",
       "      <td>10.707340</td>\n",
       "      <td>98.383969</td>\n",
       "      <td>30.808511</td>\n",
       "      <td>36.535163</td>\n",
       "      <td>53.618421</td>\n",
       "      <td>122.490706</td>\n",
       "      <td>19.903692</td>\n",
       "      <td>9.103079</td>\n",
       "    </tr>\n",
       "    <tr>\n",
       "      <th>2019/09</th>\n",
       "      <td>13.268346</td>\n",
       "      <td>125.289256</td>\n",
       "      <td>34.742647</td>\n",
       "      <td>45.561497</td>\n",
       "      <td>52.480000</td>\n",
       "      <td>146.959123</td>\n",
       "      <td>24.742268</td>\n",
       "      <td>9.261577</td>\n",
       "    </tr>\n",
       "    <tr>\n",
       "      <th>2019/10</th>\n",
       "      <td>12.103338</td>\n",
       "      <td>134.751773</td>\n",
       "      <td>33.492823</td>\n",
       "      <td>45.052632</td>\n",
       "      <td>68.539326</td>\n",
       "      <td>105.728314</td>\n",
       "      <td>25.818882</td>\n",
       "      <td>8.716418</td>\n",
       "    </tr>\n",
       "    <tr>\n",
       "      <th>2019/11</th>\n",
       "      <td>9.627596</td>\n",
       "      <td>120.763723</td>\n",
       "      <td>30.119634</td>\n",
       "      <td>36.828645</td>\n",
       "      <td>92.490119</td>\n",
       "      <td>47.921760</td>\n",
       "      <td>22.419929</td>\n",
       "      <td>8.079690</td>\n",
       "    </tr>\n",
       "    <tr>\n",
       "      <th>2019/12</th>\n",
       "      <td>12.229360</td>\n",
       "      <td>119.185591</td>\n",
       "      <td>32.555781</td>\n",
       "      <td>31.201687</td>\n",
       "      <td>70.760234</td>\n",
       "      <td>28.455285</td>\n",
       "      <td>22.500000</td>\n",
       "      <td>8.810573</td>\n",
       "    </tr>\n",
       "    <tr>\n",
       "      <th>2020/01</th>\n",
       "      <td>14.989293</td>\n",
       "      <td>119.179163</td>\n",
       "      <td>28.282828</td>\n",
       "      <td>27.818627</td>\n",
       "      <td>50.709220</td>\n",
       "      <td>22.222222</td>\n",
       "      <td>22.148760</td>\n",
       "      <td>7.640681</td>\n",
       "    </tr>\n",
       "    <tr>\n",
       "      <th>2020/02</th>\n",
       "      <td>12.979890</td>\n",
       "      <td>99.545159</td>\n",
       "      <td>24.372470</td>\n",
       "      <td>31.200575</td>\n",
       "      <td>42.857143</td>\n",
       "      <td>13.043478</td>\n",
       "      <td>22.338569</td>\n",
       "      <td>6.509765</td>\n",
       "    </tr>\n",
       "    <tr>\n",
       "      <th>2020/03</th>\n",
       "      <td>14.468837</td>\n",
       "      <td>94.890511</td>\n",
       "      <td>24.123273</td>\n",
       "      <td>40.651965</td>\n",
       "      <td>46.315789</td>\n",
       "      <td>17.647059</td>\n",
       "      <td>27.764706</td>\n",
       "      <td>9.675859</td>\n",
       "    </tr>\n",
       "  </tbody>\n",
       "</table>\n",
       "</div>"
      ],
      "text/plain": [
       "           facebook       email      search  brand sem intent google  \\\n",
       "date                                                                   \n",
       "2019/06  128.193500  828.729282  443.589744               324.242424   \n",
       "2019/07   12.392853   83.031301   45.406824                35.500000   \n",
       "2019/08   10.707340   98.383969   30.808511                36.535163   \n",
       "2019/09   13.268346  125.289256   34.742647                45.561497   \n",
       "2019/10   12.103338  134.751773   33.492823                45.052632   \n",
       "2019/11    9.627596  120.763723   30.119634                36.828645   \n",
       "2019/12   12.229360  119.185591   32.555781                31.201687   \n",
       "2020/01   14.989293  119.179163   28.282828                27.818627   \n",
       "2020/02   12.979890   99.545159   24.372470                31.200575   \n",
       "2020/03   14.468837   94.890511   24.123273                40.651965   \n",
       "\n",
       "          affiliate  email_blast   pinterest    referral  \n",
       "date                                                      \n",
       "2019/06  396.666667   241.379310  327.777778  123.232323  \n",
       "2019/07   45.197740    61.443299   19.704433    9.880240  \n",
       "2019/08   53.618421   122.490706   19.903692    9.103079  \n",
       "2019/09   52.480000   146.959123   24.742268    9.261577  \n",
       "2019/10   68.539326   105.728314   25.818882    8.716418  \n",
       "2019/11   92.490119    47.921760   22.419929    8.079690  \n",
       "2019/12   70.760234    28.455285   22.500000    8.810573  \n",
       "2020/01   50.709220    22.222222   22.148760    7.640681  \n",
       "2020/02   42.857143    13.043478   22.338569    6.509765  \n",
       "2020/03   46.315789    17.647059   27.764706    9.675859  "
      ]
     },
     "execution_count": 54,
     "metadata": {},
     "output_type": "execute_result"
    }
   ],
   "source": [
    "# Compute the attribution for each month each channel\n",
    "\n",
    "for i,month in enumerate(months):\n",
    "        df_convert_bymonth.get_group(month).apply(lambda x: count(x,attribution_bymonth[i]),axis=1)\n",
    "    \n",
    "# Compute the CAC for each month each channel\n",
    "CACs = [[0 for _ in channels] for _ in months]\n",
    "for i in range(len(months)):\n",
    "    for j,channel in enumerate(channels):\n",
    "        CACs[i][j] = df_channels.loc[i, channel]/attribution_bymonth[i][channel]\n",
    "CACs = pd.DataFrame(CACs,columns=channels)\n",
    "CACs[\"date\"] = months\n",
    "CACs.set_index(\"date\")"
   ]
  },
  {
   "cell_type": "markdown",
   "id": "6f6aad93",
   "metadata": {},
   "source": [
    "Now, we get the amount of CAC for each channel each month.<br>\n",
    "Given the CACs calculated, **facebook**, **search**, **email_blast**, **pinterest**, and **referral** are more efficient channels."
   ]
  },
  {
   "cell_type": "markdown",
   "id": "340b30ab",
   "metadata": {},
   "source": [
    "Next, let's try calculate marginal CAC."
   ]
  },
  {
   "cell_type": "code",
   "execution_count": 55,
   "id": "d1c6748e",
   "metadata": {},
   "outputs": [],
   "source": [
    "# Store attribution in the dictionary to a dataframe\n",
    "\n",
    "df_attr = deepcopy(df_channels)\n",
    "df_attr.drop(columns = 'date', inplace = True)\n",
    "for i, attribution in enumerate(attribution_bymonth):\n",
    "    df_attr.loc[i,:] = list(attribution.values())\n",
    "df_attr['date'] = months"
   ]
  },
  {
   "cell_type": "markdown",
   "id": "05262076",
   "metadata": {},
   "source": [
    "Since data of June 2019 is very different from data of other months, we exclude it in marginal CAC calculation."
   ]
  },
  {
   "cell_type": "code",
   "execution_count": 56,
   "id": "e18310e3",
   "metadata": {},
   "outputs": [],
   "source": [
    "df_count = df_attr\n",
    "df_budget = df_channels"
   ]
  },
  {
   "cell_type": "code",
   "execution_count": 57,
   "id": "8d3694a9",
   "metadata": {},
   "outputs": [],
   "source": [
    "df_count.drop(index = 0, inplace = True)\n",
    "df_budget.drop(index = 0, inplace = True)"
   ]
  },
  {
   "cell_type": "code",
   "execution_count": 58,
   "id": "2e0f351d",
   "metadata": {},
   "outputs": [],
   "source": [
    "# Build a function that sort and calculate the marginal CAC of each channel\n",
    "\n",
    "def margin_calculator(channel):\n",
    "    \n",
    "    '''\n",
    "    The input of the function is a channel name.\n",
    "    The output of the function is a dataframe containing budget, credit, and marginal CAC.\n",
    "    '''\n",
    "    \n",
    "    df_mc = pd.DataFrame()\n",
    "    df_mc['date'] = df_budget['date']\n",
    "    df_mc['budget'] = df_budget[channel]\n",
    "    df_mc['credit'] = df_count[channel]\n",
    "    \n",
    "    df_mc.sort_values(by = ['budget', 'credit'], inplace = True)\n",
    "    df_mc.reset_index(drop = True, inplace = True)\n",
    "    df_mc['cac'] = df_mc['budget']/df_mc['credit']\n",
    "    \n",
    "    # calculate one distance marginal CAC\n",
    "    list_mc1 = []\n",
    "    for i in df_mc.index:\n",
    "        if i == 0:\n",
    "            mc1 = df_mc.loc[i,'budget']/df_mc.loc[i,'credit']\n",
    "            list_mc1.append(mc1)\n",
    "        else:\n",
    "            mc1 = (df_mc.loc[i,'budget']-df_mc.loc[i-1,'budget'])/(df_mc.loc[i,'credit']-df_mc.loc[i-1,'credit'])\n",
    "            list_mc1.append(mc1)\n",
    "    df_mc['marginal_cac_d1'] = list_mc1\n",
    "    \n",
    "    # calculate two distance marginal CAC\n",
    "    list_mc2 = []\n",
    "    for i in df_mc.index:\n",
    "        if i in [0,1] :\n",
    "            mc2 = df_mc.loc[i,'budget']/df_mc.loc[i,'credit']\n",
    "            list_mc2.append(mc2)\n",
    "        else:\n",
    "            mc2 = (df_mc.loc[i,'budget']-df_mc.loc[i-2,'budget'])/(df_mc.loc[i,'credit']-df_mc.loc[i-2,'credit'])\n",
    "            list_mc2.append(mc2)\n",
    "    df_mc['marginal_cac_d2'] = list_mc2\n",
    "    \n",
    "    # calculate three distance marginal CAC\n",
    "    list_mc3 = []\n",
    "    for i in df_mc.index:\n",
    "        if i in [0,1,2] :\n",
    "            mc3 = df_mc.loc[i,'budget']/df_mc.loc[i,'credit']\n",
    "            list_mc3.append(mc3)\n",
    "        else:\n",
    "            mc3 = (df_mc.loc[i,'budget']-df_mc.loc[i-3,'budget'])/(df_mc.loc[i,'credit']-df_mc.loc[i-3,'credit'])\n",
    "            list_mc3.append(mc3)\n",
    "    df_mc['marginal_cac_d3'] = list_mc3\n",
    "    \n",
    "    # Find the highest CAC among all three distances\n",
    "    \n",
    "    cacs = ['marginal_cac_d1', 'marginal_cac_d2', 'marginal_cac_d3']\n",
    "    list_mc = []\n",
    "    for i in df_mc.index:\n",
    "        mc = df_mc.loc[i,cacs].max()\n",
    "        list_mc.append(mc)\n",
    "    df_mc['marginal_cac'] = list_mc\n",
    "            \n",
    "    return df_mc"
   ]
  },
  {
   "cell_type": "code",
   "execution_count": 59,
   "id": "b0ff4e6a",
   "metadata": {},
   "outputs": [],
   "source": [
    "# Calculate marginal CACs for all channels\n",
    "\n",
    "marginal_cac = deepcopy(credit)\n",
    "\n",
    "for channel in channels:\n",
    "    marginal_cac[channel] = margin_calculator(channel)"
   ]
  },
  {
   "cell_type": "markdown",
   "id": "2ccbaccd",
   "metadata": {},
   "source": [
    "Next, let's take a look at marginal CAC's for all channels.<br>\n",
    "We don't put them all collaborated marginal costs together because what we got here is a very biased estimation of marginal CAC and we need to go back to budgets and credits to see if our marginal CACs are reasonable."
   ]
  },
  {
   "cell_type": "markdown",
   "id": "20609bfd",
   "metadata": {},
   "source": [
    "There are several points we want to focus on when looking at marginal CAC for each channel.<br>\n",
    "First, we want to see if average cac is decreasing as budget goes up.<br>\n",
    "Second, we want to rely on marginal CAC of distance 1, 2, and 3 to form a general sense of the marginal CAC for this channel. We take the most conservative approach and keep the largest of the three as the marginal CAC.<br>\n",
    "Third, we want to pay close attention to date. If there is an unorthodox marginal CAC and the data involved in its calculation is from the early month, e.g., 2019/07, the marginal CAC may have little value for us."
   ]
  },
  {
   "cell_type": "code",
   "execution_count": 60,
   "id": "aa28a247",
   "metadata": {
    "scrolled": true
   },
   "outputs": [
    {
     "name": "stdout",
     "output_type": "stream",
     "text": [
      "facebook\n"
     ]
    },
    {
     "data": {
      "text/html": [
       "<div>\n",
       "<style scoped>\n",
       "    .dataframe tbody tr th:only-of-type {\n",
       "        vertical-align: middle;\n",
       "    }\n",
       "\n",
       "    .dataframe tbody tr th {\n",
       "        vertical-align: top;\n",
       "    }\n",
       "\n",
       "    .dataframe thead th {\n",
       "        text-align: right;\n",
       "    }\n",
       "</style>\n",
       "<table border=\"1\" class=\"dataframe\">\n",
       "  <thead>\n",
       "    <tr style=\"text-align: right;\">\n",
       "      <th></th>\n",
       "      <th>date</th>\n",
       "      <th>budget</th>\n",
       "      <th>credit</th>\n",
       "      <th>cac</th>\n",
       "      <th>marginal_cac_d1</th>\n",
       "      <th>marginal_cac_d2</th>\n",
       "      <th>marginal_cac_d3</th>\n",
       "      <th>marginal_cac</th>\n",
       "    </tr>\n",
       "  </thead>\n",
       "  <tbody>\n",
       "    <tr>\n",
       "      <th>0</th>\n",
       "      <td>2020/01</td>\n",
       "      <td>49000</td>\n",
       "      <td>3269.0</td>\n",
       "      <td>14.989293</td>\n",
       "      <td>14.989293</td>\n",
       "      <td>14.989293</td>\n",
       "      <td>14.989293</td>\n",
       "      <td>14.989293</td>\n",
       "    </tr>\n",
       "    <tr>\n",
       "      <th>1</th>\n",
       "      <td>2019/09</td>\n",
       "      <td>49000</td>\n",
       "      <td>3693.0</td>\n",
       "      <td>13.268346</td>\n",
       "      <td>0.000000</td>\n",
       "      <td>13.268346</td>\n",
       "      <td>13.268346</td>\n",
       "      <td>13.268346</td>\n",
       "    </tr>\n",
       "    <tr>\n",
       "      <th>2</th>\n",
       "      <td>2020/03</td>\n",
       "      <td>49100</td>\n",
       "      <td>3393.5</td>\n",
       "      <td>14.468837</td>\n",
       "      <td>-0.333890</td>\n",
       "      <td>0.803213</td>\n",
       "      <td>14.468837</td>\n",
       "      <td>14.468837</td>\n",
       "    </tr>\n",
       "    <tr>\n",
       "      <th>3</th>\n",
       "      <td>2020/02</td>\n",
       "      <td>49700</td>\n",
       "      <td>3829.0</td>\n",
       "      <td>12.979890</td>\n",
       "      <td>1.377727</td>\n",
       "      <td>5.147059</td>\n",
       "      <td>1.250000</td>\n",
       "      <td>5.147059</td>\n",
       "    </tr>\n",
       "    <tr>\n",
       "      <th>4</th>\n",
       "      <td>2019/10</td>\n",
       "      <td>51300</td>\n",
       "      <td>4238.5</td>\n",
       "      <td>12.103338</td>\n",
       "      <td>3.907204</td>\n",
       "      <td>2.603550</td>\n",
       "      <td>4.216315</td>\n",
       "      <td>4.216315</td>\n",
       "    </tr>\n",
       "    <tr>\n",
       "      <th>5</th>\n",
       "      <td>2019/12</td>\n",
       "      <td>51400</td>\n",
       "      <td>4203.0</td>\n",
       "      <td>12.229360</td>\n",
       "      <td>-2.816901</td>\n",
       "      <td>4.545455</td>\n",
       "      <td>2.841260</td>\n",
       "      <td>4.545455</td>\n",
       "    </tr>\n",
       "    <tr>\n",
       "      <th>6</th>\n",
       "      <td>2019/08</td>\n",
       "      <td>52300</td>\n",
       "      <td>4884.5</td>\n",
       "      <td>10.707340</td>\n",
       "      <td>1.320616</td>\n",
       "      <td>1.547988</td>\n",
       "      <td>2.463288</td>\n",
       "      <td>2.463288</td>\n",
       "    </tr>\n",
       "    <tr>\n",
       "      <th>7</th>\n",
       "      <td>2019/11</td>\n",
       "      <td>56100</td>\n",
       "      <td>5827.0</td>\n",
       "      <td>9.627596</td>\n",
       "      <td>4.031830</td>\n",
       "      <td>2.894089</td>\n",
       "      <td>3.021719</td>\n",
       "      <td>4.031830</td>\n",
       "    </tr>\n",
       "    <tr>\n",
       "      <th>8</th>\n",
       "      <td>2019/07</td>\n",
       "      <td>60000</td>\n",
       "      <td>4841.5</td>\n",
       "      <td>12.392853</td>\n",
       "      <td>-3.957382</td>\n",
       "      <td>-179.069767</td>\n",
       "      <td>13.469068</td>\n",
       "      <td>13.469068</td>\n",
       "    </tr>\n",
       "  </tbody>\n",
       "</table>\n",
       "</div>"
      ],
      "text/plain": [
       "      date  budget  credit        cac  marginal_cac_d1  marginal_cac_d2  \\\n",
       "0  2020/01   49000  3269.0  14.989293        14.989293        14.989293   \n",
       "1  2019/09   49000  3693.0  13.268346         0.000000        13.268346   \n",
       "2  2020/03   49100  3393.5  14.468837        -0.333890         0.803213   \n",
       "3  2020/02   49700  3829.0  12.979890         1.377727         5.147059   \n",
       "4  2019/10   51300  4238.5  12.103338         3.907204         2.603550   \n",
       "5  2019/12   51400  4203.0  12.229360        -2.816901         4.545455   \n",
       "6  2019/08   52300  4884.5  10.707340         1.320616         1.547988   \n",
       "7  2019/11   56100  5827.0   9.627596         4.031830         2.894089   \n",
       "8  2019/07   60000  4841.5  12.392853        -3.957382      -179.069767   \n",
       "\n",
       "   marginal_cac_d3  marginal_cac  \n",
       "0        14.989293     14.989293  \n",
       "1        13.268346     13.268346  \n",
       "2        14.468837     14.468837  \n",
       "3         1.250000      5.147059  \n",
       "4         4.216315      4.216315  \n",
       "5         2.841260      4.545455  \n",
       "6         2.463288      2.463288  \n",
       "7         3.021719      4.031830  \n",
       "8        13.469068     13.469068  "
      ]
     },
     "execution_count": 60,
     "metadata": {},
     "output_type": "execute_result"
    }
   ],
   "source": [
    "print(channels[0])\n",
    "marginal_cac[channels[0]]"
   ]
  },
  {
   "cell_type": "markdown",
   "id": "7d573980",
   "metadata": {},
   "source": [
    "CAC for Facebook is decreasing as budget increases.<br>\n",
    "Our marginal CAC estimate is also decreasing as budget increases. <br>\n",
    "We ignore last marginal CAC because it's data from the early month 2019/07.<br>\n",
    "We don't expect to see increase in marginal CAC if we increase budget above 56000.<br>\n",
    "Therefore, we might want to allocate more budget on this channel."
   ]
  },
  {
   "cell_type": "code",
   "execution_count": 61,
   "id": "d7e02352",
   "metadata": {},
   "outputs": [
    {
     "name": "stdout",
     "output_type": "stream",
     "text": [
      "email\n"
     ]
    },
    {
     "data": {
      "text/html": [
       "<div>\n",
       "<style scoped>\n",
       "    .dataframe tbody tr th:only-of-type {\n",
       "        vertical-align: middle;\n",
       "    }\n",
       "\n",
       "    .dataframe tbody tr th {\n",
       "        vertical-align: top;\n",
       "    }\n",
       "\n",
       "    .dataframe thead th {\n",
       "        text-align: right;\n",
       "    }\n",
       "</style>\n",
       "<table border=\"1\" class=\"dataframe\">\n",
       "  <thead>\n",
       "    <tr style=\"text-align: right;\">\n",
       "      <th></th>\n",
       "      <th>date</th>\n",
       "      <th>budget</th>\n",
       "      <th>credit</th>\n",
       "      <th>cac</th>\n",
       "      <th>marginal_cac_d1</th>\n",
       "      <th>marginal_cac_d2</th>\n",
       "      <th>marginal_cac_d3</th>\n",
       "      <th>marginal_cac</th>\n",
       "    </tr>\n",
       "  </thead>\n",
       "  <tbody>\n",
       "    <tr>\n",
       "      <th>0</th>\n",
       "      <td>2020/01</td>\n",
       "      <td>75500</td>\n",
       "      <td>633.5</td>\n",
       "      <td>119.179163</td>\n",
       "      <td>119.179163</td>\n",
       "      <td>119.179163</td>\n",
       "      <td>119.179163</td>\n",
       "      <td>119.179163</td>\n",
       "    </tr>\n",
       "    <tr>\n",
       "      <th>1</th>\n",
       "      <td>2019/07</td>\n",
       "      <td>75600</td>\n",
       "      <td>910.5</td>\n",
       "      <td>83.031301</td>\n",
       "      <td>0.361011</td>\n",
       "      <td>83.031301</td>\n",
       "      <td>83.031301</td>\n",
       "      <td>83.031301</td>\n",
       "    </tr>\n",
       "    <tr>\n",
       "      <th>2</th>\n",
       "      <td>2019/09</td>\n",
       "      <td>75800</td>\n",
       "      <td>605.0</td>\n",
       "      <td>125.289256</td>\n",
       "      <td>-0.654664</td>\n",
       "      <td>-10.526316</td>\n",
       "      <td>125.289256</td>\n",
       "      <td>125.289256</td>\n",
       "    </tr>\n",
       "    <tr>\n",
       "      <th>3</th>\n",
       "      <td>2019/11</td>\n",
       "      <td>75900</td>\n",
       "      <td>628.5</td>\n",
       "      <td>120.763723</td>\n",
       "      <td>4.255319</td>\n",
       "      <td>-1.063830</td>\n",
       "      <td>-80.000000</td>\n",
       "      <td>4.255319</td>\n",
       "    </tr>\n",
       "    <tr>\n",
       "      <th>4</th>\n",
       "      <td>2019/10</td>\n",
       "      <td>76000</td>\n",
       "      <td>564.0</td>\n",
       "      <td>134.751773</td>\n",
       "      <td>-1.550388</td>\n",
       "      <td>-4.878049</td>\n",
       "      <td>-1.154401</td>\n",
       "      <td>-1.154401</td>\n",
       "    </tr>\n",
       "    <tr>\n",
       "      <th>5</th>\n",
       "      <td>2019/12</td>\n",
       "      <td>76100</td>\n",
       "      <td>638.5</td>\n",
       "      <td>119.185591</td>\n",
       "      <td>1.342282</td>\n",
       "      <td>20.000000</td>\n",
       "      <td>8.955224</td>\n",
       "      <td>20.000000</td>\n",
       "    </tr>\n",
       "    <tr>\n",
       "      <th>6</th>\n",
       "      <td>2019/08</td>\n",
       "      <td>76100</td>\n",
       "      <td>773.5</td>\n",
       "      <td>98.383969</td>\n",
       "      <td>0.000000</td>\n",
       "      <td>0.477327</td>\n",
       "      <td>1.379310</td>\n",
       "      <td>1.379310</td>\n",
       "    </tr>\n",
       "    <tr>\n",
       "      <th>7</th>\n",
       "      <td>2020/02</td>\n",
       "      <td>76600</td>\n",
       "      <td>769.5</td>\n",
       "      <td>99.545159</td>\n",
       "      <td>-125.000000</td>\n",
       "      <td>3.816794</td>\n",
       "      <td>2.919708</td>\n",
       "      <td>3.816794</td>\n",
       "    </tr>\n",
       "    <tr>\n",
       "      <th>8</th>\n",
       "      <td>2020/03</td>\n",
       "      <td>78000</td>\n",
       "      <td>822.0</td>\n",
       "      <td>94.890511</td>\n",
       "      <td>26.666667</td>\n",
       "      <td>39.175258</td>\n",
       "      <td>10.354223</td>\n",
       "      <td>39.175258</td>\n",
       "    </tr>\n",
       "  </tbody>\n",
       "</table>\n",
       "</div>"
      ],
      "text/plain": [
       "      date  budget  credit         cac  marginal_cac_d1  marginal_cac_d2  \\\n",
       "0  2020/01   75500   633.5  119.179163       119.179163       119.179163   \n",
       "1  2019/07   75600   910.5   83.031301         0.361011        83.031301   \n",
       "2  2019/09   75800   605.0  125.289256        -0.654664       -10.526316   \n",
       "3  2019/11   75900   628.5  120.763723         4.255319        -1.063830   \n",
       "4  2019/10   76000   564.0  134.751773        -1.550388        -4.878049   \n",
       "5  2019/12   76100   638.5  119.185591         1.342282        20.000000   \n",
       "6  2019/08   76100   773.5   98.383969         0.000000         0.477327   \n",
       "7  2020/02   76600   769.5   99.545159      -125.000000         3.816794   \n",
       "8  2020/03   78000   822.0   94.890511        26.666667        39.175258   \n",
       "\n",
       "   marginal_cac_d3  marginal_cac  \n",
       "0       119.179163    119.179163  \n",
       "1        83.031301     83.031301  \n",
       "2       125.289256    125.289256  \n",
       "3       -80.000000      4.255319  \n",
       "4        -1.154401     -1.154401  \n",
       "5         8.955224     20.000000  \n",
       "6         1.379310      1.379310  \n",
       "7         2.919708      3.816794  \n",
       "8        10.354223     39.175258  "
      ]
     },
     "execution_count": 61,
     "metadata": {},
     "output_type": "execute_result"
    }
   ],
   "source": [
    "print(channels[1])\n",
    "marginal_cac[channels[1]]"
   ]
  },
  {
   "cell_type": "markdown",
   "id": "89cd5573",
   "metadata": {},
   "source": [
    "CAC for Email is decreasing as budget increases.<br>\n",
    "Our marginal CAC estimate seems to be smallest around budget 76000-76100. <br>\n",
    "But no matter how efficient marginal CACs are, the average CAC is always high.<br>\n",
    "Therefore, we might want to decrease budget on this channel."
   ]
  },
  {
   "cell_type": "code",
   "execution_count": 62,
   "id": "e251f568",
   "metadata": {},
   "outputs": [
    {
     "name": "stdout",
     "output_type": "stream",
     "text": [
      "search\n"
     ]
    },
    {
     "data": {
      "text/html": [
       "<div>\n",
       "<style scoped>\n",
       "    .dataframe tbody tr th:only-of-type {\n",
       "        vertical-align: middle;\n",
       "    }\n",
       "\n",
       "    .dataframe tbody tr th {\n",
       "        vertical-align: top;\n",
       "    }\n",
       "\n",
       "    .dataframe thead th {\n",
       "        text-align: right;\n",
       "    }\n",
       "</style>\n",
       "<table border=\"1\" class=\"dataframe\">\n",
       "  <thead>\n",
       "    <tr style=\"text-align: right;\">\n",
       "      <th></th>\n",
       "      <th>date</th>\n",
       "      <th>budget</th>\n",
       "      <th>credit</th>\n",
       "      <th>cac</th>\n",
       "      <th>marginal_cac_d1</th>\n",
       "      <th>marginal_cac_d2</th>\n",
       "      <th>marginal_cac_d3</th>\n",
       "      <th>marginal_cac</th>\n",
       "    </tr>\n",
       "  </thead>\n",
       "  <tbody>\n",
       "    <tr>\n",
       "      <th>0</th>\n",
       "      <td>2019/07</td>\n",
       "      <td>17300</td>\n",
       "      <td>381.0</td>\n",
       "      <td>45.406824</td>\n",
       "      <td>45.406824</td>\n",
       "      <td>45.406824</td>\n",
       "      <td>45.406824</td>\n",
       "      <td>45.406824</td>\n",
       "    </tr>\n",
       "    <tr>\n",
       "      <th>1</th>\n",
       "      <td>2019/08</td>\n",
       "      <td>18100</td>\n",
       "      <td>587.5</td>\n",
       "      <td>30.808511</td>\n",
       "      <td>3.874092</td>\n",
       "      <td>30.808511</td>\n",
       "      <td>30.808511</td>\n",
       "      <td>30.808511</td>\n",
       "    </tr>\n",
       "    <tr>\n",
       "      <th>2</th>\n",
       "      <td>2019/09</td>\n",
       "      <td>18900</td>\n",
       "      <td>544.0</td>\n",
       "      <td>34.742647</td>\n",
       "      <td>-18.390805</td>\n",
       "      <td>9.815951</td>\n",
       "      <td>34.742647</td>\n",
       "      <td>34.742647</td>\n",
       "    </tr>\n",
       "    <tr>\n",
       "      <th>3</th>\n",
       "      <td>2019/10</td>\n",
       "      <td>21000</td>\n",
       "      <td>627.0</td>\n",
       "      <td>33.492823</td>\n",
       "      <td>25.301205</td>\n",
       "      <td>73.417722</td>\n",
       "      <td>15.040650</td>\n",
       "      <td>73.417722</td>\n",
       "    </tr>\n",
       "    <tr>\n",
       "      <th>4</th>\n",
       "      <td>2019/11</td>\n",
       "      <td>21400</td>\n",
       "      <td>710.5</td>\n",
       "      <td>30.119634</td>\n",
       "      <td>4.790419</td>\n",
       "      <td>15.015015</td>\n",
       "      <td>26.829268</td>\n",
       "      <td>26.829268</td>\n",
       "    </tr>\n",
       "    <tr>\n",
       "      <th>5</th>\n",
       "      <td>2020/03</td>\n",
       "      <td>22700</td>\n",
       "      <td>941.0</td>\n",
       "      <td>24.123273</td>\n",
       "      <td>5.639913</td>\n",
       "      <td>5.414013</td>\n",
       "      <td>9.571788</td>\n",
       "      <td>9.571788</td>\n",
       "    </tr>\n",
       "    <tr>\n",
       "      <th>6</th>\n",
       "      <td>2020/02</td>\n",
       "      <td>30100</td>\n",
       "      <td>1235.0</td>\n",
       "      <td>24.372470</td>\n",
       "      <td>25.170068</td>\n",
       "      <td>16.587226</td>\n",
       "      <td>14.967105</td>\n",
       "      <td>25.170068</td>\n",
       "    </tr>\n",
       "    <tr>\n",
       "      <th>7</th>\n",
       "      <td>2019/12</td>\n",
       "      <td>32100</td>\n",
       "      <td>986.0</td>\n",
       "      <td>32.555781</td>\n",
       "      <td>-8.032129</td>\n",
       "      <td>208.888889</td>\n",
       "      <td>38.838475</td>\n",
       "      <td>208.888889</td>\n",
       "    </tr>\n",
       "    <tr>\n",
       "      <th>8</th>\n",
       "      <td>2020/01</td>\n",
       "      <td>33600</td>\n",
       "      <td>1188.0</td>\n",
       "      <td>28.282828</td>\n",
       "      <td>7.425743</td>\n",
       "      <td>-74.468085</td>\n",
       "      <td>44.129555</td>\n",
       "      <td>44.129555</td>\n",
       "    </tr>\n",
       "  </tbody>\n",
       "</table>\n",
       "</div>"
      ],
      "text/plain": [
       "      date  budget  credit        cac  marginal_cac_d1  marginal_cac_d2  \\\n",
       "0  2019/07   17300   381.0  45.406824        45.406824        45.406824   \n",
       "1  2019/08   18100   587.5  30.808511         3.874092        30.808511   \n",
       "2  2019/09   18900   544.0  34.742647       -18.390805         9.815951   \n",
       "3  2019/10   21000   627.0  33.492823        25.301205        73.417722   \n",
       "4  2019/11   21400   710.5  30.119634         4.790419        15.015015   \n",
       "5  2020/03   22700   941.0  24.123273         5.639913         5.414013   \n",
       "6  2020/02   30100  1235.0  24.372470        25.170068        16.587226   \n",
       "7  2019/12   32100   986.0  32.555781        -8.032129       208.888889   \n",
       "8  2020/01   33600  1188.0  28.282828         7.425743       -74.468085   \n",
       "\n",
       "   marginal_cac_d3  marginal_cac  \n",
       "0        45.406824     45.406824  \n",
       "1        30.808511     30.808511  \n",
       "2        34.742647     34.742647  \n",
       "3        15.040650     73.417722  \n",
       "4        26.829268     26.829268  \n",
       "5         9.571788      9.571788  \n",
       "6        14.967105     25.170068  \n",
       "7        38.838475    208.888889  \n",
       "8        44.129555     44.129555  "
      ]
     },
     "execution_count": 62,
     "metadata": {},
     "output_type": "execute_result"
    }
   ],
   "source": [
    "print(channels[2])\n",
    "marginal_cac[channels[2]]"
   ]
  },
  {
   "cell_type": "markdown",
   "id": "73bf4313",
   "metadata": {},
   "source": [
    "CAC for Search is smallest when budget is between 22700 and 30100.<br>\n",
    "Our marginal CAC estimate shows the same pattern, with mininal marginal CAC between 21400 and 22700. <br>\n",
    "This is a strong sign that if we increase budget, we will get greater marginal CAC and the channel would be less efficient.<br>\n",
    "Therefore, we might want to keep the budget around 22000."
   ]
  },
  {
   "cell_type": "code",
   "execution_count": 63,
   "id": "ef3b0719",
   "metadata": {},
   "outputs": [
    {
     "name": "stdout",
     "output_type": "stream",
     "text": [
      "brand sem intent google\n"
     ]
    },
    {
     "data": {
      "text/html": [
       "<div>\n",
       "<style scoped>\n",
       "    .dataframe tbody tr th:only-of-type {\n",
       "        vertical-align: middle;\n",
       "    }\n",
       "\n",
       "    .dataframe tbody tr th {\n",
       "        vertical-align: top;\n",
       "    }\n",
       "\n",
       "    .dataframe thead th {\n",
       "        text-align: right;\n",
       "    }\n",
       "</style>\n",
       "<table border=\"1\" class=\"dataframe\">\n",
       "  <thead>\n",
       "    <tr style=\"text-align: right;\">\n",
       "      <th></th>\n",
       "      <th>date</th>\n",
       "      <th>budget</th>\n",
       "      <th>credit</th>\n",
       "      <th>cac</th>\n",
       "      <th>marginal_cac_d1</th>\n",
       "      <th>marginal_cac_d2</th>\n",
       "      <th>marginal_cac_d3</th>\n",
       "      <th>marginal_cac</th>\n",
       "    </tr>\n",
       "  </thead>\n",
       "  <tbody>\n",
       "    <tr>\n",
       "      <th>0</th>\n",
       "      <td>2020/03</td>\n",
       "      <td>21200</td>\n",
       "      <td>521.5</td>\n",
       "      <td>40.651965</td>\n",
       "      <td>40.651965</td>\n",
       "      <td>40.651965</td>\n",
       "      <td>40.651965</td>\n",
       "      <td>40.651965</td>\n",
       "    </tr>\n",
       "    <tr>\n",
       "      <th>1</th>\n",
       "      <td>2019/09</td>\n",
       "      <td>21300</td>\n",
       "      <td>467.5</td>\n",
       "      <td>45.561497</td>\n",
       "      <td>-1.851852</td>\n",
       "      <td>45.561497</td>\n",
       "      <td>45.561497</td>\n",
       "      <td>45.561497</td>\n",
       "    </tr>\n",
       "    <tr>\n",
       "      <th>2</th>\n",
       "      <td>2019/08</td>\n",
       "      <td>21300</td>\n",
       "      <td>583.0</td>\n",
       "      <td>36.535163</td>\n",
       "      <td>0.000000</td>\n",
       "      <td>1.626016</td>\n",
       "      <td>36.535163</td>\n",
       "      <td>36.535163</td>\n",
       "    </tr>\n",
       "    <tr>\n",
       "      <th>3</th>\n",
       "      <td>2019/07</td>\n",
       "      <td>21300</td>\n",
       "      <td>600.0</td>\n",
       "      <td>35.500000</td>\n",
       "      <td>0.000000</td>\n",
       "      <td>0.000000</td>\n",
       "      <td>1.273885</td>\n",
       "      <td>1.273885</td>\n",
       "    </tr>\n",
       "    <tr>\n",
       "      <th>4</th>\n",
       "      <td>2019/10</td>\n",
       "      <td>21400</td>\n",
       "      <td>475.0</td>\n",
       "      <td>45.052632</td>\n",
       "      <td>-0.800000</td>\n",
       "      <td>-0.925926</td>\n",
       "      <td>13.333333</td>\n",
       "      <td>13.333333</td>\n",
       "    </tr>\n",
       "    <tr>\n",
       "      <th>5</th>\n",
       "      <td>2019/11</td>\n",
       "      <td>21600</td>\n",
       "      <td>586.5</td>\n",
       "      <td>36.828645</td>\n",
       "      <td>1.793722</td>\n",
       "      <td>-22.222222</td>\n",
       "      <td>85.714286</td>\n",
       "      <td>85.714286</td>\n",
       "    </tr>\n",
       "    <tr>\n",
       "      <th>6</th>\n",
       "      <td>2020/02</td>\n",
       "      <td>21700</td>\n",
       "      <td>695.5</td>\n",
       "      <td>31.200575</td>\n",
       "      <td>0.917431</td>\n",
       "      <td>1.360544</td>\n",
       "      <td>4.188482</td>\n",
       "      <td>4.188482</td>\n",
       "    </tr>\n",
       "    <tr>\n",
       "      <th>7</th>\n",
       "      <td>2019/12</td>\n",
       "      <td>22200</td>\n",
       "      <td>711.5</td>\n",
       "      <td>31.201687</td>\n",
       "      <td>31.250000</td>\n",
       "      <td>4.800000</td>\n",
       "      <td>3.382664</td>\n",
       "      <td>31.250000</td>\n",
       "    </tr>\n",
       "    <tr>\n",
       "      <th>8</th>\n",
       "      <td>2020/01</td>\n",
       "      <td>22700</td>\n",
       "      <td>816.0</td>\n",
       "      <td>27.818627</td>\n",
       "      <td>4.784689</td>\n",
       "      <td>8.298755</td>\n",
       "      <td>4.793028</td>\n",
       "      <td>8.298755</td>\n",
       "    </tr>\n",
       "  </tbody>\n",
       "</table>\n",
       "</div>"
      ],
      "text/plain": [
       "      date  budget  credit        cac  marginal_cac_d1  marginal_cac_d2  \\\n",
       "0  2020/03   21200   521.5  40.651965        40.651965        40.651965   \n",
       "1  2019/09   21300   467.5  45.561497        -1.851852        45.561497   \n",
       "2  2019/08   21300   583.0  36.535163         0.000000         1.626016   \n",
       "3  2019/07   21300   600.0  35.500000         0.000000         0.000000   \n",
       "4  2019/10   21400   475.0  45.052632        -0.800000        -0.925926   \n",
       "5  2019/11   21600   586.5  36.828645         1.793722       -22.222222   \n",
       "6  2020/02   21700   695.5  31.200575         0.917431         1.360544   \n",
       "7  2019/12   22200   711.5  31.201687        31.250000         4.800000   \n",
       "8  2020/01   22700   816.0  27.818627         4.784689         8.298755   \n",
       "\n",
       "   marginal_cac_d3  marginal_cac  \n",
       "0        40.651965     40.651965  \n",
       "1        45.561497     45.561497  \n",
       "2        36.535163     36.535163  \n",
       "3         1.273885      1.273885  \n",
       "4        13.333333     13.333333  \n",
       "5        85.714286     85.714286  \n",
       "6         4.188482      4.188482  \n",
       "7         3.382664     31.250000  \n",
       "8         4.793028      8.298755  "
      ]
     },
     "execution_count": 63,
     "metadata": {},
     "output_type": "execute_result"
    }
   ],
   "source": [
    "print(channels[3])\n",
    "marginal_cac[channels[3]]"
   ]
  },
  {
   "cell_type": "markdown",
   "id": "12c6f05d",
   "metadata": {},
   "source": [
    "CAC for Brand Sem Intent Google shows a general trend of decreasing.<br>\n",
    "Our marginal CAC estimate shows an unstable pattern. <br>\n",
    "Although marginal CAC for this channel is confusing, there is evidence that the marginal CAC will remain low if we increase the budget.<br>\n",
    "Therefore, we might want to increase the budget."
   ]
  },
  {
   "cell_type": "code",
   "execution_count": 64,
   "id": "9a1d2a38",
   "metadata": {},
   "outputs": [
    {
     "name": "stdout",
     "output_type": "stream",
     "text": [
      "affiliate\n"
     ]
    },
    {
     "data": {
      "text/html": [
       "<div>\n",
       "<style scoped>\n",
       "    .dataframe tbody tr th:only-of-type {\n",
       "        vertical-align: middle;\n",
       "    }\n",
       "\n",
       "    .dataframe tbody tr th {\n",
       "        vertical-align: top;\n",
       "    }\n",
       "\n",
       "    .dataframe thead th {\n",
       "        text-align: right;\n",
       "    }\n",
       "</style>\n",
       "<table border=\"1\" class=\"dataframe\">\n",
       "  <thead>\n",
       "    <tr style=\"text-align: right;\">\n",
       "      <th></th>\n",
       "      <th>date</th>\n",
       "      <th>budget</th>\n",
       "      <th>credit</th>\n",
       "      <th>cac</th>\n",
       "      <th>marginal_cac_d1</th>\n",
       "      <th>marginal_cac_d2</th>\n",
       "      <th>marginal_cac_d3</th>\n",
       "      <th>marginal_cac</th>\n",
       "    </tr>\n",
       "  </thead>\n",
       "  <tbody>\n",
       "    <tr>\n",
       "      <th>0</th>\n",
       "      <td>2019/11</td>\n",
       "      <td>11700</td>\n",
       "      <td>126.5</td>\n",
       "      <td>92.490119</td>\n",
       "      <td>92.490119</td>\n",
       "      <td>92.490119</td>\n",
       "      <td>92.490119</td>\n",
       "      <td>92.490119</td>\n",
       "    </tr>\n",
       "    <tr>\n",
       "      <th>1</th>\n",
       "      <td>2019/07</td>\n",
       "      <td>12000</td>\n",
       "      <td>265.5</td>\n",
       "      <td>45.197740</td>\n",
       "      <td>2.158273</td>\n",
       "      <td>45.197740</td>\n",
       "      <td>45.197740</td>\n",
       "      <td>45.197740</td>\n",
       "    </tr>\n",
       "    <tr>\n",
       "      <th>2</th>\n",
       "      <td>2019/12</td>\n",
       "      <td>12100</td>\n",
       "      <td>171.0</td>\n",
       "      <td>70.760234</td>\n",
       "      <td>-1.058201</td>\n",
       "      <td>8.988764</td>\n",
       "      <td>70.760234</td>\n",
       "      <td>70.760234</td>\n",
       "    </tr>\n",
       "    <tr>\n",
       "      <th>3</th>\n",
       "      <td>2019/10</td>\n",
       "      <td>12200</td>\n",
       "      <td>178.0</td>\n",
       "      <td>68.539326</td>\n",
       "      <td>14.285714</td>\n",
       "      <td>-2.285714</td>\n",
       "      <td>9.708738</td>\n",
       "      <td>14.285714</td>\n",
       "    </tr>\n",
       "    <tr>\n",
       "      <th>4</th>\n",
       "      <td>2020/01</td>\n",
       "      <td>14300</td>\n",
       "      <td>282.0</td>\n",
       "      <td>50.709220</td>\n",
       "      <td>20.192308</td>\n",
       "      <td>19.819820</td>\n",
       "      <td>139.393939</td>\n",
       "      <td>139.393939</td>\n",
       "    </tr>\n",
       "    <tr>\n",
       "      <th>5</th>\n",
       "      <td>2020/02</td>\n",
       "      <td>15000</td>\n",
       "      <td>350.0</td>\n",
       "      <td>42.857143</td>\n",
       "      <td>10.294118</td>\n",
       "      <td>16.279070</td>\n",
       "      <td>16.201117</td>\n",
       "      <td>16.279070</td>\n",
       "    </tr>\n",
       "    <tr>\n",
       "      <th>6</th>\n",
       "      <td>2019/08</td>\n",
       "      <td>16300</td>\n",
       "      <td>304.0</td>\n",
       "      <td>53.618421</td>\n",
       "      <td>-28.260870</td>\n",
       "      <td>90.909091</td>\n",
       "      <td>32.539683</td>\n",
       "      <td>90.909091</td>\n",
       "    </tr>\n",
       "    <tr>\n",
       "      <th>7</th>\n",
       "      <td>2019/09</td>\n",
       "      <td>16400</td>\n",
       "      <td>312.5</td>\n",
       "      <td>52.480000</td>\n",
       "      <td>11.764706</td>\n",
       "      <td>-37.333333</td>\n",
       "      <td>68.852459</td>\n",
       "      <td>68.852459</td>\n",
       "    </tr>\n",
       "    <tr>\n",
       "      <th>8</th>\n",
       "      <td>2020/03</td>\n",
       "      <td>17600</td>\n",
       "      <td>380.0</td>\n",
       "      <td>46.315789</td>\n",
       "      <td>17.777778</td>\n",
       "      <td>17.105263</td>\n",
       "      <td>86.666667</td>\n",
       "      <td>86.666667</td>\n",
       "    </tr>\n",
       "  </tbody>\n",
       "</table>\n",
       "</div>"
      ],
      "text/plain": [
       "      date  budget  credit        cac  marginal_cac_d1  marginal_cac_d2  \\\n",
       "0  2019/11   11700   126.5  92.490119        92.490119        92.490119   \n",
       "1  2019/07   12000   265.5  45.197740         2.158273        45.197740   \n",
       "2  2019/12   12100   171.0  70.760234        -1.058201         8.988764   \n",
       "3  2019/10   12200   178.0  68.539326        14.285714        -2.285714   \n",
       "4  2020/01   14300   282.0  50.709220        20.192308        19.819820   \n",
       "5  2020/02   15000   350.0  42.857143        10.294118        16.279070   \n",
       "6  2019/08   16300   304.0  53.618421       -28.260870        90.909091   \n",
       "7  2019/09   16400   312.5  52.480000        11.764706       -37.333333   \n",
       "8  2020/03   17600   380.0  46.315789        17.777778        17.105263   \n",
       "\n",
       "   marginal_cac_d3  marginal_cac  \n",
       "0        92.490119     92.490119  \n",
       "1        45.197740     45.197740  \n",
       "2        70.760234     70.760234  \n",
       "3         9.708738     14.285714  \n",
       "4       139.393939    139.393939  \n",
       "5        16.201117     16.279070  \n",
       "6        32.539683     90.909091  \n",
       "7        68.852459     68.852459  \n",
       "8        86.666667     86.666667  "
      ]
     },
     "execution_count": 64,
     "metadata": {},
     "output_type": "execute_result"
    }
   ],
   "source": [
    "print(channels[4])\n",
    "marginal_cac[channels[4]]"
   ]
  },
  {
   "cell_type": "markdown",
   "id": "e4bd4fac",
   "metadata": {},
   "source": [
    "CAC for Affilicate starts decreasing and then stay relative constant as budget increases.<br>\n",
    "Our marginal CAC estimate shows evidence that marginal CAC will remain constant around 5. <br>\n",
    "Therefore, we might want to increase the budget. How much we want to increase it will be determined by comparison between marginal CACs of channels that worth budget increasing."
   ]
  },
  {
   "cell_type": "code",
   "execution_count": 65,
   "id": "dc209b61",
   "metadata": {},
   "outputs": [
    {
     "name": "stdout",
     "output_type": "stream",
     "text": [
      "email_blast\n"
     ]
    },
    {
     "data": {
      "text/html": [
       "<div>\n",
       "<style scoped>\n",
       "    .dataframe tbody tr th:only-of-type {\n",
       "        vertical-align: middle;\n",
       "    }\n",
       "\n",
       "    .dataframe tbody tr th {\n",
       "        vertical-align: top;\n",
       "    }\n",
       "\n",
       "    .dataframe thead th {\n",
       "        text-align: right;\n",
       "    }\n",
       "</style>\n",
       "<table border=\"1\" class=\"dataframe\">\n",
       "  <thead>\n",
       "    <tr style=\"text-align: right;\">\n",
       "      <th></th>\n",
       "      <th>date</th>\n",
       "      <th>budget</th>\n",
       "      <th>credit</th>\n",
       "      <th>cac</th>\n",
       "      <th>marginal_cac_d1</th>\n",
       "      <th>marginal_cac_d2</th>\n",
       "      <th>marginal_cac_d3</th>\n",
       "      <th>marginal_cac</th>\n",
       "    </tr>\n",
       "  </thead>\n",
       "  <tbody>\n",
       "    <tr>\n",
       "      <th>0</th>\n",
       "      <td>2020/01</td>\n",
       "      <td>300</td>\n",
       "      <td>13.5</td>\n",
       "      <td>22.222222</td>\n",
       "      <td>22.222222</td>\n",
       "      <td>22.222222</td>\n",
       "      <td>22.222222</td>\n",
       "      <td>22.222222</td>\n",
       "    </tr>\n",
       "    <tr>\n",
       "      <th>1</th>\n",
       "      <td>2020/03</td>\n",
       "      <td>300</td>\n",
       "      <td>17.0</td>\n",
       "      <td>17.647059</td>\n",
       "      <td>0.000000</td>\n",
       "      <td>17.647059</td>\n",
       "      <td>17.647059</td>\n",
       "      <td>17.647059</td>\n",
       "    </tr>\n",
       "    <tr>\n",
       "      <th>2</th>\n",
       "      <td>2020/02</td>\n",
       "      <td>300</td>\n",
       "      <td>23.0</td>\n",
       "      <td>13.043478</td>\n",
       "      <td>0.000000</td>\n",
       "      <td>0.000000</td>\n",
       "      <td>13.043478</td>\n",
       "      <td>13.043478</td>\n",
       "    </tr>\n",
       "    <tr>\n",
       "      <th>3</th>\n",
       "      <td>2019/12</td>\n",
       "      <td>3500</td>\n",
       "      <td>123.0</td>\n",
       "      <td>28.455285</td>\n",
       "      <td>32.000000</td>\n",
       "      <td>30.188679</td>\n",
       "      <td>29.223744</td>\n",
       "      <td>32.000000</td>\n",
       "    </tr>\n",
       "    <tr>\n",
       "      <th>4</th>\n",
       "      <td>2019/11</td>\n",
       "      <td>9800</td>\n",
       "      <td>204.5</td>\n",
       "      <td>47.921760</td>\n",
       "      <td>77.300613</td>\n",
       "      <td>52.341598</td>\n",
       "      <td>50.666667</td>\n",
       "      <td>77.300613</td>\n",
       "    </tr>\n",
       "    <tr>\n",
       "      <th>5</th>\n",
       "      <td>2019/07</td>\n",
       "      <td>29800</td>\n",
       "      <td>485.0</td>\n",
       "      <td>61.443299</td>\n",
       "      <td>71.301248</td>\n",
       "      <td>72.651934</td>\n",
       "      <td>63.852814</td>\n",
       "      <td>72.651934</td>\n",
       "    </tr>\n",
       "    <tr>\n",
       "      <th>6</th>\n",
       "      <td>2019/10</td>\n",
       "      <td>32300</td>\n",
       "      <td>305.5</td>\n",
       "      <td>105.728314</td>\n",
       "      <td>-13.927577</td>\n",
       "      <td>222.772277</td>\n",
       "      <td>157.808219</td>\n",
       "      <td>222.772277</td>\n",
       "    </tr>\n",
       "    <tr>\n",
       "      <th>7</th>\n",
       "      <td>2019/08</td>\n",
       "      <td>65900</td>\n",
       "      <td>538.0</td>\n",
       "      <td>122.490706</td>\n",
       "      <td>144.516129</td>\n",
       "      <td>681.132075</td>\n",
       "      <td>168.215892</td>\n",
       "      <td>681.132075</td>\n",
       "    </tr>\n",
       "    <tr>\n",
       "      <th>8</th>\n",
       "      <td>2019/09</td>\n",
       "      <td>73700</td>\n",
       "      <td>501.5</td>\n",
       "      <td>146.959123</td>\n",
       "      <td>-213.698630</td>\n",
       "      <td>211.224490</td>\n",
       "      <td>2660.606061</td>\n",
       "      <td>2660.606061</td>\n",
       "    </tr>\n",
       "  </tbody>\n",
       "</table>\n",
       "</div>"
      ],
      "text/plain": [
       "      date  budget  credit         cac  marginal_cac_d1  marginal_cac_d2  \\\n",
       "0  2020/01     300    13.5   22.222222        22.222222        22.222222   \n",
       "1  2020/03     300    17.0   17.647059         0.000000        17.647059   \n",
       "2  2020/02     300    23.0   13.043478         0.000000         0.000000   \n",
       "3  2019/12    3500   123.0   28.455285        32.000000        30.188679   \n",
       "4  2019/11    9800   204.5   47.921760        77.300613        52.341598   \n",
       "5  2019/07   29800   485.0   61.443299        71.301248        72.651934   \n",
       "6  2019/10   32300   305.5  105.728314       -13.927577       222.772277   \n",
       "7  2019/08   65900   538.0  122.490706       144.516129       681.132075   \n",
       "8  2019/09   73700   501.5  146.959123      -213.698630       211.224490   \n",
       "\n",
       "   marginal_cac_d3  marginal_cac  \n",
       "0        22.222222     22.222222  \n",
       "1        17.647059     17.647059  \n",
       "2        13.043478     13.043478  \n",
       "3        29.223744     32.000000  \n",
       "4        50.666667     77.300613  \n",
       "5        63.852814     72.651934  \n",
       "6       157.808219    222.772277  \n",
       "7       168.215892    681.132075  \n",
       "8      2660.606061   2660.606061  "
      ]
     },
     "execution_count": 65,
     "metadata": {},
     "output_type": "execute_result"
    }
   ],
   "source": [
    "print(channels[5])\n",
    "marginal_cac[channels[5]]"
   ]
  },
  {
   "cell_type": "markdown",
   "id": "1371500d",
   "metadata": {},
   "source": [
    "CAC for Email Blast is increasing as budget increases.<br>\n",
    "Our marginal CAC estimate tells the same story. <br>\n",
    "But it's worth noting that this channel's budget was high when the business just started and went low as time went on.<br>\n",
    "Data from months after 2019/11 informs us that budget over 3500 is definitely not worth the money.<br>\n",
    "But we can see that CAC and marginal CAC is not very high when budget was around 300.\n",
    "Therefore, we might want to have a budget between 300 and 3500 for this channel, just to get more data and find the most efficient budget choice around this interval."
   ]
  },
  {
   "cell_type": "code",
   "execution_count": 66,
   "id": "5061c061",
   "metadata": {},
   "outputs": [
    {
     "name": "stdout",
     "output_type": "stream",
     "text": [
      "pinterest\n"
     ]
    },
    {
     "data": {
      "text/html": [
       "<div>\n",
       "<style scoped>\n",
       "    .dataframe tbody tr th:only-of-type {\n",
       "        vertical-align: middle;\n",
       "    }\n",
       "\n",
       "    .dataframe tbody tr th {\n",
       "        vertical-align: top;\n",
       "    }\n",
       "\n",
       "    .dataframe thead th {\n",
       "        text-align: right;\n",
       "    }\n",
       "</style>\n",
       "<table border=\"1\" class=\"dataframe\">\n",
       "  <thead>\n",
       "    <tr style=\"text-align: right;\">\n",
       "      <th></th>\n",
       "      <th>date</th>\n",
       "      <th>budget</th>\n",
       "      <th>credit</th>\n",
       "      <th>cac</th>\n",
       "      <th>marginal_cac_d1</th>\n",
       "      <th>marginal_cac_d2</th>\n",
       "      <th>marginal_cac_d3</th>\n",
       "      <th>marginal_cac</th>\n",
       "    </tr>\n",
       "  </thead>\n",
       "  <tbody>\n",
       "    <tr>\n",
       "      <th>0</th>\n",
       "      <td>2020/03</td>\n",
       "      <td>5900</td>\n",
       "      <td>212.5</td>\n",
       "      <td>27.764706</td>\n",
       "      <td>27.764706</td>\n",
       "      <td>27.764706</td>\n",
       "      <td>27.764706</td>\n",
       "      <td>27.764706</td>\n",
       "    </tr>\n",
       "    <tr>\n",
       "      <th>1</th>\n",
       "      <td>2019/09</td>\n",
       "      <td>6000</td>\n",
       "      <td>242.5</td>\n",
       "      <td>24.742268</td>\n",
       "      <td>3.333333</td>\n",
       "      <td>24.742268</td>\n",
       "      <td>24.742268</td>\n",
       "      <td>24.742268</td>\n",
       "    </tr>\n",
       "    <tr>\n",
       "      <th>2</th>\n",
       "      <td>2019/07</td>\n",
       "      <td>6000</td>\n",
       "      <td>304.5</td>\n",
       "      <td>19.704433</td>\n",
       "      <td>0.000000</td>\n",
       "      <td>1.086957</td>\n",
       "      <td>19.704433</td>\n",
       "      <td>19.704433</td>\n",
       "    </tr>\n",
       "    <tr>\n",
       "      <th>3</th>\n",
       "      <td>2019/08</td>\n",
       "      <td>6200</td>\n",
       "      <td>311.5</td>\n",
       "      <td>19.903692</td>\n",
       "      <td>28.571429</td>\n",
       "      <td>2.898551</td>\n",
       "      <td>3.030303</td>\n",
       "      <td>28.571429</td>\n",
       "    </tr>\n",
       "    <tr>\n",
       "      <th>4</th>\n",
       "      <td>2019/11</td>\n",
       "      <td>6300</td>\n",
       "      <td>281.0</td>\n",
       "      <td>22.419929</td>\n",
       "      <td>-3.278689</td>\n",
       "      <td>-12.765957</td>\n",
       "      <td>7.792208</td>\n",
       "      <td>7.792208</td>\n",
       "    </tr>\n",
       "    <tr>\n",
       "      <th>5</th>\n",
       "      <td>2020/02</td>\n",
       "      <td>6400</td>\n",
       "      <td>286.5</td>\n",
       "      <td>22.338569</td>\n",
       "      <td>18.181818</td>\n",
       "      <td>-8.000000</td>\n",
       "      <td>-22.222222</td>\n",
       "      <td>18.181818</td>\n",
       "    </tr>\n",
       "    <tr>\n",
       "      <th>6</th>\n",
       "      <td>2019/10</td>\n",
       "      <td>6700</td>\n",
       "      <td>259.5</td>\n",
       "      <td>25.818882</td>\n",
       "      <td>-11.111111</td>\n",
       "      <td>-18.604651</td>\n",
       "      <td>-9.615385</td>\n",
       "      <td>-9.615385</td>\n",
       "    </tr>\n",
       "    <tr>\n",
       "      <th>7</th>\n",
       "      <td>2020/01</td>\n",
       "      <td>6700</td>\n",
       "      <td>302.5</td>\n",
       "      <td>22.148760</td>\n",
       "      <td>0.000000</td>\n",
       "      <td>18.750000</td>\n",
       "      <td>18.604651</td>\n",
       "      <td>18.750000</td>\n",
       "    </tr>\n",
       "    <tr>\n",
       "      <th>8</th>\n",
       "      <td>2019/12</td>\n",
       "      <td>7200</td>\n",
       "      <td>320.0</td>\n",
       "      <td>22.500000</td>\n",
       "      <td>28.571429</td>\n",
       "      <td>8.264463</td>\n",
       "      <td>23.880597</td>\n",
       "      <td>28.571429</td>\n",
       "    </tr>\n",
       "  </tbody>\n",
       "</table>\n",
       "</div>"
      ],
      "text/plain": [
       "      date  budget  credit        cac  marginal_cac_d1  marginal_cac_d2  \\\n",
       "0  2020/03    5900   212.5  27.764706        27.764706        27.764706   \n",
       "1  2019/09    6000   242.5  24.742268         3.333333        24.742268   \n",
       "2  2019/07    6000   304.5  19.704433         0.000000         1.086957   \n",
       "3  2019/08    6200   311.5  19.903692        28.571429         2.898551   \n",
       "4  2019/11    6300   281.0  22.419929        -3.278689       -12.765957   \n",
       "5  2020/02    6400   286.5  22.338569        18.181818        -8.000000   \n",
       "6  2019/10    6700   259.5  25.818882       -11.111111       -18.604651   \n",
       "7  2020/01    6700   302.5  22.148760         0.000000        18.750000   \n",
       "8  2019/12    7200   320.0  22.500000        28.571429         8.264463   \n",
       "\n",
       "   marginal_cac_d3  marginal_cac  \n",
       "0        27.764706     27.764706  \n",
       "1        24.742268     24.742268  \n",
       "2        19.704433     19.704433  \n",
       "3         3.030303     28.571429  \n",
       "4         7.792208      7.792208  \n",
       "5       -22.222222     18.181818  \n",
       "6        -9.615385     -9.615385  \n",
       "7        18.604651     18.750000  \n",
       "8        23.880597     28.571429  "
      ]
     },
     "execution_count": 66,
     "metadata": {},
     "output_type": "execute_result"
    }
   ],
   "source": [
    "print(channels[6])\n",
    "marginal_cac[channels[6]]"
   ]
  },
  {
   "cell_type": "markdown",
   "id": "0d114440",
   "metadata": {},
   "source": [
    "CAC for Pinterset remain relatively constant almost all the time.<br>\n",
    "Our marginal CAC estimate is also very constant around 7. <br>\n",
    "For Pinterest, it had marginal CAC that almost equals CAC, which is a characteristic not seen in other channels.<br>\n",
    "We can't tell how the marginal CAC would go if we increase the budget. But it should not change dramatically and is definitely worth trying.\n",
    "Therefore, we might want to increase the budget, but maybe not by a great amount."
   ]
  },
  {
   "cell_type": "code",
   "execution_count": 805,
   "id": "30ae6daa",
   "metadata": {},
   "outputs": [
    {
     "name": "stdout",
     "output_type": "stream",
     "text": [
      "referral\n"
     ]
    },
    {
     "data": {
      "text/html": [
       "<div>\n",
       "<style scoped>\n",
       "    .dataframe tbody tr th:only-of-type {\n",
       "        vertical-align: middle;\n",
       "    }\n",
       "\n",
       "    .dataframe tbody tr th {\n",
       "        vertical-align: top;\n",
       "    }\n",
       "\n",
       "    .dataframe thead th {\n",
       "        text-align: right;\n",
       "    }\n",
       "</style>\n",
       "<table border=\"1\" class=\"dataframe\">\n",
       "  <thead>\n",
       "    <tr style=\"text-align: right;\">\n",
       "      <th></th>\n",
       "      <th>date</th>\n",
       "      <th>budget</th>\n",
       "      <th>credit</th>\n",
       "      <th>cac</th>\n",
       "      <th>marginal_cac_d1</th>\n",
       "      <th>marginal_cac_d2</th>\n",
       "      <th>marginal_cac_d3</th>\n",
       "      <th>marginal_cac</th>\n",
       "    </tr>\n",
       "  </thead>\n",
       "  <tbody>\n",
       "    <tr>\n",
       "      <th>0</th>\n",
       "      <td>2020/02</td>\n",
       "      <td>6500</td>\n",
       "      <td>998.5</td>\n",
       "      <td>6.509765</td>\n",
       "      <td>6.509765</td>\n",
       "      <td>6.509765</td>\n",
       "      <td>6.509765</td>\n",
       "      <td>6.509765</td>\n",
       "    </tr>\n",
       "    <tr>\n",
       "      <th>1</th>\n",
       "      <td>2019/07</td>\n",
       "      <td>6600</td>\n",
       "      <td>668.0</td>\n",
       "      <td>9.880240</td>\n",
       "      <td>-0.302572</td>\n",
       "      <td>9.880240</td>\n",
       "      <td>9.880240</td>\n",
       "      <td>9.880240</td>\n",
       "    </tr>\n",
       "    <tr>\n",
       "      <th>2</th>\n",
       "      <td>2019/08</td>\n",
       "      <td>6800</td>\n",
       "      <td>747.0</td>\n",
       "      <td>9.103079</td>\n",
       "      <td>2.531646</td>\n",
       "      <td>-1.192843</td>\n",
       "      <td>9.103079</td>\n",
       "      <td>9.103079</td>\n",
       "    </tr>\n",
       "    <tr>\n",
       "      <th>3</th>\n",
       "      <td>2019/10</td>\n",
       "      <td>7300</td>\n",
       "      <td>837.5</td>\n",
       "      <td>8.716418</td>\n",
       "      <td>5.524862</td>\n",
       "      <td>4.129794</td>\n",
       "      <td>-4.968944</td>\n",
       "      <td>5.524862</td>\n",
       "    </tr>\n",
       "    <tr>\n",
       "      <th>4</th>\n",
       "      <td>2019/11</td>\n",
       "      <td>7300</td>\n",
       "      <td>903.5</td>\n",
       "      <td>8.079690</td>\n",
       "      <td>0.000000</td>\n",
       "      <td>3.194888</td>\n",
       "      <td>2.972399</td>\n",
       "      <td>3.194888</td>\n",
       "    </tr>\n",
       "    <tr>\n",
       "      <th>5</th>\n",
       "      <td>2019/09</td>\n",
       "      <td>7400</td>\n",
       "      <td>799.0</td>\n",
       "      <td>9.261577</td>\n",
       "      <td>-0.956938</td>\n",
       "      <td>-2.597403</td>\n",
       "      <td>11.538462</td>\n",
       "      <td>11.538462</td>\n",
       "    </tr>\n",
       "    <tr>\n",
       "      <th>6</th>\n",
       "      <td>2020/01</td>\n",
       "      <td>7400</td>\n",
       "      <td>968.5</td>\n",
       "      <td>7.640681</td>\n",
       "      <td>0.000000</td>\n",
       "      <td>1.538462</td>\n",
       "      <td>0.763359</td>\n",
       "      <td>1.538462</td>\n",
       "    </tr>\n",
       "    <tr>\n",
       "      <th>7</th>\n",
       "      <td>2019/12</td>\n",
       "      <td>8000</td>\n",
       "      <td>908.0</td>\n",
       "      <td>8.810573</td>\n",
       "      <td>-9.917355</td>\n",
       "      <td>5.504587</td>\n",
       "      <td>155.555556</td>\n",
       "      <td>155.555556</td>\n",
       "    </tr>\n",
       "    <tr>\n",
       "      <th>8</th>\n",
       "      <td>2020/03</td>\n",
       "      <td>10000</td>\n",
       "      <td>1033.5</td>\n",
       "      <td>9.675859</td>\n",
       "      <td>15.936255</td>\n",
       "      <td>40.000000</td>\n",
       "      <td>11.087420</td>\n",
       "      <td>40.000000</td>\n",
       "    </tr>\n",
       "  </tbody>\n",
       "</table>\n",
       "</div>"
      ],
      "text/plain": [
       "      date  budget  credit       cac  marginal_cac_d1  marginal_cac_d2  \\\n",
       "0  2020/02    6500   998.5  6.509765         6.509765         6.509765   \n",
       "1  2019/07    6600   668.0  9.880240        -0.302572         9.880240   \n",
       "2  2019/08    6800   747.0  9.103079         2.531646        -1.192843   \n",
       "3  2019/10    7300   837.5  8.716418         5.524862         4.129794   \n",
       "4  2019/11    7300   903.5  8.079690         0.000000         3.194888   \n",
       "5  2019/09    7400   799.0  9.261577        -0.956938        -2.597403   \n",
       "6  2020/01    7400   968.5  7.640681         0.000000         1.538462   \n",
       "7  2019/12    8000   908.0  8.810573        -9.917355         5.504587   \n",
       "8  2020/03   10000  1033.5  9.675859        15.936255        40.000000   \n",
       "\n",
       "   marginal_cac_d3  marginal_cac  \n",
       "0         6.509765      6.509765  \n",
       "1         9.880240      9.880240  \n",
       "2         9.103079      9.103079  \n",
       "3        -4.968944      5.524862  \n",
       "4         2.972399      3.194888  \n",
       "5        11.538462     11.538462  \n",
       "6         0.763359      1.538462  \n",
       "7       155.555556    155.555556  \n",
       "8        11.087420     40.000000  "
      ]
     },
     "execution_count": 805,
     "metadata": {},
     "output_type": "execute_result"
    }
   ],
   "source": [
    "print(channels[7])\n",
    "marginal_cac[channels[7]]"
   ]
  },
  {
   "cell_type": "markdown",
   "id": "7b08e8ef",
   "metadata": {},
   "source": [
    "CAC for Referral remain relatively constant around 9.<br>\n",
    "It's obvious that marginal CAC is still low when the budge increase from 6800 to 7000.<br>\n",
    "The general budget and credit shows that the effect of this channel varies a lot.<br>\n",
    "It we take variance into account, we can have a marginal CAC estimate of 5 between 7000 and 10000.<br>\n",
    "It's hard to tell the trend of these variables since budget differences between different months are too small and the variance of its effect is too large.<br>\n",
    "We can definitely increase budget over 10000 for more understanding about this channel. But if CAC is our primary objective, a budget between 6000 and 10000 is the safe choice."
   ]
  },
  {
   "cell_type": "markdown",
   "id": "4caef714",
   "metadata": {},
   "source": [
    "Let's summarize everything up and come up with an allocation plan."
   ]
  },
  {
   "cell_type": "code",
   "execution_count": 68,
   "id": "706becd2",
   "metadata": {},
   "outputs": [
    {
     "data": {
      "text/plain": [
       "1    228600\n",
       "2    263000\n",
       "3    268500\n",
       "4    228200\n",
       "5    210100\n",
       "6    212600\n",
       "7    209500\n",
       "8    206300\n",
       "9    204800\n",
       "dtype: int64"
      ]
     },
     "execution_count": 68,
     "metadata": {},
     "output_type": "execute_result"
    }
   ],
   "source": [
    "# Calculate budgets for previous months to have a budget expectation.\n",
    "\n",
    "df_channels.apply(lambda x:sum(x[channels]), axis = 1)"
   ]
  },
  {
   "cell_type": "markdown",
   "id": "6d78ffbb",
   "metadata": {},
   "source": [
    "Since our strategy focus on the time period between October and December of year 2021, let's expect budget around 210000."
   ]
  },
  {
   "cell_type": "code",
   "execution_count": 69,
   "id": "85fdde86",
   "metadata": {},
   "outputs": [
    {
     "data": {
      "text/html": [
       "<div>\n",
       "<style scoped>\n",
       "    .dataframe tbody tr th:only-of-type {\n",
       "        vertical-align: middle;\n",
       "    }\n",
       "\n",
       "    .dataframe tbody tr th {\n",
       "        vertical-align: top;\n",
       "    }\n",
       "\n",
       "    .dataframe thead th {\n",
       "        text-align: right;\n",
       "    }\n",
       "</style>\n",
       "<table border=\"1\" class=\"dataframe\">\n",
       "  <thead>\n",
       "    <tr style=\"text-align: right;\">\n",
       "      <th></th>\n",
       "      <th>date</th>\n",
       "      <th>facebook</th>\n",
       "      <th>email</th>\n",
       "      <th>search</th>\n",
       "      <th>brand sem intent google</th>\n",
       "      <th>affiliate</th>\n",
       "      <th>email_blast</th>\n",
       "      <th>pinterest</th>\n",
       "      <th>referral</th>\n",
       "    </tr>\n",
       "  </thead>\n",
       "  <tbody>\n",
       "    <tr>\n",
       "      <th>1</th>\n",
       "      <td>2019/07</td>\n",
       "      <td>60000</td>\n",
       "      <td>75600</td>\n",
       "      <td>17300</td>\n",
       "      <td>21300</td>\n",
       "      <td>12000</td>\n",
       "      <td>29800</td>\n",
       "      <td>6000</td>\n",
       "      <td>6600</td>\n",
       "    </tr>\n",
       "    <tr>\n",
       "      <th>2</th>\n",
       "      <td>2019/08</td>\n",
       "      <td>52300</td>\n",
       "      <td>76100</td>\n",
       "      <td>18100</td>\n",
       "      <td>21300</td>\n",
       "      <td>16300</td>\n",
       "      <td>65900</td>\n",
       "      <td>6200</td>\n",
       "      <td>6800</td>\n",
       "    </tr>\n",
       "    <tr>\n",
       "      <th>3</th>\n",
       "      <td>2019/09</td>\n",
       "      <td>49000</td>\n",
       "      <td>75800</td>\n",
       "      <td>18900</td>\n",
       "      <td>21300</td>\n",
       "      <td>16400</td>\n",
       "      <td>73700</td>\n",
       "      <td>6000</td>\n",
       "      <td>7400</td>\n",
       "    </tr>\n",
       "    <tr>\n",
       "      <th>4</th>\n",
       "      <td>2019/10</td>\n",
       "      <td>51300</td>\n",
       "      <td>76000</td>\n",
       "      <td>21000</td>\n",
       "      <td>21400</td>\n",
       "      <td>12200</td>\n",
       "      <td>32300</td>\n",
       "      <td>6700</td>\n",
       "      <td>7300</td>\n",
       "    </tr>\n",
       "    <tr>\n",
       "      <th>5</th>\n",
       "      <td>2019/11</td>\n",
       "      <td>56100</td>\n",
       "      <td>75900</td>\n",
       "      <td>21400</td>\n",
       "      <td>21600</td>\n",
       "      <td>11700</td>\n",
       "      <td>9800</td>\n",
       "      <td>6300</td>\n",
       "      <td>7300</td>\n",
       "    </tr>\n",
       "    <tr>\n",
       "      <th>6</th>\n",
       "      <td>2019/12</td>\n",
       "      <td>51400</td>\n",
       "      <td>76100</td>\n",
       "      <td>32100</td>\n",
       "      <td>22200</td>\n",
       "      <td>12100</td>\n",
       "      <td>3500</td>\n",
       "      <td>7200</td>\n",
       "      <td>8000</td>\n",
       "    </tr>\n",
       "    <tr>\n",
       "      <th>7</th>\n",
       "      <td>2020/01</td>\n",
       "      <td>49000</td>\n",
       "      <td>75500</td>\n",
       "      <td>33600</td>\n",
       "      <td>22700</td>\n",
       "      <td>14300</td>\n",
       "      <td>300</td>\n",
       "      <td>6700</td>\n",
       "      <td>7400</td>\n",
       "    </tr>\n",
       "    <tr>\n",
       "      <th>8</th>\n",
       "      <td>2020/02</td>\n",
       "      <td>49700</td>\n",
       "      <td>76600</td>\n",
       "      <td>30100</td>\n",
       "      <td>21700</td>\n",
       "      <td>15000</td>\n",
       "      <td>300</td>\n",
       "      <td>6400</td>\n",
       "      <td>6500</td>\n",
       "    </tr>\n",
       "    <tr>\n",
       "      <th>9</th>\n",
       "      <td>2020/03</td>\n",
       "      <td>49100</td>\n",
       "      <td>78000</td>\n",
       "      <td>22700</td>\n",
       "      <td>21200</td>\n",
       "      <td>17600</td>\n",
       "      <td>300</td>\n",
       "      <td>5900</td>\n",
       "      <td>10000</td>\n",
       "    </tr>\n",
       "  </tbody>\n",
       "</table>\n",
       "</div>"
      ],
      "text/plain": [
       "      date  facebook  email  search  brand sem intent google  affiliate  \\\n",
       "1  2019/07     60000  75600   17300                    21300      12000   \n",
       "2  2019/08     52300  76100   18100                    21300      16300   \n",
       "3  2019/09     49000  75800   18900                    21300      16400   \n",
       "4  2019/10     51300  76000   21000                    21400      12200   \n",
       "5  2019/11     56100  75900   21400                    21600      11700   \n",
       "6  2019/12     51400  76100   32100                    22200      12100   \n",
       "7  2020/01     49000  75500   33600                    22700      14300   \n",
       "8  2020/02     49700  76600   30100                    21700      15000   \n",
       "9  2020/03     49100  78000   22700                    21200      17600   \n",
       "\n",
       "   email_blast  pinterest  referral  \n",
       "1        29800       6000      6600  \n",
       "2        65900       6200      6800  \n",
       "3        73700       6000      7400  \n",
       "4        32300       6700      7300  \n",
       "5         9800       6300      7300  \n",
       "6         3500       7200      8000  \n",
       "7          300       6700      7400  \n",
       "8          300       6400      6500  \n",
       "9          300       5900     10000  "
      ]
     },
     "execution_count": 69,
     "metadata": {},
     "output_type": "execute_result"
    }
   ],
   "source": [
    "df_budget"
   ]
  },
  {
   "cell_type": "markdown",
   "id": "1c37a6f3",
   "metadata": {},
   "source": [
    "List our expected budge moves here:<br>\n",
    "**Facebook:** More budget<br>\n",
    "**Email:** Less budget<br>\n",
    "**Search:** Keep the budget around 22000<br>\n",
    "**Brand Sem Intent Google:** More budget<br>\n",
    "**Affiliate:** More budget<br>\n",
    "**Email_blast:** Somewhere between 300 and 3500 <br>\n",
    "**Pinterest:** Increase a little <br>\n",
    "**Referral:** Somewhere between 6000 and 10000<br>"
   ]
  },
  {
   "cell_type": "markdown",
   "id": "bd57e1f0",
   "metadata": {},
   "source": [
    "Our allocation plan will be:<br>\n",
    "**Facebook:** 80000<br>\n",
    "**Email:** 43000<br>\n",
    "**Search:** 22000<br>\n",
    "**Brand Sem Intent Google:** 30000<br>\n",
    "**Affiliate:** 18000 <br> \n",
    "**Email_blast:** 1000 <br>\n",
    "**Pinterest:** 8000 <br>\n",
    "**Referral:** 8000"
   ]
  },
  {
   "cell_type": "markdown",
   "id": "7d7402e0",
   "metadata": {},
   "source": [
    "## Churn Model"
   ]
  },
  {
   "cell_type": "markdown",
   "id": "2c7c8367",
   "metadata": {},
   "source": [
    "We'd like to tell whether a user churned or not and build a model to predict whether users who might churn in the future and use marketing strategies to prevent them from churning.<br>\n",
    "The first priority is to identify users' churn status.<br>\n",
    "First, we shall not consider users who didn't even start their subscriptions after free trials since they can't even be considered as converted users.<br>\n",
    "Therefore, our previous filtered dataframe **df_convert** contains participants that we want to include in our model for training and testing.<br>\n",
    "Second, variables in **df_convert** can't really tell users who churned from those who didn't. <br>\n",
    "To determine whether a user churned or not, we need to go to the representative dataset. <br>"
   ]
  },
  {
   "cell_type": "code",
   "execution_count": 201,
   "id": "6a168e82",
   "metadata": {},
   "outputs": [
    {
     "name": "stdout",
     "output_type": "stream",
     "text": [
      "There are a total of 53175 users that we want to include in our churn model.\n"
     ]
    }
   ],
   "source": [
    "# Get lists of id that represent users whose data we are interested in\n",
    "\n",
    "id_convert = df_convert['subid']\n",
    "id_reps = df_reps['subid'].unique()\n",
    "id_eng = df_eng['subid'].unique()\n",
    "id_joint, convert_ind, reps_ind = np.intersect1d(id_convert, id_reps, return_indices=True)\n",
    "df_convert_joint = df_convert.iloc[convert_ind]\n",
    "\n",
    "id_convert = df_convert_joint['subid']\n",
    "id_joint, convert_ind, eng_ind = np.intersect1d(id_joint, id_eng, return_indices=True)\n",
    "df_convert_joint = df_convert_joint.iloc[convert_ind]\n",
    "\n",
    "print('There are a total of {} users that we want to include in our churn model.'.format(len(id_joint)))"
   ]
  },
  {
   "cell_type": "markdown",
   "id": "bd9b0dca",
   "metadata": {},
   "source": [
    "By getting the intersection of **df_convert**, **df_reps**, and **df_eng**, we get a list of user id that meet our requirement."
   ]
  },
  {
   "cell_type": "code",
   "execution_count": 221,
   "id": "8a389213",
   "metadata": {},
   "outputs": [],
   "source": [
    "df_reps.reset_index(drop = True, inplace = True)"
   ]
  },
  {
   "cell_type": "code",
   "execution_count": 249,
   "id": "ab3093e3",
   "metadata": {},
   "outputs": [],
   "source": [
    "# Write filtered data from df_reps to csv file\n",
    "\n",
    "if 1 == 0:\n",
    "    idx_reps = [i for i in df_reps.index if df_reps.loc[i]['subid'] in id_joint]\n",
    "    \n",
    "    df_reps_joint = df_reps.loc[idx_reps]\n",
    "    df_reps_joint.to_csv('df_reps_joint.csv', index = False)\n",
    "\n",
    "df_reps_joint = pd.read_csv('df_reps_joint.csv')"
   ]
  },
  {
   "cell_type": "code",
   "execution_count": 268,
   "id": "39e0c58e",
   "metadata": {},
   "outputs": [],
   "source": [
    "# Separate users who churned and stayed.\n",
    "\n",
    "df_reps_stay = df_reps_joint[df_reps_joint['current_sub_TF'] == True]\n",
    "df_reps_churn = df_reps_joint[df_reps_joint['current_sub_TF'] == False]\n",
    "id_stay = df_reps_stay['subid'].unique()\n",
    "id_churn = df_reps_churn['subid'].unique()"
   ]
  },
  {
   "cell_type": "markdown",
   "id": "267b3ad4",
   "metadata": {},
   "source": [
    "For us, the most valuable information from **df_reps** is whether the participant churned and when the last payment was."
   ]
  },
  {
   "cell_type": "code",
   "execution_count": 273,
   "id": "6b3f6050",
   "metadata": {},
   "outputs": [],
   "source": [
    "# Group by subid\n",
    "\n",
    "df_reps_grp = df_reps_joint.groupby('subid')"
   ]
  },
  {
   "cell_type": "code",
   "execution_count": 297,
   "id": "306fab3d",
   "metadata": {},
   "outputs": [],
   "source": [
    "# Build a function that get the information we want from the group by object\n",
    "\n",
    "def find_churn(subid):\n",
    "    \n",
    "    '''\n",
    "    The input of the function is subid of user.\n",
    "    THe output of the function is a list of information we want about churn.\n",
    "    '''\n",
    "    \n",
    "    df_user = df_reps_grp.get_group(subid)\n",
    "    last_period = df_user['payment_period'].max()\n",
    "    df_last = df_user[df_user['payment_period'] == last_period]\n",
    "    df_last.reset_index(inplace = True)\n",
    "    \n",
    "    churn = not df_last.loc[0, 'current_sub_TF']\n",
    "    last_payment = df_last.loc[0, 'last_payment']\n",
    "    info_churn = [subid, churn, last_payment]\n",
    "    \n",
    "    return info_churn"
   ]
  },
  {
   "cell_type": "code",
   "execution_count": 381,
   "id": "fcd893f9",
   "metadata": {},
   "outputs": [],
   "source": [
    "# Use the function to get the info we want from df_reps_joint and store them in a dataframe\n",
    "\n",
    "info_churn = [find_churn(subid) for subid in id_joint]\n",
    "df_churn = pd.DataFrame(info_churn, columns = ['subid', 'churn', 'last_payment'])"
   ]
  },
  {
   "cell_type": "code",
   "execution_count": 610,
   "id": "dce967b4",
   "metadata": {},
   "outputs": [],
   "source": [
    "# Add variables that we want to include in our churn model from df_convert_joint\n",
    "\n",
    "df_churn['gender'] = list(df_convert_joint['male_TF'])\n",
    "df_churn['age'] = list(df_convert_joint['age'])\n",
    "df_churn['weekly_consumption_hour'] = list(df_convert_joint['weekly_consumption_hour'])\n",
    "df_churn['num_ideal_streaming_services'] = list(df_convert_joint['num_ideal_streaming_services'])"
   ]
  },
  {
   "cell_type": "code",
   "execution_count": 623,
   "id": "518700b0",
   "metadata": {},
   "outputs": [],
   "source": [
    "# Handle all unreasonable ages\n",
    "\n",
    "df_churn.loc[df_churn['age'] > 100,'age'] = np.NaN\n",
    "df_churn.loc[df_churn['age'] < 18,'age'] = np.NaN"
   ]
  },
  {
   "cell_type": "code",
   "execution_count": 371,
   "id": "9bc5549c",
   "metadata": {},
   "outputs": [],
   "source": [
    "from sklearn.impute import SimpleImputer"
   ]
  },
  {
   "cell_type": "code",
   "execution_count": 808,
   "id": "675a222e",
   "metadata": {},
   "outputs": [
    {
     "data": {
      "text/plain": [
       "Index(['subid', 'package_type', 'num_weekly_services_utilized',\n",
       "       'preferred_genre', 'intended_use', 'weekly_consumption_hour',\n",
       "       'num_ideal_streaming_services', 'retarget_TF', 'age', 'male_TF',\n",
       "       'country', 'attribution_technical', 'attribution_survey', 'op_sys',\n",
       "       'months_per_bill_period', 'plan_type', 'monthly_price',\n",
       "       'discount_price', 'account_creation_date', 'creation_until_cancel_days',\n",
       "       'cancel_before_trial_end', 'trial_end_date',\n",
       "       'initial_credit_card_declined', 'revenue_net', 'join_fee', 'language',\n",
       "       'paid_TF', 'refund_after_trial_TF', 'payment_type'],\n",
       "      dtype='object')"
      ]
     },
     "execution_count": 808,
     "metadata": {},
     "output_type": "execute_result"
    }
   ],
   "source": [
    "df_subs.columns"
   ]
  },
  {
   "cell_type": "code",
   "execution_count": 625,
   "id": "77eb4da8",
   "metadata": {},
   "outputs": [],
   "source": [
    "# Impute missing values\n",
    "\n",
    "imp = SimpleImputer(missing_values=np.nan, strategy='mean')\n",
    "df_imp = pd.DataFrame(imp.fit_transform(df_churn[['age', 'weekly_consumption_hour', 'num_ideal_streaming_services']]))\n",
    "df_churn['age'] = df_imp[0]\n",
    "df_churn['weekly_consumption_hour'] = df_imp[1]\n",
    "df_churn['num_ideal_streaming_services'] = df_imp[2]"
   ]
  },
  {
   "cell_type": "code",
   "execution_count": 626,
   "id": "e2936f61",
   "metadata": {},
   "outputs": [],
   "source": [
    "df_churn['churn'] = df_churn['churn'] * 1\n",
    "df_churn['gender'] = df_churn['gender'] * 1"
   ]
  },
  {
   "cell_type": "markdown",
   "id": "0352d1ce",
   "metadata": {},
   "source": [
    "Now we get the information enough to build a very basic model."
   ]
  },
  {
   "cell_type": "code",
   "execution_count": 399,
   "id": "b2547a5a",
   "metadata": {},
   "outputs": [],
   "source": [
    "import math\n",
    "import statsmodels.api as sm\n",
    "from sklearn.metrics import confusion_matrix\n",
    "from sklearn import model_selection\n",
    "from matplotlib import pyplot as plt"
   ]
  },
  {
   "cell_type": "code",
   "execution_count": 630,
   "id": "afa0d496",
   "metadata": {},
   "outputs": [],
   "source": [
    "# Split the dataset and preprocess for model fitting \n",
    "\n",
    "df_train_basic, df_test_basic = model_selection.train_test_split(df_churn, test_size=0.3)\n",
    "\n",
    "y_col_name = 'churn'\n",
    "x_col_name = ['age', 'gender', 'weekly_consumption_hour', 'num_ideal_streaming_services']\n",
    "add_constant_TF = True\n",
    "\n",
    "if add_constant_TF:\n",
    "    x_col_name.append('const')\n",
    "    df_train_basic = sm.add_constant(df_train_basic)\n",
    "    df_test_basic = sm.add_constant(df_test_basic)"
   ]
  },
  {
   "cell_type": "code",
   "execution_count": 632,
   "id": "b11e8fdc",
   "metadata": {},
   "outputs": [
    {
     "name": "stdout",
     "output_type": "stream",
     "text": [
      "\n",
      "RESULTS OF LOGIT MODEL FITTING\n",
      "\n",
      "                            OLS Regression Results                            \n",
      "==============================================================================\n",
      "Dep. Variable:                  churn   R-squared:                       0.012\n",
      "Model:                            OLS   Adj. R-squared:                  0.012\n",
      "Method:                 Least Squares   F-statistic:                     116.6\n",
      "Date:                Fri, 10 Dec 2021   Prob (F-statistic):           5.52e-99\n",
      "Time:                        23:13:37   Log-Likelihood:                -25947.\n",
      "No. Observations:               37222   AIC:                         5.190e+04\n",
      "Df Residuals:                   37217   BIC:                         5.195e+04\n",
      "Df Model:                           4                                         \n",
      "Covariance Type:            nonrobust                                         \n",
      "================================================================================================\n",
      "                                   coef    std err          t      P>|t|      [0.025      0.975]\n",
      "------------------------------------------------------------------------------------------------\n",
      "age                             -0.0033      0.000    -13.094      0.000      -0.004      -0.003\n",
      "gender                          -0.0927      0.009    -10.117      0.000      -0.111      -0.075\n",
      "weekly_consumption_hour         -0.0047      0.001     -6.062      0.000      -0.006      -0.003\n",
      "num_ideal_streaming_services    -0.0174      0.014     -1.214      0.225      -0.046       0.011\n",
      "const                            0.7333      0.037     19.773      0.000       0.661       0.806\n",
      "==============================================================================\n",
      "Omnibus:                   149884.695   Durbin-Watson:                   2.002\n",
      "Prob(Omnibus):                  0.000   Jarque-Bera (JB):             5976.746\n",
      "Skew:                           0.420   Prob(JB):                         0.00\n",
      "Kurtosis:                       1.225   Cond. No.                         869.\n",
      "==============================================================================\n",
      "\n",
      "Notes:\n",
      "[1] Standard Errors assume that the covariance matrix of the errors is correctly specified.\n",
      "Optimization terminated successfully.\n",
      "         Current function value: 0.664620\n",
      "         Iterations 5\n",
      "\n",
      "RESULTS OF LOGIT MODEL FITTING\n",
      "\n",
      "                           Logit Regression Results                           \n",
      "==============================================================================\n",
      "Dep. Variable:                  churn   No. Observations:                37222\n",
      "Model:                          Logit   Df Residuals:                    37217\n",
      "Method:                           MLE   Df Model:                            4\n",
      "Date:                Fri, 10 Dec 2021   Pseudo R-squ.:                0.009497\n",
      "Time:                        23:13:37   Log-Likelihood:                -24738.\n",
      "converged:                       True   LL-Null:                       -24976.\n",
      "Covariance Type:            nonrobust   LLR p-value:                2.301e-101\n",
      "================================================================================================\n",
      "                                   coef    std err          z      P>|z|      [0.025      0.975]\n",
      "------------------------------------------------------------------------------------------------\n",
      "age                             -0.0140      0.001    -13.080      0.000      -0.016      -0.012\n",
      "gender                          -0.4222      0.041    -10.405      0.000      -0.502      -0.343\n",
      "weekly_consumption_hour         -0.0203      0.003     -6.100      0.000      -0.027      -0.014\n",
      "num_ideal_streaming_services    -0.0727      0.061     -1.183      0.237      -0.193       0.048\n",
      "const                            1.0183      0.159      6.412      0.000       0.707       1.330\n",
      "================================================================================================\n"
     ]
    }
   ],
   "source": [
    "# Fit a linear probability model\n",
    "lpm_model_basic = sm.OLS(endog=df_train_basic[y_col_name], exog=df_train_basic[x_col_name])\n",
    "lpm_results = lpm_model_basic.fit()\n",
    "print(\"\\nRESULTS OF LOGIT MODEL FITTING\\n\")\n",
    "print(lpm_results.summary())\n",
    "\n",
    "# Fit a logistic regression model\n",
    "logit_model_basic = sm.Logit(endog=df_train_basic[y_col_name], exog=df_train_basic[x_col_name])\n",
    "logit_results = logit_model_basic.fit()\n",
    "print(\"\\nRESULTS OF LOGIT MODEL FITTING\\n\")\n",
    "print(logit_results.summary())"
   ]
  },
  {
   "cell_type": "code",
   "execution_count": 633,
   "id": "3a8142c3",
   "metadata": {},
   "outputs": [
    {
     "name": "stdout",
     "output_type": "stream",
     "text": [
      "age\n",
      "gender\n",
      "weekly_consumption_hour\n",
      "num_ideal_streaming_services\n"
     ]
    },
    {
     "data": {
      "text/plain": [
       "<matplotlib.legend.Legend at 0x1c367ebc8e0>"
      ]
     },
     "execution_count": 633,
     "metadata": {},
     "output_type": "execute_result"
    },
    {
     "data": {
      "image/png": "[encoded data removed]",
      "text/plain": [
       "<Figure size 432x288 with 4 Axes>"
      ]
     },
     "metadata": {
      "needs_background": "light"
     },
     "output_type": "display_data"
    }
   ],
   "source": [
    "# Evaluate model predictions on test set graphically\n",
    "df_test_basic['prob_churn_lpm'] = lpm_results.predict(df_test_basic[x_col_name])\n",
    "df_test_basic['prob_churn_logit'] = logit_results.predict(df_test_basic[x_col_name])\n",
    "\n",
    "# plot predictions vs. data\n",
    "select_plot_coef = [x for x in x_col_name if x != 'const']\n",
    "n_rows = 2\n",
    "n_cols = math.ceil(len(select_plot_coef) / n_rows)\n",
    "fig, axes = plt.subplots(n_rows, n_cols)\n",
    "fig.suptitle('Single factor relationship with churn')\n",
    "for i in range(n_rows):\n",
    "    for j in range(n_cols):\n",
    "        select_coef = select_plot_coef[i * n_cols + j]\n",
    "        print(select_coef)\n",
    "        axes[i, j].plot(df_test_basic[select_coef], df_test_basic['churn'],\"g.\")\n",
    "        axes[i, j].plot(df_test_basic[select_coef], df_test_basic['prob_churn_lpm'], 'b.')\n",
    "        axes[i, j].plot(df_test_basic[select_coef], df_test_basic['prob_churn_logit'], 'r.')\n",
    "        axes[i, j].set(xlabel=select_coef, ylabel='Churn prob.')\n",
    "fig.legend(labels=['Churn T/F (actual)', 'Linear probability model', 'Logit probability'])"
   ]
  },
  {
   "cell_type": "markdown",
   "id": "3704612e",
   "metadata": {},
   "source": [
    "We can tell that males are more likely to churn.<br>\n",
    "Users who are older are more likely to churn. <br>\n",
    "Users with higher weekly_consumption_hour is more likely to churn."
   ]
  },
  {
   "cell_type": "code",
   "execution_count": 634,
   "id": "524f945f",
   "metadata": {},
   "outputs": [
    {
     "data": {
      "text/plain": [
       "<matplotlib.legend.Legend at 0x1c30ea555e0>"
      ]
     },
     "execution_count": 634,
     "metadata": {},
     "output_type": "execute_result"
    },
    {
     "data": {
      "image/png": "[encoded data removed]",
      "text/plain": [
       "<Figure size 432x288 with 1 Axes>"
      ]
     },
     "metadata": {
      "needs_background": "light"
     },
     "output_type": "display_data"
    }
   ],
   "source": [
    "# Compare lpm and logit predictions\n",
    "fig = plt.figure()\n",
    "ax = plt.gca()\n",
    "ax.plot(df_test_basic[['prob_churn_lpm']], df_test_basic[['churn']], 'k.')\n",
    "ax.plot(df_test_basic[['prob_churn_lpm']], df_test_basic[['prob_churn_logit']], 'r.')\n",
    "plt.ylim(df_test_basic[['prob_churn_lpm', 'prob_churn_logit']].min().min()-.05, df_test_basic[['prob_churn_lpm', 'prob_churn_logit']].max().max()+.05)\n",
    "plt.xlim(ax.get_ylim())\n",
    "plt.title('LPM vs logit predictions')\n",
    "plt.xlabel('Linear Probability Model Prediction')\n",
    "plt.ylabel('Logit Model Prediction')\n",
    "fig.legend(labels=['Churn T/F (actual)', 'Linear probability model', 'Logit probability'])"
   ]
  },
  {
   "cell_type": "markdown",
   "id": "34312219",
   "metadata": {},
   "source": [
    "We can see that the results of lpm and logit models are very similar."
   ]
  },
  {
   "cell_type": "code",
   "execution_count": 635,
   "id": "6b5e7573",
   "metadata": {},
   "outputs": [],
   "source": [
    "def get_gini_info(actual, pred_prob):\n",
    "    # format[[obs0_pred0, obs0_pred1], [obs1_pred0, obs1_pred1]]; rows (i) are observed, columns (j) are predicted\n",
    "    confusion_matrix_list = list()\n",
    "    for t in [x / 100 for x in range(0, 100, 33)]:\n",
    "        pred = [1 if (x > t) else 0 for x in pred_prob]\n",
    "        confusion_matrix_list.append(confusion_matrix(actual, pred))\n",
    "        # confusion_matrix_list.append(model.pred_table(threshold=t))\n",
    "\n",
    "    # create Gini coefficient plots\n",
    "    false_positives = list()\n",
    "    true_positives = list()\n",
    "    for t in confusion_matrix_list:\n",
    "        true_positives.append(t[1, 1])\n",
    "        false_positives.append(t[0, 1])\n",
    "\n",
    "    return confusion_matrix_list, false_positives, true_positives"
   ]
  },
  {
   "cell_type": "code",
   "execution_count": 636,
   "id": "bf716f21",
   "metadata": {},
   "outputs": [
    {
     "data": {
      "text/plain": [
       "<matplotlib.legend.Legend at 0x1c30ea7e280>"
      ]
     },
     "execution_count": 636,
     "metadata": {},
     "output_type": "execute_result"
    },
    {
     "data": {
      "image/png": "[encoded data removed]",
      "text/plain": [
       "<Figure size 432x288 with 1 Axes>"
      ]
     },
     "metadata": {
      "needs_background": "light"
     },
     "output_type": "display_data"
    }
   ],
   "source": [
    "# Ealuate model predictions using numerical quantification (ROC curves)\n",
    "# make confusion matrices\n",
    "logit_conf_mat, logit_false_positives, logit_true_positives = get_gini_info(df_test_basic['churn'], df_test_basic['prob_churn_logit'])\n",
    "lpm_conf_mat, lpm_false_positives, lpm_true_positives = get_gini_info(df_test_basic['churn'], df_test_basic['prob_churn_lpm'])\n",
    "\n",
    "# plot ROC curves\n",
    "fig = plt.figure()\n",
    "ax1 = plt.gca()\n",
    "ax1.plot(lpm_false_positives, lpm_true_positives, 'b')\n",
    "ax1.plot(logit_false_positives, logit_true_positives, 'r')\n",
    "plt.title('ROC curves')\n",
    "plt.xlabel('False positives (positive=churn)')\n",
    "plt.ylabel('True positives (positive=churn)')\n",
    "plt.legend(labels=['Linear probability model', 'Logit probability'])"
   ]
  },
  {
   "cell_type": "markdown",
   "id": "487aa818",
   "metadata": {},
   "source": [
    "We can see that ROC for both models are very poor."
   ]
  },
  {
   "cell_type": "code",
   "execution_count": 637,
   "id": "699436ce",
   "metadata": {},
   "outputs": [
    {
     "data": {
      "text/html": [
       "<div>\n",
       "<style scoped>\n",
       "    .dataframe tbody tr th:only-of-type {\n",
       "        vertical-align: middle;\n",
       "    }\n",
       "\n",
       "    .dataframe tbody tr th {\n",
       "        vertical-align: top;\n",
       "    }\n",
       "\n",
       "    .dataframe thead th {\n",
       "        text-align: right;\n",
       "    }\n",
       "</style>\n",
       "<table border=\"1\" class=\"dataframe\">\n",
       "  <thead>\n",
       "    <tr style=\"text-align: right;\">\n",
       "      <th></th>\n",
       "      <th>subid</th>\n",
       "      <th>churn</th>\n",
       "      <th>last_payment</th>\n",
       "      <th>gender</th>\n",
       "      <th>age</th>\n",
       "      <th>weekly_consumption_hour</th>\n",
       "      <th>num_ideal_streaming_services</th>\n",
       "    </tr>\n",
       "  </thead>\n",
       "  <tbody>\n",
       "    <tr>\n",
       "      <th>0</th>\n",
       "      <td>20000604</td>\n",
       "      <td>0</td>\n",
       "      <td>2020-02-24 11:05:23</td>\n",
       "      <td>0</td>\n",
       "      <td>47.96371</td>\n",
       "      <td>28.589876</td>\n",
       "      <td>1.998926</td>\n",
       "    </tr>\n",
       "    <tr>\n",
       "      <th>1</th>\n",
       "      <td>20000685</td>\n",
       "      <td>0</td>\n",
       "      <td>2020-03-18 14:33:41</td>\n",
       "      <td>0</td>\n",
       "      <td>67.00000</td>\n",
       "      <td>25.851492</td>\n",
       "      <td>1.873939</td>\n",
       "    </tr>\n",
       "    <tr>\n",
       "      <th>2</th>\n",
       "      <td>20000796</td>\n",
       "      <td>1</td>\n",
       "      <td>2019-10-10 13:35:38</td>\n",
       "      <td>0</td>\n",
       "      <td>34.00000</td>\n",
       "      <td>22.951579</td>\n",
       "      <td>1.842170</td>\n",
       "    </tr>\n",
       "    <tr>\n",
       "      <th>3</th>\n",
       "      <td>20000809</td>\n",
       "      <td>0</td>\n",
       "      <td>2020-03-27 19:12:33</td>\n",
       "      <td>0</td>\n",
       "      <td>41.00000</td>\n",
       "      <td>22.951579</td>\n",
       "      <td>1.901712</td>\n",
       "    </tr>\n",
       "    <tr>\n",
       "      <th>4</th>\n",
       "      <td>20001112</td>\n",
       "      <td>1</td>\n",
       "      <td>2019-09-28 13:50:51</td>\n",
       "      <td>0</td>\n",
       "      <td>47.96371</td>\n",
       "      <td>28.589876</td>\n",
       "      <td>1.998926</td>\n",
       "    </tr>\n",
       "    <tr>\n",
       "      <th>...</th>\n",
       "      <td>...</td>\n",
       "      <td>...</td>\n",
       "      <td>...</td>\n",
       "      <td>...</td>\n",
       "      <td>...</td>\n",
       "      <td>...</td>\n",
       "      <td>...</td>\n",
       "    </tr>\n",
       "    <tr>\n",
       "      <th>53170</th>\n",
       "      <td>29999052</td>\n",
       "      <td>0</td>\n",
       "      <td>2020-03-08 11:05:23</td>\n",
       "      <td>1</td>\n",
       "      <td>47.96371</td>\n",
       "      <td>28.589876</td>\n",
       "      <td>1.998926</td>\n",
       "    </tr>\n",
       "    <tr>\n",
       "      <th>53171</th>\n",
       "      <td>29999206</td>\n",
       "      <td>0</td>\n",
       "      <td>2020-01-21 11:05:25</td>\n",
       "      <td>0</td>\n",
       "      <td>47.96371</td>\n",
       "      <td>28.589876</td>\n",
       "      <td>1.998926</td>\n",
       "    </tr>\n",
       "    <tr>\n",
       "      <th>53172</th>\n",
       "      <td>29999590</td>\n",
       "      <td>0</td>\n",
       "      <td>2020-02-04 13:46:42</td>\n",
       "      <td>0</td>\n",
       "      <td>38.00000</td>\n",
       "      <td>28.751405</td>\n",
       "      <td>1.961446</td>\n",
       "    </tr>\n",
       "    <tr>\n",
       "      <th>53173</th>\n",
       "      <td>29999889</td>\n",
       "      <td>1</td>\n",
       "      <td>2020-01-07 13:56:28</td>\n",
       "      <td>0</td>\n",
       "      <td>47.96371</td>\n",
       "      <td>28.589876</td>\n",
       "      <td>1.998926</td>\n",
       "    </tr>\n",
       "    <tr>\n",
       "      <th>53174</th>\n",
       "      <td>29999945</td>\n",
       "      <td>0</td>\n",
       "      <td>2020-03-28 14:07:13</td>\n",
       "      <td>0</td>\n",
       "      <td>41.00000</td>\n",
       "      <td>28.589876</td>\n",
       "      <td>1.998926</td>\n",
       "    </tr>\n",
       "  </tbody>\n",
       "</table>\n",
       "<p>53175 rows × 7 columns</p>\n",
       "</div>"
      ],
      "text/plain": [
       "          subid  churn         last_payment  gender       age  \\\n",
       "0      20000604      0  2020-02-24 11:05:23       0  47.96371   \n",
       "1      20000685      0  2020-03-18 14:33:41       0  67.00000   \n",
       "2      20000796      1  2019-10-10 13:35:38       0  34.00000   \n",
       "3      20000809      0  2020-03-27 19:12:33       0  41.00000   \n",
       "4      20001112      1  2019-09-28 13:50:51       0  47.96371   \n",
       "...         ...    ...                  ...     ...       ...   \n",
       "53170  29999052      0  2020-03-08 11:05:23       1  47.96371   \n",
       "53171  29999206      0  2020-01-21 11:05:25       0  47.96371   \n",
       "53172  29999590      0  2020-02-04 13:46:42       0  38.00000   \n",
       "53173  29999889      1  2020-01-07 13:56:28       0  47.96371   \n",
       "53174  29999945      0  2020-03-28 14:07:13       0  41.00000   \n",
       "\n",
       "       weekly_consumption_hour  num_ideal_streaming_services  \n",
       "0                    28.589876                      1.998926  \n",
       "1                    25.851492                      1.873939  \n",
       "2                    22.951579                      1.842170  \n",
       "3                    22.951579                      1.901712  \n",
       "4                    28.589876                      1.998926  \n",
       "...                        ...                           ...  \n",
       "53170                28.589876                      1.998926  \n",
       "53171                28.589876                      1.998926  \n",
       "53172                28.751405                      1.961446  \n",
       "53173                28.589876                      1.998926  \n",
       "53174                28.589876                      1.998926  \n",
       "\n",
       "[53175 rows x 7 columns]"
      ]
     },
     "execution_count": 637,
     "metadata": {},
     "output_type": "execute_result"
    }
   ],
   "source": [
    "df_churn"
   ]
  },
  {
   "cell_type": "markdown",
   "id": "d0573059",
   "metadata": {},
   "source": [
    "This indicates that we need additional information for better models from the engagement data."
   ]
  },
  {
   "cell_type": "code",
   "execution_count": 435,
   "id": "6e26adf4",
   "metadata": {},
   "outputs": [],
   "source": [
    "df_eng.reset_index(drop = True, inplace = True)"
   ]
  },
  {
   "cell_type": "code",
   "execution_count": 452,
   "id": "f0526618",
   "metadata": {},
   "outputs": [],
   "source": [
    "# Write filtered data from df_eng to csv file\n",
    "\n",
    "if 1 == 0:\n",
    "    idx_eng = [i for i in df_eng.index if df_eng.loc[i]['subid'] in id_joint]\n",
    "    df_eng_joint = df_eng.loc[idx_eng]\n",
    "    df_eng_joint.to_csv('df_eng_joint.csv', index = False)\n",
    "\n",
    "df_eng_joint = pd.read_csv('df_eng_joint.csv')"
   ]
  },
  {
   "cell_type": "code",
   "execution_count": 465,
   "id": "4a9820da",
   "metadata": {},
   "outputs": [
    {
     "name": "stdout",
     "output_type": "stream",
     "text": [
      "Here we discover that the original representative dataset had 2585724 records for 135019 differet users.\n",
      "The filtered representative dataset had 2057912 records for 53175 differet users.\n",
      "This might indicate that the majority of engagement records are for the 53175 users that we are interested in.\n",
      "The remaining records belong to those who have not finished trial.\n"
     ]
    }
   ],
   "source": [
    "print('Here we discover that the original representative dataset had {} records for {} differet users.'.format(len(df_eng),len(df_eng['subid'].unique())))\n",
    "print('The filtered representative dataset had {} records for {} differet users.'.format(len(df_eng_joint),len(df_eng_joint['subid'].unique())))\n",
    "print('This might indicate that the majority of engagement records are for the 53175 users that we are interested in.\\nThe remaining records belong to those who have not finished trial.')"
   ]
  },
  {
   "cell_type": "code",
   "execution_count": 467,
   "id": "c3f9d846",
   "metadata": {},
   "outputs": [],
   "source": [
    "df_eng_grp = df_eng_joint.groupby('subid')"
   ]
  },
  {
   "cell_type": "code",
   "execution_count": 568,
   "id": "21983c59",
   "metadata": {},
   "outputs": [],
   "source": [
    "# Build a function that get the engagement information for each user we are interested in\n",
    "\n",
    "def get_engagement(subid):\n",
    "    \n",
    "    '''\n",
    "    The input of the function is the subid representing each user.\n",
    "    The output of the function is a list of engagement information for the lastest month.\n",
    "    '''\n",
    "    \n",
    "    df_user = df_eng_grp.get_group(subid)\n",
    "    df_user.reset_index(drop = True, inplace = True)\n",
    "    \n",
    "    last_date = df_user.iloc[-1]['date']\n",
    "    year, month, day = last_date.split('-')\n",
    "    start_month = str(int(month) - 1).zfill(2)\n",
    "    start_date = '-'.join([year, start_month, day])\n",
    "    \n",
    "    # find the functions that \n",
    "    df_latest = df_user[df_user['date'] > start_date]\n",
    "    df_latest = df_latest.drop(columns = ['subid', 'date', 'payment_period'])\n",
    "    eng_info = df_latest.apply(sum, axis = 0)\n",
    "    eng_info['num_day_active'] = len(df_latest)\n",
    "    \n",
    "    return list(eng_info)"
   ]
  },
  {
   "cell_type": "code",
   "execution_count": 569,
   "id": "9a65df0a",
   "metadata": {},
   "outputs": [],
   "source": [
    "# Use the function to get the info we want from df_eng_joint and store them in a dataframe\n",
    "\n",
    "if 1 == 0:\n",
    "    info_act = [get_engagement(subid) for subid in id_joint]\n",
    "    col_names = ['app_opens','cust_service_mssgs','num_videos_completed','num_videos_more_than_30_seconds','num_videos_rated','num_series_started','num_day_active']\n",
    "    df_act = pd.DataFrame(info_act, columns = col_names)"
   ]
  },
  {
   "cell_type": "code",
   "execution_count": 639,
   "id": "9dd9f824",
   "metadata": {},
   "outputs": [],
   "source": [
    "# Impute missing values and save dataframe in csv file\n",
    "\n",
    "if 1 == 0:\n",
    "    df_act_imp = pd.DataFrame(imp.fit_transform(df_act))\n",
    "    df_act_imp.columns = col_names\n",
    "    df_final = pd.concat([df_churn, df_act_imp], axis = 1)\n",
    "    df_final.to_csv('df_final.csv', index = False)\n",
    "    \n",
    "df_final = pd.read_csv('df_final.csv')"
   ]
  },
  {
   "cell_type": "code",
   "execution_count": 642,
   "id": "29c7f3da",
   "metadata": {},
   "outputs": [
    {
     "data": {
      "text/html": [
       "<div>\n",
       "<style scoped>\n",
       "    .dataframe tbody tr th:only-of-type {\n",
       "        vertical-align: middle;\n",
       "    }\n",
       "\n",
       "    .dataframe tbody tr th {\n",
       "        vertical-align: top;\n",
       "    }\n",
       "\n",
       "    .dataframe thead th {\n",
       "        text-align: right;\n",
       "    }\n",
       "</style>\n",
       "<table border=\"1\" class=\"dataframe\">\n",
       "  <thead>\n",
       "    <tr style=\"text-align: right;\">\n",
       "      <th></th>\n",
       "      <th>subid</th>\n",
       "      <th>churn</th>\n",
       "      <th>last_payment</th>\n",
       "      <th>gender</th>\n",
       "      <th>age</th>\n",
       "      <th>weekly_consumption_hour</th>\n",
       "      <th>num_ideal_streaming_services</th>\n",
       "      <th>app_opens</th>\n",
       "      <th>cust_service_mssgs</th>\n",
       "      <th>num_videos_completed</th>\n",
       "      <th>num_videos_more_than_30_seconds</th>\n",
       "      <th>num_videos_rated</th>\n",
       "      <th>num_series_started</th>\n",
       "      <th>num_day_active</th>\n",
       "    </tr>\n",
       "  </thead>\n",
       "  <tbody>\n",
       "    <tr>\n",
       "      <th>0</th>\n",
       "      <td>20000604</td>\n",
       "      <td>0</td>\n",
       "      <td>2020-02-24 11:05:23</td>\n",
       "      <td>0</td>\n",
       "      <td>47.96371</td>\n",
       "      <td>28.589876</td>\n",
       "      <td>1.998926</td>\n",
       "      <td>14.00000</td>\n",
       "      <td>5.000000</td>\n",
       "      <td>8.000000</td>\n",
       "      <td>68.000000</td>\n",
       "      <td>0.000000</td>\n",
       "      <td>1.000000</td>\n",
       "      <td>15.0</td>\n",
       "    </tr>\n",
       "    <tr>\n",
       "      <th>1</th>\n",
       "      <td>20000685</td>\n",
       "      <td>0</td>\n",
       "      <td>2020-03-18 14:33:41</td>\n",
       "      <td>0</td>\n",
       "      <td>67.00000</td>\n",
       "      <td>25.851492</td>\n",
       "      <td>1.873939</td>\n",
       "      <td>30.00000</td>\n",
       "      <td>7.000000</td>\n",
       "      <td>3.000000</td>\n",
       "      <td>112.000000</td>\n",
       "      <td>0.000000</td>\n",
       "      <td>1.000000</td>\n",
       "      <td>27.0</td>\n",
       "    </tr>\n",
       "    <tr>\n",
       "      <th>2</th>\n",
       "      <td>20000796</td>\n",
       "      <td>1</td>\n",
       "      <td>2019-10-10 13:35:38</td>\n",
       "      <td>0</td>\n",
       "      <td>34.00000</td>\n",
       "      <td>22.951579</td>\n",
       "      <td>1.842170</td>\n",
       "      <td>144.00000</td>\n",
       "      <td>10.000000</td>\n",
       "      <td>127.000000</td>\n",
       "      <td>131.000000</td>\n",
       "      <td>2.000000</td>\n",
       "      <td>28.000000</td>\n",
       "      <td>31.0</td>\n",
       "    </tr>\n",
       "    <tr>\n",
       "      <th>3</th>\n",
       "      <td>20000809</td>\n",
       "      <td>0</td>\n",
       "      <td>2020-03-27 19:12:33</td>\n",
       "      <td>0</td>\n",
       "      <td>41.00000</td>\n",
       "      <td>22.951579</td>\n",
       "      <td>1.901712</td>\n",
       "      <td>45.10261</td>\n",
       "      <td>5.356508</td>\n",
       "      <td>47.426441</td>\n",
       "      <td>83.472151</td>\n",
       "      <td>1.733341</td>\n",
       "      <td>14.038263</td>\n",
       "      <td>6.0</td>\n",
       "    </tr>\n",
       "    <tr>\n",
       "      <th>4</th>\n",
       "      <td>20001112</td>\n",
       "      <td>1</td>\n",
       "      <td>2019-09-28 13:50:51</td>\n",
       "      <td>0</td>\n",
       "      <td>47.96371</td>\n",
       "      <td>28.589876</td>\n",
       "      <td>1.998926</td>\n",
       "      <td>11.00000</td>\n",
       "      <td>1.000000</td>\n",
       "      <td>1.000000</td>\n",
       "      <td>77.000000</td>\n",
       "      <td>0.000000</td>\n",
       "      <td>13.000000</td>\n",
       "      <td>21.0</td>\n",
       "    </tr>\n",
       "    <tr>\n",
       "      <th>...</th>\n",
       "      <td>...</td>\n",
       "      <td>...</td>\n",
       "      <td>...</td>\n",
       "      <td>...</td>\n",
       "      <td>...</td>\n",
       "      <td>...</td>\n",
       "      <td>...</td>\n",
       "      <td>...</td>\n",
       "      <td>...</td>\n",
       "      <td>...</td>\n",
       "      <td>...</td>\n",
       "      <td>...</td>\n",
       "      <td>...</td>\n",
       "      <td>...</td>\n",
       "    </tr>\n",
       "    <tr>\n",
       "      <th>53170</th>\n",
       "      <td>29999052</td>\n",
       "      <td>0</td>\n",
       "      <td>2020-03-08 11:05:23</td>\n",
       "      <td>1</td>\n",
       "      <td>47.96371</td>\n",
       "      <td>28.589876</td>\n",
       "      <td>1.998926</td>\n",
       "      <td>4.00000</td>\n",
       "      <td>2.000000</td>\n",
       "      <td>2.000000</td>\n",
       "      <td>33.000000</td>\n",
       "      <td>0.000000</td>\n",
       "      <td>0.000000</td>\n",
       "      <td>6.0</td>\n",
       "    </tr>\n",
       "    <tr>\n",
       "      <th>53171</th>\n",
       "      <td>29999206</td>\n",
       "      <td>0</td>\n",
       "      <td>2020-01-21 11:05:25</td>\n",
       "      <td>0</td>\n",
       "      <td>47.96371</td>\n",
       "      <td>28.589876</td>\n",
       "      <td>1.998926</td>\n",
       "      <td>176.00000</td>\n",
       "      <td>7.000000</td>\n",
       "      <td>132.000000</td>\n",
       "      <td>132.000000</td>\n",
       "      <td>1.000000</td>\n",
       "      <td>31.000000</td>\n",
       "      <td>31.0</td>\n",
       "    </tr>\n",
       "    <tr>\n",
       "      <th>53172</th>\n",
       "      <td>29999590</td>\n",
       "      <td>0</td>\n",
       "      <td>2020-02-04 13:46:42</td>\n",
       "      <td>0</td>\n",
       "      <td>38.00000</td>\n",
       "      <td>28.751405</td>\n",
       "      <td>1.961446</td>\n",
       "      <td>50.00000</td>\n",
       "      <td>2.000000</td>\n",
       "      <td>11.000000</td>\n",
       "      <td>87.000000</td>\n",
       "      <td>0.000000</td>\n",
       "      <td>14.000000</td>\n",
       "      <td>22.0</td>\n",
       "    </tr>\n",
       "    <tr>\n",
       "      <th>53173</th>\n",
       "      <td>29999889</td>\n",
       "      <td>1</td>\n",
       "      <td>2020-01-07 13:56:28</td>\n",
       "      <td>0</td>\n",
       "      <td>47.96371</td>\n",
       "      <td>28.589876</td>\n",
       "      <td>1.998926</td>\n",
       "      <td>74.00000</td>\n",
       "      <td>16.000000</td>\n",
       "      <td>124.000000</td>\n",
       "      <td>124.000000</td>\n",
       "      <td>20.000000</td>\n",
       "      <td>31.000000</td>\n",
       "      <td>31.0</td>\n",
       "    </tr>\n",
       "    <tr>\n",
       "      <th>53174</th>\n",
       "      <td>29999945</td>\n",
       "      <td>0</td>\n",
       "      <td>2020-03-28 14:07:13</td>\n",
       "      <td>0</td>\n",
       "      <td>41.00000</td>\n",
       "      <td>28.589876</td>\n",
       "      <td>1.998926</td>\n",
       "      <td>27.00000</td>\n",
       "      <td>0.000000</td>\n",
       "      <td>93.000000</td>\n",
       "      <td>119.000000</td>\n",
       "      <td>0.000000</td>\n",
       "      <td>20.000000</td>\n",
       "      <td>27.0</td>\n",
       "    </tr>\n",
       "  </tbody>\n",
       "</table>\n",
       "<p>53175 rows × 14 columns</p>\n",
       "</div>"
      ],
      "text/plain": [
       "          subid  churn         last_payment  gender       age  \\\n",
       "0      20000604      0  2020-02-24 11:05:23       0  47.96371   \n",
       "1      20000685      0  2020-03-18 14:33:41       0  67.00000   \n",
       "2      20000796      1  2019-10-10 13:35:38       0  34.00000   \n",
       "3      20000809      0  2020-03-27 19:12:33       0  41.00000   \n",
       "4      20001112      1  2019-09-28 13:50:51       0  47.96371   \n",
       "...         ...    ...                  ...     ...       ...   \n",
       "53170  29999052      0  2020-03-08 11:05:23       1  47.96371   \n",
       "53171  29999206      0  2020-01-21 11:05:25       0  47.96371   \n",
       "53172  29999590      0  2020-02-04 13:46:42       0  38.00000   \n",
       "53173  29999889      1  2020-01-07 13:56:28       0  47.96371   \n",
       "53174  29999945      0  2020-03-28 14:07:13       0  41.00000   \n",
       "\n",
       "       weekly_consumption_hour  num_ideal_streaming_services  app_opens  \\\n",
       "0                    28.589876                      1.998926   14.00000   \n",
       "1                    25.851492                      1.873939   30.00000   \n",
       "2                    22.951579                      1.842170  144.00000   \n",
       "3                    22.951579                      1.901712   45.10261   \n",
       "4                    28.589876                      1.998926   11.00000   \n",
       "...                        ...                           ...        ...   \n",
       "53170                28.589876                      1.998926    4.00000   \n",
       "53171                28.589876                      1.998926  176.00000   \n",
       "53172                28.751405                      1.961446   50.00000   \n",
       "53173                28.589876                      1.998926   74.00000   \n",
       "53174                28.589876                      1.998926   27.00000   \n",
       "\n",
       "       cust_service_mssgs  num_videos_completed  \\\n",
       "0                5.000000              8.000000   \n",
       "1                7.000000              3.000000   \n",
       "2               10.000000            127.000000   \n",
       "3                5.356508             47.426441   \n",
       "4                1.000000              1.000000   \n",
       "...                   ...                   ...   \n",
       "53170            2.000000              2.000000   \n",
       "53171            7.000000            132.000000   \n",
       "53172            2.000000             11.000000   \n",
       "53173           16.000000            124.000000   \n",
       "53174            0.000000             93.000000   \n",
       "\n",
       "       num_videos_more_than_30_seconds  num_videos_rated  num_series_started  \\\n",
       "0                            68.000000          0.000000            1.000000   \n",
       "1                           112.000000          0.000000            1.000000   \n",
       "2                           131.000000          2.000000           28.000000   \n",
       "3                            83.472151          1.733341           14.038263   \n",
       "4                            77.000000          0.000000           13.000000   \n",
       "...                                ...               ...                 ...   \n",
       "53170                        33.000000          0.000000            0.000000   \n",
       "53171                       132.000000          1.000000           31.000000   \n",
       "53172                        87.000000          0.000000           14.000000   \n",
       "53173                       124.000000         20.000000           31.000000   \n",
       "53174                       119.000000          0.000000           20.000000   \n",
       "\n",
       "       num_day_active  \n",
       "0                15.0  \n",
       "1                27.0  \n",
       "2                31.0  \n",
       "3                 6.0  \n",
       "4                21.0  \n",
       "...               ...  \n",
       "53170             6.0  \n",
       "53171            31.0  \n",
       "53172            22.0  \n",
       "53173            31.0  \n",
       "53174            27.0  \n",
       "\n",
       "[53175 rows x 14 columns]"
      ]
     },
     "execution_count": 642,
     "metadata": {},
     "output_type": "execute_result"
    }
   ],
   "source": [
    "df_final"
   ]
  },
  {
   "cell_type": "markdown",
   "id": "0f7cb27a",
   "metadata": {},
   "source": [
    "Now we have all the information we need for modeling."
   ]
  },
  {
   "cell_type": "code",
   "execution_count": 657,
   "id": "c6097360",
   "metadata": {},
   "outputs": [],
   "source": [
    "# Split the dataset and preprocess for model fitting \n",
    "\n",
    "df_train, df_test = model_selection.train_test_split(df_final, test_size=0.3)\n",
    "\n",
    "y_col_name = 'churn'\n",
    "x_col_name = ['age','gender','weekly_consumption_hour','num_ideal_streaming_services'] + col_names\n",
    "add_constant_TF = True\n",
    "\n",
    "if add_constant_TF:\n",
    "    x_col_name.append('const')\n",
    "    df_train = sm.add_constant(df_train)\n",
    "    df_test = sm.add_constant(df_test)"
   ]
  },
  {
   "cell_type": "code",
   "execution_count": 659,
   "id": "8d8be29a",
   "metadata": {},
   "outputs": [
    {
     "name": "stdout",
     "output_type": "stream",
     "text": [
      "\n",
      "RESULTS OF LOGIT MODEL FITTING\n",
      "\n",
      "                            OLS Regression Results                            \n",
      "==============================================================================\n",
      "Dep. Variable:                  churn   R-squared:                       0.021\n",
      "Model:                            OLS   Adj. R-squared:                  0.021\n",
      "Method:                 Least Squares   F-statistic:                     72.81\n",
      "Date:                Fri, 10 Dec 2021   Prob (F-statistic):          7.59e-163\n",
      "Time:                        23:34:08   Log-Likelihood:                -25760.\n",
      "No. Observations:               37222   AIC:                         5.154e+04\n",
      "Df Residuals:                   37210   BIC:                         5.165e+04\n",
      "Df Model:                          11                                         \n",
      "Covariance Type:            nonrobust                                         \n",
      "===================================================================================================\n",
      "                                      coef    std err          t      P>|t|      [0.025      0.975]\n",
      "---------------------------------------------------------------------------------------------------\n",
      "age                                -0.0029      0.000    -11.664      0.000      -0.003      -0.002\n",
      "gender                             -0.0973      0.009    -10.618      0.000      -0.115      -0.079\n",
      "weekly_consumption_hour            -0.0039      0.001     -4.995      0.000      -0.005      -0.002\n",
      "num_ideal_streaming_services       -0.0300      0.014     -2.106      0.035      -0.058      -0.002\n",
      "app_opens                          -0.0004   6.13e-05     -6.331      0.000      -0.001      -0.000\n",
      "cust_service_mssgs                  0.0065      0.001     11.520      0.000       0.005       0.008\n",
      "num_videos_completed               -0.0001      0.000     -1.309      0.191      -0.000    6.81e-05\n",
      "num_videos_more_than_30_seconds  -9.07e-05      0.000     -0.477      0.633      -0.000       0.000\n",
      "num_videos_rated                    0.0009      0.001      1.307      0.191      -0.000       0.002\n",
      "num_series_started                 -0.0045      0.001     -8.836      0.000      -0.006      -0.004\n",
      "num_day_active                      0.0034      0.001      4.697      0.000       0.002       0.005\n",
      "const                               0.7048      0.037     18.945      0.000       0.632       0.778\n",
      "==============================================================================\n",
      "Omnibus:                   154906.496   Durbin-Watson:                   2.011\n",
      "Prob(Omnibus):                  0.000   Jarque-Bera (JB):             5781.232\n",
      "Skew:                           0.419   Prob(JB):                         0.00\n",
      "Kurtosis:                       1.261   Cond. No.                     2.15e+03\n",
      "==============================================================================\n",
      "\n",
      "Notes:\n",
      "[1] Standard Errors assume that the covariance matrix of the errors is correctly specified.\n",
      "[2] The condition number is large, 2.15e+03. This might indicate that there are\n",
      "strong multicollinearity or other numerical problems.\n",
      "Optimization terminated successfully.\n",
      "         Current function value: 0.659607\n",
      "         Iterations 5\n",
      "\n",
      "RESULTS OF LOGIT MODEL FITTING\n",
      "\n",
      "                           Logit Regression Results                           \n",
      "==============================================================================\n",
      "Dep. Variable:                  churn   No. Observations:                37222\n",
      "Model:                          Logit   Df Residuals:                    37210\n",
      "Method:                           MLE   Df Model:                           11\n",
      "Date:                Fri, 10 Dec 2021   Pseudo R-squ.:                 0.01614\n",
      "Time:                        23:34:08   Log-Likelihood:                -24552.\n",
      "converged:                       True   LL-Null:                       -24955.\n",
      "Covariance Type:            nonrobust   LLR p-value:                1.192e-165\n",
      "===================================================================================================\n",
      "                                      coef    std err          z      P>|z|      [0.025      0.975]\n",
      "---------------------------------------------------------------------------------------------------\n",
      "age                                -0.0125      0.001    -11.664      0.000      -0.015      -0.010\n",
      "gender                             -0.4495      0.041    -10.943      0.000      -0.530      -0.369\n",
      "weekly_consumption_hour            -0.0168      0.003     -5.009      0.000      -0.023      -0.010\n",
      "num_ideal_streaming_services       -0.1292      0.062     -2.097      0.036      -0.250      -0.008\n",
      "app_opens                          -0.0018      0.000     -6.356      0.000      -0.002      -0.001\n",
      "cust_service_mssgs                  0.0277      0.002     11.442      0.000       0.023       0.032\n",
      "num_videos_completed               -0.0006      0.000     -1.270      0.204      -0.001       0.000\n",
      "num_videos_more_than_30_seconds    -0.0004      0.001     -0.508      0.611      -0.002       0.001\n",
      "num_videos_rated                    0.0037      0.003      1.291      0.197      -0.002       0.009\n",
      "num_series_started                 -0.0192      0.002     -8.756      0.000      -0.023      -0.015\n",
      "num_day_active                      0.0143      0.003      4.679      0.000       0.008       0.020\n",
      "const                               0.9110      0.161      5.665      0.000       0.596       1.226\n",
      "===================================================================================================\n"
     ]
    }
   ],
   "source": [
    "# Fit linear probability model\n",
    "lpm_model = sm.OLS(endog=df_train[y_col_name], exog=df_train[x_col_name])\n",
    "lpm_results = lpm_model.fit()\n",
    "print(\"\\nRESULTS OF LOGIT MODEL FITTING\\n\")\n",
    "print(lpm_results.summary())\n",
    "\n",
    "# Fit logistic regression model\n",
    "logit_model = sm.Logit(endog=df_train[y_col_name], exog=df_train[x_col_name])\n",
    "logit_results = logit_model.fit()\n",
    "print(\"\\nRESULTS OF LOGIT MODEL FITTING\\n\")\n",
    "print(logit_results.summary())"
   ]
  },
  {
   "cell_type": "markdown",
   "id": "dddbe80d",
   "metadata": {},
   "source": [
    "Next we use VIF to choose variable to drop."
   ]
  },
  {
   "cell_type": "code",
   "execution_count": 653,
   "id": "1a69315a",
   "metadata": {},
   "outputs": [],
   "source": [
    "from statsmodels.stats.outliers_influence import variance_inflation_factor"
   ]
  },
  {
   "cell_type": "code",
   "execution_count": 660,
   "id": "f981819b",
   "metadata": {},
   "outputs": [
    {
     "name": "stdout",
     "output_type": "stream",
     "text": [
      "    VIF Factor                         features\n",
      "0          1.0                              age\n",
      "1          1.4                           gender\n",
      "2          1.4          weekly_consumption_hour\n",
      "3          1.0     num_ideal_streaming_services\n",
      "4          1.6                        app_opens\n",
      "5          1.6               cust_service_mssgs\n",
      "6          3.8             num_videos_completed\n",
      "7         12.2  num_videos_more_than_30_seconds\n",
      "8          1.3                 num_videos_rated\n",
      "9          5.6               num_series_started\n",
      "10         9.1                   num_day_active\n",
      "11       220.4                            const\n"
     ]
    }
   ],
   "source": [
    "x_temp = sm.add_constant(df_train[x_col_name])\n",
    "\n",
    "vif = pd.DataFrame()\n",
    "vif[\"VIF Factor\"] = [variance_inflation_factor(x_temp.values, i) for i in range(x_temp.values.shape[1])]\n",
    "vif[\"features\"] = x_temp.columns\n",
    "print(vif.round(1))"
   ]
  },
  {
   "cell_type": "markdown",
   "id": "12ddc093",
   "metadata": {},
   "source": [
    "Since variable ***num_videos_more_than_30_seconds*** has the highest VIF, we drop it."
   ]
  },
  {
   "cell_type": "code",
   "execution_count": 731,
   "id": "fc9fda9c",
   "metadata": {},
   "outputs": [],
   "source": [
    "# Drop the variables and train a new model\n",
    "\n",
    "df_model = df_final.drop(columns = 'num_videos_more_than_30_seconds')\n",
    "\n",
    "df_train, df_test = model_selection.train_test_split(df_model, test_size=0.3)\n",
    "\n",
    "y_col_name = 'churn'\n",
    "x_col_name = ['age','gender','weekly_consumption_hour','num_ideal_streaming_services'] + col_names\n",
    "x_col_name.remove('num_videos_more_than_30_seconds')\n",
    "x_col_name.remove('num_videos_completed')\n",
    "x_col_name.remove('num_videos_rated')\n",
    "x_col_name.remove('num_ideal_streaming_services')\n",
    "add_constant_TF = True\n",
    "\n",
    "if add_constant_TF:\n",
    "    x_col_name.append('const')\n",
    "    df_train = sm.add_constant(df_train)\n",
    "    df_test = sm.add_constant(df_test)"
   ]
  },
  {
   "cell_type": "markdown",
   "id": "8ae7a307",
   "metadata": {},
   "source": [
    "Let's train a new model."
   ]
  },
  {
   "cell_type": "code",
   "execution_count": 809,
   "id": "4ba8ee70",
   "metadata": {},
   "outputs": [
    {
     "name": "stdout",
     "output_type": "stream",
     "text": [
      "\n",
      "RESULTS OF LPM MODEL FITTING\n",
      "\n",
      "                            OLS Regression Results                            \n",
      "==============================================================================\n",
      "Dep. Variable:                  churn   R-squared:                       0.018\n",
      "Model:                            OLS   Adj. R-squared:                  0.018\n",
      "Method:                 Least Squares   F-statistic:                     98.31\n",
      "Date:                Sat, 11 Dec 2021   Prob (F-statistic):          5.42e-143\n",
      "Time:                        17:47:56   Log-Likelihood:                -25831.\n",
      "No. Observations:               37222   AIC:                         5.168e+04\n",
      "Df Residuals:                   37214   BIC:                         5.175e+04\n",
      "Df Model:                           7                                         \n",
      "Covariance Type:            nonrobust                                         \n",
      "===========================================================================================\n",
      "                              coef    std err          t      P>|t|      [0.025      0.975]\n",
      "-------------------------------------------------------------------------------------------\n",
      "age                        -0.0026      0.000    -10.502      0.000      -0.003      -0.002\n",
      "gender                     -0.0881      0.009     -9.574      0.000      -0.106      -0.070\n",
      "weekly_consumption_hour    -0.0036      0.001     -4.686      0.000      -0.005      -0.002\n",
      "app_opens                  -0.0003    6.1e-05     -5.688      0.000      -0.000      -0.000\n",
      "cust_service_mssgs          0.0059      0.001     11.169      0.000       0.005       0.007\n",
      "num_series_started         -0.0049      0.000    -12.053      0.000      -0.006      -0.004\n",
      "num_day_active              0.0029      0.000      6.686      0.000       0.002       0.004\n",
      "const                       0.6288      0.026     24.032      0.000       0.578       0.680\n",
      "==============================================================================\n",
      "Omnibus:                   152972.954   Durbin-Watson:                   1.990\n",
      "Prob(Omnibus):                  0.000   Jarque-Bera (JB):             5841.912\n",
      "Skew:                           0.417   Prob(JB):                         0.00\n",
      "Kurtosis:                       1.248   Cond. No.                         901.\n",
      "==============================================================================\n",
      "\n",
      "Notes:\n",
      "[1] Standard Errors assume that the covariance matrix of the errors is correctly specified.\n",
      "Optimization terminated successfully.\n",
      "         Current function value: 0.661542\n",
      "         Iterations 5\n",
      "\n",
      "RESULTS OF LOGIT MODEL FITTING\n",
      "\n",
      "                           Logit Regression Results                           \n",
      "==============================================================================\n",
      "Dep. Variable:                  churn   No. Observations:                37222\n",
      "Model:                          Logit   Df Residuals:                    37214\n",
      "Method:                           MLE   Df Model:                            7\n",
      "Date:                Sat, 11 Dec 2021   Pseudo R-squ.:                 0.01385\n",
      "Time:                        17:47:56   Log-Likelihood:                -24624.\n",
      "converged:                       True   LL-Null:                       -24970.\n",
      "Covariance Type:            nonrobust   LLR p-value:                4.341e-145\n",
      "===========================================================================================\n",
      "                              coef    std err          z      P>|z|      [0.025      0.975]\n",
      "-------------------------------------------------------------------------------------------\n",
      "age                        -0.0113      0.001    -10.519      0.000      -0.013      -0.009\n",
      "gender                     -0.4030      0.041     -9.861      0.000      -0.483      -0.323\n",
      "weekly_consumption_hour    -0.0157      0.003     -4.689      0.000      -0.022      -0.009\n",
      "app_opens                  -0.0016      0.000     -5.717      0.000      -0.002      -0.001\n",
      "cust_service_mssgs          0.0251      0.002     11.108      0.000       0.021       0.030\n",
      "num_series_started         -0.0206      0.002    -11.968      0.000      -0.024      -0.017\n",
      "num_day_active              0.0122      0.002      6.638      0.000       0.009       0.016\n",
      "const                       0.5777      0.112      5.142      0.000       0.357       0.798\n",
      "===========================================================================================\n"
     ]
    }
   ],
   "source": [
    "# Fit linear probability model\n",
    "lpm_model = sm.OLS(endog=df_train[y_col_name], exog=df_train[x_col_name])\n",
    "lpm_results = lpm_model.fit()\n",
    "print(\"\\nRESULTS OF LPM MODEL FITTING\\n\")\n",
    "print(lpm_results.summary())\n",
    "\n",
    "# Fit logistic regression model\n",
    "logit_model = sm.Logit(endog=df_train[y_col_name], exog=df_train[x_col_name])\n",
    "logit_results = logit_model.fit()\n",
    "print(\"\\nRESULTS OF LOGIT MODEL FITTING\\n\")\n",
    "print(logit_results.summary())"
   ]
  },
  {
   "cell_type": "code",
   "execution_count": 742,
   "id": "d8fbeec0",
   "metadata": {},
   "outputs": [
    {
     "name": "stdout",
     "output_type": "stream",
     "text": [
      "age\n",
      "gender\n",
      "weekly_consumption_hour\n",
      "app_opens\n",
      "cust_service_mssgs\n",
      "num_series_started\n",
      "num_day_active\n"
     ]
    },
    {
     "ename": "IndexError",
     "evalue": "list index out of range",
     "output_type": "error",
     "traceback": [
      "\u001b[1;31m---------------------------------------------------------------------------\u001b[0m",
      "\u001b[1;31mIndexError\u001b[0m                                Traceback (most recent call last)",
      "\u001b[1;32m<ipython-input-742-8db059f31e89>\u001b[0m in \u001b[0;36m<module>\u001b[1;34m\u001b[0m\n\u001b[0;32m     11\u001b[0m \u001b[1;32mfor\u001b[0m \u001b[0mi\u001b[0m \u001b[1;32min\u001b[0m \u001b[0mrange\u001b[0m\u001b[1;33m(\u001b[0m\u001b[0mn_rows\u001b[0m\u001b[1;33m)\u001b[0m\u001b[1;33m:\u001b[0m\u001b[1;33m\u001b[0m\u001b[1;33m\u001b[0m\u001b[0m\n\u001b[0;32m     12\u001b[0m     \u001b[1;32mfor\u001b[0m \u001b[0mj\u001b[0m \u001b[1;32min\u001b[0m \u001b[0mrange\u001b[0m\u001b[1;33m(\u001b[0m\u001b[0mn_cols\u001b[0m\u001b[1;33m)\u001b[0m\u001b[1;33m:\u001b[0m\u001b[1;33m\u001b[0m\u001b[1;33m\u001b[0m\u001b[0m\n\u001b[1;32m---> 13\u001b[1;33m         \u001b[0mselect_coef\u001b[0m \u001b[1;33m=\u001b[0m \u001b[0mselect_plot_coef\u001b[0m\u001b[1;33m[\u001b[0m\u001b[0mi\u001b[0m \u001b[1;33m*\u001b[0m \u001b[0mn_cols\u001b[0m \u001b[1;33m+\u001b[0m \u001b[0mj\u001b[0m\u001b[1;33m]\u001b[0m\u001b[1;33m\u001b[0m\u001b[1;33m\u001b[0m\u001b[0m\n\u001b[0m\u001b[0;32m     14\u001b[0m         \u001b[0mprint\u001b[0m\u001b[1;33m(\u001b[0m\u001b[0mselect_coef\u001b[0m\u001b[1;33m)\u001b[0m\u001b[1;33m\u001b[0m\u001b[1;33m\u001b[0m\u001b[0m\n\u001b[0;32m     15\u001b[0m         \u001b[0maxes\u001b[0m\u001b[1;33m[\u001b[0m\u001b[0mi\u001b[0m\u001b[1;33m,\u001b[0m \u001b[0mj\u001b[0m\u001b[1;33m]\u001b[0m\u001b[1;33m.\u001b[0m\u001b[0mplot\u001b[0m\u001b[1;33m(\u001b[0m\u001b[0mdf_test\u001b[0m\u001b[1;33m[\u001b[0m\u001b[0mselect_coef\u001b[0m\u001b[1;33m]\u001b[0m\u001b[1;33m,\u001b[0m \u001b[0mdf_test\u001b[0m\u001b[1;33m[\u001b[0m\u001b[1;34m'churn'\u001b[0m\u001b[1;33m]\u001b[0m\u001b[1;33m,\u001b[0m\u001b[1;34m\"g.\"\u001b[0m\u001b[1;33m)\u001b[0m\u001b[1;33m\u001b[0m\u001b[1;33m\u001b[0m\u001b[0m\n",
      "\u001b[1;31mIndexError\u001b[0m: list index out of range"
     ]
    },
    {
     "data": {
      "image/png": "[encoded data removed]",
      "text/plain": [
       "<Figure size 1440x720 with 8 Axes>"
      ]
     },
     "metadata": {
      "needs_background": "light"
     },
     "output_type": "display_data"
    }
   ],
   "source": [
    "# Evaluate model predictions on test set graphically\n",
    "df_test['prob_churn_lpm'] = lpm_results.predict(df_test[x_col_name])\n",
    "df_test['prob_churn_logit'] = logit_results.predict(df_test[x_col_name])\n",
    "\n",
    "# plot predictions vs. data\n",
    "select_plot_coef = [x for x in x_col_name if x != 'const']\n",
    "n_rows = 2\n",
    "n_cols = math.ceil(len(select_plot_coef) / n_rows)\n",
    "fig, axes = plt.subplots(n_rows, n_cols ,figsize=(20,10))\n",
    "fig.suptitle('Single factor relationship with churn')\n",
    "for i in range(n_rows):\n",
    "    for j in range(n_cols):\n",
    "        select_coef = select_plot_coef[i * n_cols + j]\n",
    "        print(select_coef)\n",
    "        axes[i, j].plot(df_test[select_coef], df_test['churn'],\"g.\")\n",
    "        axes[i, j].plot(df_test[select_coef], df_test['prob_churn_lpm'], 'b.')\n",
    "        axes[i, j].plot(df_test[select_coef], df_test['prob_churn_logit'], 'r.')\n",
    "        axes[i, j].set(xlabel=select_coef, ylabel='Churn prob.')\n",
    "fig.legend(labels=['Churn T/F (actual)', 'Linear probability model', 'Logit probability'])"
   ]
  },
  {
   "cell_type": "markdown",
   "id": "90e31efd",
   "metadata": {},
   "source": [
    "We can see that: <br>\n",
    "Users who are older are more likely to churn.<br>\n",
    "Males users are more likely to churn.<br>\n",
    "Users with higher weekly consumption hour are more likely to churn.<br>\n",
    "Users who opened apps less are more likely to churn.<br>\n",
    "Users who sent more customer service messages are more likely to churn."
   ]
  },
  {
   "cell_type": "code",
   "execution_count": 748,
   "id": "29e2054e",
   "metadata": {},
   "outputs": [
    {
     "data": {
      "text/plain": [
       "<matplotlib.legend.Legend at 0x1c2bff964c0>"
      ]
     },
     "execution_count": 748,
     "metadata": {},
     "output_type": "execute_result"
    },
    {
     "data": {
      "image/png": "[encoded data removed]",
      "text/plain": [
       "<Figure size 432x288 with 1 Axes>"
      ]
     },
     "metadata": {
      "needs_background": "light"
     },
     "output_type": "display_data"
    }
   ],
   "source": [
    "# Compare lpm and logit predictions\n",
    "fig = plt.figure()\n",
    "ax = plt.gca()\n",
    "ax.plot(df_test[['prob_churn_lpm']], df_test[['churn']], 'k.')\n",
    "ax.plot(df_test[['prob_churn_lpm']], df_test[['prob_churn_logit']], 'r.')\n",
    "plt.ylim(df_test[['prob_churn_lpm', 'prob_churn_logit']].min().min()-.05, df_test[['prob_churn_lpm', 'prob_churn_logit']].max().max()+.05)\n",
    "plt.xlim(ax.get_ylim())\n",
    "plt.title('LPM vs logit predictions')\n",
    "plt.xlabel('Linear Probability Model Prediction')\n",
    "plt.ylabel('Logit Model Prediction')\n",
    "plt.ylim((0,1))\n",
    "fig.legend(labels=['Churn T/F (actual)', 'Linear probability model', 'Logit probability'])"
   ]
  },
  {
   "cell_type": "code",
   "execution_count": 749,
   "id": "f2916ce0",
   "metadata": {},
   "outputs": [
    {
     "data": {
      "text/plain": [
       "<matplotlib.legend.Legend at 0x1c2bfde3130>"
      ]
     },
     "execution_count": 749,
     "metadata": {},
     "output_type": "execute_result"
    },
    {
     "data": {
      "image/png": "[encoded data removed]",
      "text/plain": [
       "<Figure size 432x288 with 1 Axes>"
      ]
     },
     "metadata": {
      "needs_background": "light"
     },
     "output_type": "display_data"
    }
   ],
   "source": [
    "# --- evaluate model predictions using numerical quantification (ROC curves)\n",
    "# make confusion matrices\n",
    "logit_conf_mat, logit_false_positives, logit_true_positives = get_gini_info(df_test['churn'], df_test['prob_churn_logit'])\n",
    "lpm_conf_mat, lpm_false_positives, lpm_true_positives = get_gini_info(df_test['churn'], df_test['prob_churn_lpm'])\n",
    "\n",
    "# plot ROC curves\n",
    "fig = plt.figure()\n",
    "ax1 = plt.gca()\n",
    "ax1.plot(lpm_false_positives, lpm_true_positives, 'r')\n",
    "ax1.plot(logit_false_positives, logit_true_positives, 'b')\n",
    "plt.title('ROC curves')\n",
    "plt.xlabel('False positives (positive=churn)')\n",
    "plt.ylabel('True positives (positive=churn)')\n",
    "plt.legend(labels=['Linear probability model', 'Logit probability'])"
   ]
  },
  {
   "cell_type": "markdown",
   "id": "6487cd6e",
   "metadata": {},
   "source": [
    "Next, we can test retention offer scenarios."
   ]
  },
  {
   "cell_type": "code",
   "execution_count": 756,
   "id": "c93f3c49",
   "metadata": {},
   "outputs": [],
   "source": [
    "# Build the apply_offer function\n",
    "\n",
    "def apply_offers(df, threshold, base_price, discount_amount, cases, acceptance_rate_churn, acceptance_rate_nonchurn):\n",
    "    df_f = deepcopy(df)\n",
    "\n",
    "    # set offer parameters for all observations\n",
    "    df_f['price_no_offer'] = base_price\n",
    "    df_f.loc[df_f['churn'] == 1, 'price_no_offer'] = 0  # if the person churns they will pay 0\n",
    "\n",
    "    # determine whether indiviudals accept offer\n",
    "    df_f.loc[df_f['churn'] == 1, 'accept_offer_prob'] = acceptance_rate_churn  # those who were going to churn are less likely to want the offer than those who were going to stay\n",
    "    df_f.loc[df_f['churn'] == 0, 'accept_offer_prob'] = acceptance_rate_nonchurn\n",
    "    df_f['would_accept_offer_rand_draw'] = (df_f['random_draws'] < df_f['accept_offer_prob'])  # randomly select the individuals who would accept an offer based on their probability of acceptance\n",
    "\n",
    "    # make offer under lpm predictions for select threshold\n",
    "    df_f['make_offer_lpm'] = (df_f['prob_churn_lpm'] > threshold)     # predict whether individual will churn or not\n",
    "    df_f['accept_offer_lpm'] = (df_f['make_offer_lpm'] & df_f['would_accept_offer_rand_draw'])\n",
    "    df_f['price_lpm_offer'] = df_f['price_no_offer']  # initialize prices from \"do nothing case\"\n",
    "    df_f.loc[df_f['accept_offer_lpm'], 'price_lpm_offer'] = base_price * (1-discount_amount)    # for those who were both made an offer and would accept, set prices to discounted price\n",
    "\n",
    "    # make offer under logit predictions for select threshold\n",
    "    df_f['make_offer_logit'] = (df_f['prob_churn_logit'] > threshold)     # predict whether individual will churn or not\n",
    "    df_f['accept_offer_logit'] = (df_f['make_offer_logit'] & df_f['would_accept_offer_rand_draw'])\n",
    "    df_f['price_logit_offer'] = df_f['price_no_offer']  # initialize prices from \"do nothing case\"\n",
    "    df_f.loc[df_f['accept_offer_logit'], 'price_logit_offer'] = base_price * (1-discount_amount)    # for those who were both made an offer and would accept, set prices to discounted price\n",
    "\n",
    "    df_impact = pd.DataFrame(index=cases, columns=['subs', 'revenue', 'lift_from_no_offer'])\n",
    "    for c in cases:\n",
    "        df_impact.loc[c, 'subs'] = (df_f['price_' + c] > 0).sum()\n",
    "        df_impact.loc[c, 'revenue'] = df_f['price_' + c].sum()\n",
    "    for c in cases:\n",
    "        df_impact.loc[c, 'lift_from_no_offer'] = df_impact.loc[c, 'revenue'] / df_impact.loc['no_offer', 'revenue'] - 1\n",
    "\n",
    "    return df_f, df_impact"
   ]
  },
  {
   "cell_type": "code",
   "execution_count": 754,
   "id": "3730d6b6",
   "metadata": {},
   "outputs": [
    {
     "data": {
      "text/plain": [
       "4.7343    53053\n",
       "5.1013       84\n",
       "1.0643       26\n",
       "4.4407        7\n",
       "4.3673        4\n",
       "4.0003        1\n",
       "Name: monthly_price, dtype: int64"
      ]
     },
     "execution_count": 754,
     "metadata": {},
     "output_type": "execute_result"
    }
   ],
   "source": [
    "df_convert_joint['monthly_price'].value_counts()"
   ]
  },
  {
   "cell_type": "code",
   "execution_count": 763,
   "id": "f51c4a80",
   "metadata": {},
   "outputs": [
    {
     "data": {
      "text/plain": [
       "4.5141    53052\n",
       "5.0279       84\n",
       "1.0276       26\n",
       "4.2205        7\n",
       "4.0737        4\n",
       "4.4407        1\n",
       "3.7801        1\n",
       "Name: discount_price, dtype: int64"
      ]
     },
     "execution_count": 763,
     "metadata": {},
     "output_type": "execute_result"
    }
   ],
   "source": [
    "df_convert_joint['discount_price'].value_counts()"
   ]
  },
  {
   "cell_type": "code",
   "execution_count": 762,
   "id": "c4ca8b8e",
   "metadata": {},
   "outputs": [
    {
     "data": {
      "text/plain": [
       "0.9534883720930232"
      ]
     },
     "execution_count": 762,
     "metadata": {},
     "output_type": "execute_result"
    }
   ],
   "source": [
    "df_convert_joint['discount_price'].value_counts().index[0]/df_convert_joint['monthly_price'].value_counts().index[0]"
   ]
  },
  {
   "cell_type": "markdown",
   "id": "e01b7ce5",
   "metadata": {},
   "source": [
    "Since majority of users had the same plan, we set the base price to 4.73.<br>\n",
    "And we set our default discount to 0.05."
   ]
  },
  {
   "cell_type": "code",
   "execution_count": 764,
   "id": "23da0777",
   "metadata": {},
   "outputs": [],
   "source": [
    "# Evaluate the impact of an offer\n",
    "acceptance_rate_nonchurn = 1\n",
    "acceptance_rate_churn = 0.3\n",
    "threshold = 0.5\n",
    "base_price = 4.73\n",
    "discount_amount = 0.05\n",
    "cases = ['no_offer', 'lpm_offer', 'logit_offer']\n",
    "\n",
    "# draw whether individual would accept an offer or not - assume probability of acceptance is independent of offer attractiveness\n",
    "df_test['random_draws'] = np.random.random(df_test.shape[0])\n",
    "\n",
    "# base assessment\n",
    "df_test, df_impact = apply_offers(df_test, threshold, base_price, discount_amount, cases, acceptance_rate_churn, acceptance_rate_nonchurn)\n",
    "\n",
    "\n",
    "# test sensitivity to thresholds\n",
    "df_lift_threshold = pd.DataFrame(index=range(0, 100, 1), columns=['threshold'] + cases)\n",
    "for t_ind in df_lift_threshold.index:\n",
    "    t_threshold = t_ind / 100\n",
    "    _, t_df_impact = apply_offers(df_test, t_threshold, base_price, discount_amount, cases, acceptance_rate_churn, acceptance_rate_nonchurn)\n",
    "\n",
    "    df_lift_threshold.loc[t_ind, 'threshold'] = t_threshold\n",
    "    df_lift_threshold.loc[t_ind, cases] = t_df_impact.loc[cases, 'lift_from_no_offer']\n",
    "del t_df_impact, t_threshold, t_ind\n",
    "\n",
    "# test sensitivity to acceptance rate for churners\n",
    "df_lift_acceptance_rate_churn = pd.DataFrame(index=range(0, 100, 1), columns=['acceptance_rate_churn'] + cases)\n",
    "for t_ind in df_lift_acceptance_rate_churn.index:\n",
    "    t_acceptance_rate_churn = t_ind / 100\n",
    "    _, t_df_impact = apply_offers(df_test, threshold, base_price, discount_amount, cases, t_acceptance_rate_churn, acceptance_rate_nonchurn)\n",
    "\n",
    "    df_lift_acceptance_rate_churn.loc[t_ind, 'acceptance_rate_churn'] = t_acceptance_rate_churn\n",
    "    df_lift_acceptance_rate_churn.loc[t_ind, cases] = t_df_impact.loc[cases, 'lift_from_no_offer']\n",
    "del t_df_impact, t_acceptance_rate_churn, t_ind\n",
    "\n",
    "# test sensitivity to offer discount amount\n",
    "df_lift_discount_amount = pd.DataFrame(index=range(0, 100, 1), columns=['discount_amount'] + cases)\n",
    "for t_ind in df_lift_discount_amount.index:\n",
    "    t_discount_amount = t_ind / 100\n",
    "    _, t_df_impact = apply_offers(df_test, threshold, base_price, t_discount_amount, cases, acceptance_rate_churn, acceptance_rate_nonchurn)\n",
    "\n",
    "    df_lift_discount_amount.loc[t_ind, 'discount_amount'] = t_discount_amount\n",
    "    df_lift_discount_amount.loc[t_ind, cases] = t_df_impact.loc[cases, 'lift_from_no_offer']\n",
    "del t_df_impact, t_discount_amount, t_ind"
   ]
  },
  {
   "cell_type": "code",
   "execution_count": 765,
   "id": "8be8b24b",
   "metadata": {},
   "outputs": [
    {
     "data": {
      "text/plain": [
       "<matplotlib.legend.Legend at 0x1c2ba6547f0>"
      ]
     },
     "execution_count": 765,
     "metadata": {},
     "output_type": "execute_result"
    },
    {
     "data": {
      "image/png": "[encoded data removed]",
      "text/plain": [
       "<Figure size 432x288 with 1 Axes>"
      ]
     },
     "metadata": {
      "needs_background": "light"
     },
     "output_type": "display_data"
    }
   ],
   "source": [
    "# evaluate the impact of an offer\n",
    "acceptance_rate_nonchurn = 1\n",
    "acceptance_rate_churn = 0.3\n",
    "threshold = 0.5\n",
    "base_price = 4.73\n",
    "discount_amount = 0.05\n",
    "cases = ['no_offer', 'lpm_offer', 'logit_offer']\n",
    "\n",
    "# test sensitivity to thresholds\n",
    "df_lift_threshold = pd.DataFrame(index=range(0, 100, 1), columns=['threshold'] + cases)\n",
    "for t_ind in df_lift_threshold.index:\n",
    "    t_threshold = t_ind / 100\n",
    "    _, t_df_impact = apply_offers(df_test, t_threshold, base_price, discount_amount, cases, acceptance_rate_churn, acceptance_rate_nonchurn)\n",
    "\n",
    "    df_lift_threshold.loc[t_ind, 'threshold'] = t_threshold\n",
    "    df_lift_threshold.loc[t_ind, cases] = t_df_impact.loc[cases, 'lift_from_no_offer']\n",
    "del t_df_impact, t_threshold, t_ind\n",
    "\n",
    "# Threshold sensitivity\n",
    "fig = plt.figure()\n",
    "ax1 = plt.gca()\n",
    "ax1.plot(df_lift_threshold['threshold'], df_lift_threshold['lpm_offer'], color = '#be9f77')\n",
    "ax1.plot(df_lift_threshold['threshold'], df_lift_threshold['logit_offer'], color = '#5e5e5e')\n",
    "plt.title('Lift curves')\n",
    "plt.xlabel('Threshold probability for predicting customer churns')\n",
    "plt.ylabel('Revenue lift from base scenario of making no retention offer')\n",
    "plt.legend(labels=['Linear probability model', 'Logit probability'])"
   ]
  },
  {
   "cell_type": "code",
   "execution_count": 772,
   "id": "b98c9268",
   "metadata": {},
   "outputs": [
    {
     "data": {
      "text/html": [
       "<div>\n",
       "<style scoped>\n",
       "    .dataframe tbody tr th:only-of-type {\n",
       "        vertical-align: middle;\n",
       "    }\n",
       "\n",
       "    .dataframe tbody tr th {\n",
       "        vertical-align: top;\n",
       "    }\n",
       "\n",
       "    .dataframe thead th {\n",
       "        text-align: right;\n",
       "    }\n",
       "</style>\n",
       "<table border=\"1\" class=\"dataframe\">\n",
       "  <thead>\n",
       "    <tr style=\"text-align: right;\">\n",
       "      <th></th>\n",
       "      <th>threshold</th>\n",
       "      <th>no_offer</th>\n",
       "      <th>lpm_offer</th>\n",
       "      <th>logit_offer</th>\n",
       "    </tr>\n",
       "  </thead>\n",
       "  <tbody>\n",
       "    <tr>\n",
       "      <th>15</th>\n",
       "      <td>0.15</td>\n",
       "      <td>0.0</td>\n",
       "      <td>0.130474</td>\n",
       "      <td>0.130392</td>\n",
       "    </tr>\n",
       "  </tbody>\n",
       "</table>\n",
       "</div>"
      ],
      "text/plain": [
       "   threshold no_offer lpm_offer logit_offer\n",
       "15      0.15      0.0  0.130474    0.130392"
      ]
     },
     "execution_count": 772,
     "metadata": {},
     "output_type": "execute_result"
    }
   ],
   "source": [
    "df_lift_threshold[df_lift_threshold['lpm_offer'] == df_lift_threshold['lpm_offer'].max()]"
   ]
  },
  {
   "cell_type": "markdown",
   "id": "0169a0bf",
   "metadata": {},
   "source": [
    "Our sensitivity test implies that, given our current plan price and discount, setting the threshold to 0.15 gives us the highest revenue lift."
   ]
  },
  {
   "cell_type": "markdown",
   "id": "a1a3d70a",
   "metadata": {},
   "source": [
    "Next, let's see if there is a better pricing strategy."
   ]
  },
  {
   "cell_type": "code",
   "execution_count": 776,
   "id": "83f15c9c",
   "metadata": {},
   "outputs": [],
   "source": [
    "# Build a function that test the sensitivity of threshold given discount and accceptance rate\n",
    "\n",
    "def get_best_return(threshold = 0.5, method = 'equivalent'):\n",
    "\n",
    "    # evaluate the impact of an offer\n",
    "    acceptance_rate_nonchurn = 1\n",
    "    acceptance_rate_churn = 0.3\n",
    "    #threshold = 0.50\n",
    "    base_price = 4.73\n",
    "    discount_amount = 0.05\n",
    "    cases = ['no_offer', 'lpm_offer', 'logit_offer']\n",
    "\n",
    "    # test sensitivity to offer discount amount\n",
    "    df_lift_discount_amount = pd.DataFrame(index=range(0, 100, 1), columns=['discount_amount'] + cases)\n",
    "    for t_ind in df_lift_discount_amount.index:\n",
    "        t_discount_amount = t_ind / 100\n",
    "    \n",
    "        # Assume a conservative relationship between discount and acceptance rate\n",
    "        if method == \"conservative\":\n",
    "            if t_discount_amount < 0.1:\n",
    "                t_acceptance_rate_churn = 0\n",
    "            elif t_discount_amount > 0.1:\n",
    "                t_acceptance_rate_churn = t_discount_amount - 0.1\n",
    "        \n",
    "        # Assume a relationship between discount and acceptance rate that they are always equivalent\n",
    "        if method == \"equivalent\":\n",
    "            t_acceptance_rate_churn = t_discount_amount\n",
    "                \n",
    "        # Assume a constance acceptance rate\n",
    "        if method == \"constant\":\n",
    "            if t_discount_amount < 0.1:\n",
    "                t_acceptance_rate_churn = 0\n",
    "            elif t_discount_amount > 0.1:\n",
    "                t_acceptance_rate_churn = 0.3\n",
    "    \n",
    "        _, t_df_impact = apply_offers(df_test, threshold, base_price, t_discount_amount, cases, t_acceptance_rate_churn, acceptance_rate_nonchurn)\n",
    "\n",
    "        df_lift_discount_amount.loc[t_ind, 'discount_amount'] = t_discount_amount\n",
    "        df_lift_discount_amount.loc[t_ind, cases] = t_df_impact.loc[cases, 'lift_from_no_offer']\n",
    "    del t_df_impact, t_discount_amount, t_ind\n",
    "    \n",
    "    best_return = df_lift_discount_amount[df_lift_discount_amount['lpm_offer'] == df_lift_discount_amount['lpm_offer'].max()]\n",
    "    \n",
    "    return best_return"
   ]
  },
  {
   "cell_type": "markdown",
   "id": "29274702",
   "metadata": {},
   "source": [
    "Check our best choice given a conservative scenario."
   ]
  },
  {
   "cell_type": "code",
   "execution_count": 782,
   "id": "2e58c4ec",
   "metadata": {},
   "outputs": [],
   "source": [
    "dict_returns = {}\n",
    "for i in np.arange(0.0, 1.0, 0.01):\n",
    "    best_return = get_best_return(threshold = i, method = 'conservative')\n",
    "    if len(best_return) > 1:\n",
    "        dict_returns[i] = best_return.iloc[0]\n",
    "    else:\n",
    "        dict_returns[i] = best_return"
   ]
  },
  {
   "cell_type": "code",
   "execution_count": 783,
   "id": "7ae8c91f",
   "metadata": {},
   "outputs": [
    {
     "name": "stdout",
     "output_type": "stream",
     "text": [
      "With a discount amount of 0.34, an acceptance rate of 0.24000000000000002, and a threshold of 0.55, we have the best return of 0.00026517505697132293.\n"
     ]
    }
   ],
   "source": [
    "threshold = 0\n",
    "best_return = 0\n",
    "for key, value in dict_returns.items():\n",
    "    ret = float(value['lpm_offer'])\n",
    "    if ret > best_return:\n",
    "        best_return = ret\n",
    "        threshold = key\n",
    "        \n",
    "best_return = dict_returns[threshold]\n",
    "discount = float(best_return['discount_amount'])\n",
    "acceptance = discount - 0.1\n",
    "ret = float(best_return['lpm_offer'])\n",
    "print(\"With a discount amount of {}, an acceptance rate of {}, and a threshold of {}, we have the best return of {}.\".format(discount, acceptance, threshold, ret))"
   ]
  },
  {
   "cell_type": "code",
   "execution_count": 784,
   "id": "05665d42",
   "metadata": {},
   "outputs": [
    {
     "data": {
      "text/html": [
       "<div>\n",
       "<style scoped>\n",
       "    .dataframe tbody tr th:only-of-type {\n",
       "        vertical-align: middle;\n",
       "    }\n",
       "\n",
       "    .dataframe tbody tr th {\n",
       "        vertical-align: top;\n",
       "    }\n",
       "\n",
       "    .dataframe thead th {\n",
       "        text-align: right;\n",
       "    }\n",
       "</style>\n",
       "<table border=\"1\" class=\"dataframe\">\n",
       "  <thead>\n",
       "    <tr style=\"text-align: right;\">\n",
       "      <th></th>\n",
       "      <th>discount_amount</th>\n",
       "      <th>no_offer</th>\n",
       "      <th>lpm_offer</th>\n",
       "      <th>logit_offer</th>\n",
       "    </tr>\n",
       "  </thead>\n",
       "  <tbody>\n",
       "    <tr>\n",
       "      <th>34</th>\n",
       "      <td>0.34</td>\n",
       "      <td>0.0</td>\n",
       "      <td>0.000265</td>\n",
       "      <td>0.000189</td>\n",
       "    </tr>\n",
       "  </tbody>\n",
       "</table>\n",
       "</div>"
      ],
      "text/plain": [
       "   discount_amount no_offer lpm_offer logit_offer\n",
       "34            0.34      0.0  0.000265    0.000189"
      ]
     },
     "execution_count": 784,
     "metadata": {},
     "output_type": "execute_result"
    }
   ],
   "source": [
    "best_return"
   ]
  },
  {
   "cell_type": "code",
   "execution_count": 811,
   "id": "d8154dd7",
   "metadata": {},
   "outputs": [
    {
     "data": {
      "text/plain": [
       "<matplotlib.legend.Legend at 0x1c2b8e2fdc0>"
      ]
     },
     "execution_count": 811,
     "metadata": {},
     "output_type": "execute_result"
    },
    {
     "data": {
      "image/png": "[encoded data removed]",
      "text/plain": [
       "<Figure size 432x288 with 1 Axes>"
      ]
     },
     "metadata": {
      "needs_background": "light"
     },
     "output_type": "display_data"
    }
   ],
   "source": [
    "# evaluate the impact of an offer\n",
    "acceptance_rate_nonchurn = 1\n",
    "acceptance_rate_churn = 0.24\n",
    "threshold = 0.55\n",
    "base_price = 4.73\n",
    "discount_amount = 0.34\n",
    "cases = ['no_offer', 'lpm_offer', 'logit_offer']\n",
    "\n",
    "# test sensitivity to thresholds\n",
    "df_lift_threshold = pd.DataFrame(index=range(0, 100, 1), columns=['threshold'] + cases)\n",
    "for t_ind in df_lift_threshold.index:\n",
    "    t_threshold = t_ind / 100\n",
    "    _, t_df_impact = apply_offers(df_test, t_threshold, base_price, discount_amount, cases, acceptance_rate_churn, acceptance_rate_nonchurn)\n",
    "\n",
    "    df_lift_threshold.loc[t_ind, 'threshold'] = t_threshold\n",
    "    df_lift_threshold.loc[t_ind, cases] = t_df_impact.loc[cases, 'lift_from_no_offer']\n",
    "del t_df_impact, t_threshold, t_ind\n",
    "\n",
    "# Threshold sensitivity\n",
    "fig = plt.figure()\n",
    "ax1 = plt.gca()\n",
    "ax1.plot(df_lift_threshold['threshold'], df_lift_threshold['lpm_offer'], 'r')\n",
    "ax1.plot(df_lift_threshold['threshold'], df_lift_threshold['logit_offer'], 'b')\n",
    "plt.title('Lift curves')\n",
    "plt.xlabel('Threshold probability for predicting customer churns')\n",
    "plt.ylabel('Revenue lift from base scenario of making no retention offer')\n",
    "plt.legend(labels=['Linear probability model', 'Logit probability'])"
   ]
  },
  {
   "cell_type": "code",
   "execution_count": 810,
   "id": "246950f3",
   "metadata": {},
   "outputs": [
    {
     "data": {
      "text/plain": [
       "<matplotlib.legend.Legend at 0x1c2b8d83c40>"
      ]
     },
     "execution_count": 810,
     "metadata": {},
     "output_type": "execute_result"
    },
    {
     "data": {
      "image/png": "[encoded data removed]",
      "text/plain": [
       "<Figure size 432x288 with 1 Axes>"
      ]
     },
     "metadata": {
      "needs_background": "light"
     },
     "output_type": "display_data"
    }
   ],
   "source": [
    "# evaluate the impact of an offer\n",
    "acceptance_rate_nonchurn = 1\n",
    "acceptance_rate_churn = 0.3\n",
    "threshold = 0.55\n",
    "base_price = 4.73\n",
    "discount_amount = 0.3\n",
    "cases = ['no_offer', 'lpm_offer', 'logit_offer']\n",
    "\n",
    "# test sensitivity to offer discount amount\n",
    "df_lift_discount_amount = pd.DataFrame(index=range(0, 100, 1), columns=['discount_amount'] + cases)\n",
    "for t_ind in df_lift_discount_amount.index:\n",
    "    t_discount_amount = t_ind / 100\n",
    "    \n",
    "    # Build a function that determines the acceptance rate given different discounts\n",
    "    if t_discount_amount < 0.1:\n",
    "        t_acceptance_rate_churn = 0\n",
    "    elif t_discount_amount > 0.1:\n",
    "        t_acceptance_rate_churn = t_discount_amount - 0.1\n",
    "    \n",
    "    _, t_df_impact = apply_offers(df_test, threshold, base_price, t_discount_amount, cases, t_acceptance_rate_churn, acceptance_rate_nonchurn)\n",
    "\n",
    "    df_lift_discount_amount.loc[t_ind, 'discount_amount'] = t_discount_amount\n",
    "    df_lift_discount_amount.loc[t_ind, cases] = t_df_impact.loc[cases, 'lift_from_no_offer']\n",
    "del t_df_impact, t_discount_amount, t_ind\n",
    "\n",
    "# Discount amount sensitivity\n",
    "fig = plt.figure()\n",
    "ax1 = plt.gca()\n",
    "ax1.plot(df_lift_discount_amount['discount_amount'], df_lift_discount_amount['lpm_offer'], color = 'r')\n",
    "ax1.plot(df_lift_discount_amount['discount_amount'], df_lift_discount_amount['logit_offer'], color = 'b')\n",
    "plt.title('Lift curves')\n",
    "plt.xlabel('Offer discount amount')\n",
    "plt.ylabel('Revenue lift from base scenario of making no retention offer')\n",
    "plt.legend(labels=['Linear probability model', 'Logit probability'])"
   ]
  },
  {
   "cell_type": "markdown",
   "id": "7e740b0c",
   "metadata": {},
   "source": [
    "Check our best choice given an equivalent scenario."
   ]
  },
  {
   "cell_type": "code",
   "execution_count": 787,
   "id": "755e580e",
   "metadata": {},
   "outputs": [],
   "source": [
    "dict_returns = {}\n",
    "for i in np.arange(0.0, 1.0, 0.01):\n",
    "    best_return = get_best_return(threshold = i, method = 'equivalent')\n",
    "    if len(best_return) > 1:\n",
    "        dict_returns[i] = best_return.iloc[0]\n",
    "    else:\n",
    "        dict_returns[i] = best_return"
   ]
  },
  {
   "cell_type": "code",
   "execution_count": 788,
   "id": "0a28e6f5",
   "metadata": {},
   "outputs": [
    {
     "name": "stdout",
     "output_type": "stream",
     "text": [
      "With a discount amount of 0.24, an acceptance rate of 0.24, and a threshold of 0.52, we have the best return of 0.0012802983219388775.\n"
     ]
    }
   ],
   "source": [
    "threshold = 0\n",
    "best_return = 0\n",
    "for key, value in dict_returns.items():\n",
    "    ret = float(value['lpm_offer'])\n",
    "    if ret > best_return:\n",
    "        best_return = ret\n",
    "        threshold = key\n",
    "        \n",
    "best_return = dict_returns[threshold]\n",
    "discount = float(best_return['discount_amount'])\n",
    "acceptance = discount\n",
    "ret = float(best_return['lpm_offer'])\n",
    "print(\"With a discount amount of {}, an acceptance rate of {}, and a threshold of {}, we have the best return of {}.\".format(discount, acceptance, threshold, ret))"
   ]
  },
  {
   "cell_type": "code",
   "execution_count": 789,
   "id": "e21a3cad",
   "metadata": {},
   "outputs": [
    {
     "data": {
      "text/html": [
       "<div>\n",
       "<style scoped>\n",
       "    .dataframe tbody tr th:only-of-type {\n",
       "        vertical-align: middle;\n",
       "    }\n",
       "\n",
       "    .dataframe tbody tr th {\n",
       "        vertical-align: top;\n",
       "    }\n",
       "\n",
       "    .dataframe thead th {\n",
       "        text-align: right;\n",
       "    }\n",
       "</style>\n",
       "<table border=\"1\" class=\"dataframe\">\n",
       "  <thead>\n",
       "    <tr style=\"text-align: right;\">\n",
       "      <th></th>\n",
       "      <th>discount_amount</th>\n",
       "      <th>no_offer</th>\n",
       "      <th>lpm_offer</th>\n",
       "      <th>logit_offer</th>\n",
       "    </tr>\n",
       "  </thead>\n",
       "  <tbody>\n",
       "    <tr>\n",
       "      <th>24</th>\n",
       "      <td>0.24</td>\n",
       "      <td>0.0</td>\n",
       "      <td>0.00128</td>\n",
       "      <td>0.001052</td>\n",
       "    </tr>\n",
       "  </tbody>\n",
       "</table>\n",
       "</div>"
      ],
      "text/plain": [
       "   discount_amount no_offer lpm_offer logit_offer\n",
       "24            0.24      0.0   0.00128    0.001052"
      ]
     },
     "execution_count": 789,
     "metadata": {},
     "output_type": "execute_result"
    }
   ],
   "source": [
    "best_return"
   ]
  },
  {
   "cell_type": "code",
   "execution_count": 790,
   "id": "7f423de1",
   "metadata": {},
   "outputs": [
    {
     "data": {
      "text/plain": [
       "<matplotlib.legend.Legend at 0x1c2bab557f0>"
      ]
     },
     "execution_count": 790,
     "metadata": {},
     "output_type": "execute_result"
    },
    {
     "data": {
      "image/png": "[encoded data removed]",
      "text/plain": [
       "<Figure size 432x288 with 1 Axes>"
      ]
     },
     "metadata": {
      "needs_background": "light"
     },
     "output_type": "display_data"
    }
   ],
   "source": [
    "# evaluate the impact of an offer\n",
    "acceptance_rate_nonchurn = 1\n",
    "acceptance_rate_churn = 0.24\n",
    "threshold = 0.52\n",
    "base_price = 4.73\n",
    "discount_amount = 0.24\n",
    "cases = ['no_offer', 'lpm_offer', 'logit_offer']\n",
    "\n",
    "# test sensitivity to thresholds\n",
    "df_lift_threshold = pd.DataFrame(index=range(0, 100, 1), columns=['threshold'] + cases)\n",
    "for t_ind in df_lift_threshold.index:\n",
    "    t_threshold = t_ind / 100\n",
    "    _, t_df_impact = apply_offers(df_test, t_threshold, base_price, discount_amount, cases, acceptance_rate_churn, acceptance_rate_nonchurn)\n",
    "\n",
    "    df_lift_threshold.loc[t_ind, 'threshold'] = t_threshold\n",
    "    df_lift_threshold.loc[t_ind, cases] = t_df_impact.loc[cases, 'lift_from_no_offer']\n",
    "del t_df_impact, t_threshold, t_ind\n",
    "\n",
    "# Threshold sensitivity\n",
    "fig = plt.figure()\n",
    "ax1 = plt.gca()\n",
    "ax1.plot(df_lift_threshold['threshold'], df_lift_threshold['lpm_offer'], color = '#be9f77')\n",
    "ax1.plot(df_lift_threshold['threshold'], df_lift_threshold['logit_offer'], color = '#5e5e5e')\n",
    "plt.title('Lift curves')\n",
    "plt.xlabel('Threshold probability for predicting customer churns')\n",
    "plt.ylabel('Revenue lift from base scenario of making no retention offer')\n",
    "plt.legend(labels=['Linear probability model', 'Logit probability'])"
   ]
  },
  {
   "cell_type": "code",
   "execution_count": 812,
   "id": "9c5b5bcf",
   "metadata": {},
   "outputs": [
    {
     "data": {
      "text/plain": [
       "<matplotlib.legend.Legend at 0x1c2b8e11df0>"
      ]
     },
     "execution_count": 812,
     "metadata": {},
     "output_type": "execute_result"
    },
    {
     "data": {
      "image/png": "[encoded data removed]",
      "text/plain": [
       "<Figure size 432x288 with 1 Axes>"
      ]
     },
     "metadata": {
      "needs_background": "light"
     },
     "output_type": "display_data"
    }
   ],
   "source": [
    "# evaluate the impact of an offer\n",
    "acceptance_rate_nonchurn = 1\n",
    "acceptance_rate_churn = 0.24\n",
    "threshold = 0.52\n",
    "base_price = 4.73\n",
    "discount_amount = 0.24\n",
    "cases = ['no_offer', 'lpm_offer', 'logit_offer']\n",
    "\n",
    "# test sensitivity to offer discount amount\n",
    "df_lift_discount_amount = pd.DataFrame(index=range(0, 100, 1), columns=['discount_amount'] + cases)\n",
    "for t_ind in df_lift_discount_amount.index:\n",
    "    t_discount_amount = t_ind / 100\n",
    "    \n",
    "    # Build a function that determines the acceptance rate given different discounts\n",
    "    t_acceptance_rate_churn = t_discount_amount\n",
    "    \n",
    "    _, t_df_impact = apply_offers(df_test, threshold, base_price, t_discount_amount, cases, t_acceptance_rate_churn, acceptance_rate_nonchurn)\n",
    "\n",
    "    df_lift_discount_amount.loc[t_ind, 'discount_amount'] = t_discount_amount\n",
    "    df_lift_discount_amount.loc[t_ind, cases] = t_df_impact.loc[cases, 'lift_from_no_offer']\n",
    "del t_df_impact, t_discount_amount, t_ind\n",
    "\n",
    "# Discount amount sensitivity\n",
    "fig = plt.figure()\n",
    "ax1 = plt.gca()\n",
    "ax1.plot(df_lift_discount_amount['discount_amount'], df_lift_discount_amount['lpm_offer'], color = 'r')\n",
    "ax1.plot(df_lift_discount_amount['discount_amount'], df_lift_discount_amount['logit_offer'], color = 'b')\n",
    "plt.title('Lift curves')\n",
    "plt.xlabel('Offer discount amount')\n",
    "plt.ylabel('Revenue lift from base scenario of making no retention offer')\n",
    "plt.legend(labels=['Linear probability model', 'Logit probability'])"
   ]
  }
 ],
 "metadata": {
  "kernelspec": {
   "display_name": "Python 3",
   "language": "python",
   "name": "python3"
  },
  "language_info": {
   "codemirror_mode": {
    "name": "ipython",
    "version": 3
   },
   "file_extension": ".py",
   "mimetype": "text/x-python",
   "name": "python",
   "nbconvert_exporter": "python",
   "pygments_lexer": "ipython3",
   "version": "3.8.8"
  }
 },
 "nbformat": 4,
 "nbformat_minor": 5
}
