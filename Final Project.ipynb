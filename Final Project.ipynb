{
 "cells": [
  {
   "cell_type": "code",
   "execution_count": 1,
   "id": "41ea8387",
   "metadata": {},
   "outputs": [],
   "source": [
    "import pickle\n",
    "import numpy as np\n",
    "import pandas as pd"
   ]
  },
  {
   "cell_type": "markdown",
   "id": "4de60f10",
   "metadata": {},
   "source": [
    "## Load Data"
   ]
  },
  {
   "cell_type": "code",
   "execution_count": 2,
   "id": "fd0a9ff8",
   "metadata": {},
   "outputs": [],
   "source": [
    "path_subscribers = \"C:\\\\Users\\\\kongl\\\\Desktop\\\\NYU Shanghai\\\\Fall 2021\\\\Marketing Analytics\\\\Final Project\\\\Fall 2021 MSDABC Final Project\\\\Digital Marketing Analytics final case project data\\subscribers\"\n",
    "path_engagement = \"C:\\\\Users\\\\kongl\\\\Desktop\\\\NYU Shanghai\\\\Fall 2021\\\\Marketing Analytics\\\\Final Project\\\\Fall 2021 MSDABC Final Project\\\\Digital Marketing Analytics final case project data\\engagement\"\n",
    "path_reps = \"C:\\\\Users\\\\kongl\\\\Desktop\\\\NYU Shanghai\\\\Fall 2021\\\\Marketing Analytics\\\\Final Project\\\\Fall 2021 MSDABC Final Project\\\\Digital Marketing Analytics final case project data\\customer_service_reps\""
   ]
  },
  {
   "cell_type": "code",
   "execution_count": 3,
   "id": "54744fff",
   "metadata": {},
   "outputs": [],
   "source": [
    "# Build a function that loads the binary data\n",
    "\n",
    "def load_data(path):\n",
    "    \n",
    "    '''\n",
    "    The input of the function is the path of the data file.\n",
    "    The output of the function is the dataframe loaded.\n",
    "    '''\n",
    "    \n",
    "    f=open(path,\"rb\")\n",
    "    df=pickle.load(f)\n",
    "    f.close()\n",
    "    \n",
    "    return df"
   ]
  },
  {
   "cell_type": "code",
   "execution_count": 4,
   "id": "5f90b88a",
   "metadata": {},
   "outputs": [],
   "source": [
    "df_subs = load_data(path_subscribers)\n",
    "df_reps = load_data(path_reps)"
   ]
  },
  {
   "cell_type": "code",
   "execution_count": 5,
   "id": "eb6f5e44",
   "metadata": {},
   "outputs": [],
   "source": [
    "# Read the channel data\n",
    "\n",
    "df_channels = pd.read_excel(\"advertising_spend_data.xlsx\", header=2)"
   ]
  },
  {
   "cell_type": "markdown",
   "id": "b77d4ae9",
   "metadata": {},
   "source": [
    "## Data Review"
   ]
  },
  {
   "cell_type": "markdown",
   "id": "c26fee85",
   "metadata": {},
   "source": [
    "First, we check the dataset to see which data we want to use for A/B testing and Allocation method."
   ]
  },
  {
   "cell_type": "code",
   "execution_count": 6,
   "id": "cbbca8c4",
   "metadata": {},
   "outputs": [
    {
     "name": "stdout",
     "output_type": "stream",
     "text": [
      "In representative dataset, there are records for 1369360 past or present customers.\n"
     ]
    }
   ],
   "source": [
    "rep_customers = df_reps['subid'].unique()\n",
    "print(\"In representative dataset, there are records for {} past or present customers.\".format(len(rep_customers)))"
   ]
  },
  {
   "cell_type": "code",
   "execution_count": 7,
   "id": "4518e97d",
   "metadata": {},
   "outputs": [
    {
     "name": "stdout",
     "output_type": "stream",
     "text": [
      "In subsriber dataset, there are records for 227628 past or present customers.\n"
     ]
    }
   ],
   "source": [
    "sub_customers = df_subs['subid'].unique()\n",
    "print(\"In subsriber dataset, there are records for {} past or present customers.\".format(len(sub_customers)))"
   ]
  },
  {
   "cell_type": "markdown",
   "id": "85261798",
   "metadata": {},
   "source": [
    "We're not sure why there are far more customer records in the representative dataset. But merging them might not be a reasonable approach since subids in the subscriber dataset is not a subset of those in the representative dataset."
   ]
  },
  {
   "cell_type": "markdown",
   "id": "f3fad392",
   "metadata": {},
   "source": [
    "Let's check the less complex representative dataset first."
   ]
  },
  {
   "cell_type": "markdown",
   "id": "6e50af6e",
   "metadata": {},
   "source": [
    "We can see that trial plan are for each customer is avialable in this dataset, meaning that representative data might be ideal for our A/B testing."
   ]
  },
  {
   "cell_type": "code",
   "execution_count": 8,
   "id": "75c8d661",
   "metadata": {},
   "outputs": [
    {
     "data": {
      "text/plain": [
       "14    1968089\n",
       "7      160596\n",
       "0       79958\n",
       "Name: num_trial_days, dtype: int64"
      ]
     },
     "execution_count": 8,
     "metadata": {},
     "output_type": "execute_result"
    }
   ],
   "source": [
    "df_reps['num_trial_days'].value_counts()"
   ]
  },
  {
   "cell_type": "markdown",
   "id": "3c2c36f3",
   "metadata": {},
   "source": [
    "Before we start performing A/B testings, we need to find our what are the variants worth testing.<br>\n",
    "We noticed that the distribution of billing channel is somewhat similar to the distribution of trial plans. <br>\n",
    "We want to see if it's the case that certain trial plans were only available to certain channels.<br>"
   ]
  },
  {
   "cell_type": "code",
   "execution_count": 9,
   "id": "f4ca4173",
   "metadata": {},
   "outputs": [
    {
     "data": {
      "text/plain": [
       "OTT       1848663\n",
       "itunes     301713\n",
       "google      58267\n",
       "Name: billing_channel, dtype: int64"
      ]
     },
     "execution_count": 9,
     "metadata": {},
     "output_type": "execute_result"
    }
   ],
   "source": [
    "# Examine distribution of billing channels\n",
    "\n",
    "df_reps['billing_channel'].value_counts()"
   ]
  },
  {
   "cell_type": "code",
   "execution_count": 10,
   "id": "03d584a8",
   "metadata": {},
   "outputs": [
    {
     "data": {
      "text/plain": [
       "google    58267\n",
       "OTT       21688\n",
       "itunes        3\n",
       "Name: billing_channel, dtype: int64"
      ]
     },
     "execution_count": 10,
     "metadata": {},
     "output_type": "execute_result"
    }
   ],
   "source": [
    "# Examine billing channels with no trial period plans.\n",
    "\n",
    "df_reps[df_reps['num_trial_days'] == 0]['billing_channel'].value_counts()"
   ]
  },
  {
   "cell_type": "code",
   "execution_count": 11,
   "id": "1f006ed7",
   "metadata": {},
   "outputs": [
    {
     "data": {
      "text/plain": [
       "itunes    160596\n",
       "Name: billing_channel, dtype: int64"
      ]
     },
     "execution_count": 11,
     "metadata": {},
     "output_type": "execute_result"
    }
   ],
   "source": [
    "# Examine billing channels with 7-day trial period plans.\n",
    "\n",
    "df_reps[df_reps['num_trial_days'] == 7]['billing_channel'].value_counts()"
   ]
  },
  {
   "cell_type": "code",
   "execution_count": 12,
   "id": "d2a7c62c",
   "metadata": {},
   "outputs": [
    {
     "data": {
      "text/plain": [
       "OTT       1826975\n",
       "itunes     141114\n",
       "Name: billing_channel, dtype: int64"
      ]
     },
     "execution_count": 12,
     "metadata": {},
     "output_type": "execute_result"
    }
   ],
   "source": [
    "# Examine billing channels with 14-day trial period plans.\n",
    "\n",
    "df_reps[df_reps['num_trial_days'] == 14]['billing_channel'].value_counts()"
   ]
  },
  {
   "cell_type": "markdown",
   "id": "7c71883d",
   "metadata": {},
   "source": [
    "We can see that what itunes offered were mostly **7-day trials** and **14-day trials**.<br>\n",
    "Google offered **no trial** period to customers. <br>\n",
    "OTT offered **14-day trials** and **no trail** plans.\n"
   ]
  },
  {
   "cell_type": "markdown",
   "id": "c5531323",
   "metadata": {},
   "source": [
    "This indicates that we might need to segment customer population when doing the A/B test.<br>\n",
    "Given the data we had, there are two things we can test: <br>\n",
    "**14-Day Trial** vs. **7-Day Trial** for itunes customers.<br>\n",
    "**14-Day Trial** vs. **No Trial** for OTT customers.<br>\n",
    "<br>\n",
    "Further hypotheses cannot be tested given the data we had. But in future analysis, we might be also to make some valuable inferences by integrating our two test results with some Diff-in-Diff comparison."
   ]
  },
  {
   "cell_type": "markdown",
   "id": "0bf35c6f",
   "metadata": {},
   "source": [
    "Next, let's check the subscriber data to see how we can extract valuable information for attribution and allocation."
   ]
  },
  {
   "cell_type": "code",
   "execution_count": 13,
   "id": "5a68e829",
   "metadata": {},
   "outputs": [],
   "source": [
    "# Build a function that get the account creation month\n",
    "\n",
    "def get_month(datetime):\n",
    "    \n",
    "    '''\n",
    "    The input of the function is datetime.\n",
    "    The output of the function is month.\n",
    "    '''\n",
    "    \n",
    "    year, month, date = str(datetime).split('-')\n",
    "    time = '/'.join([year, month])\n",
    "    \n",
    "    return time"
   ]
  },
  {
   "cell_type": "code",
   "execution_count": 14,
   "id": "8dc81761",
   "metadata": {},
   "outputs": [],
   "source": [
    "# Replace the original date with the recalculated date\n",
    "\n",
    "df_channels['date'] = df_channels['date'].apply(get_month)\n",
    "df_subs['account_creation_month'] = df_subs['account_creation_date'].apply(get_month)"
   ]
  },
  {
   "cell_type": "code",
   "execution_count": 15,
   "id": "fb4484ec",
   "metadata": {},
   "outputs": [
    {
     "data": {
      "text/html": [
       "<div>\n",
       "<style scoped>\n",
       "    .dataframe tbody tr th:only-of-type {\n",
       "        vertical-align: middle;\n",
       "    }\n",
       "\n",
       "    .dataframe tbody tr th {\n",
       "        vertical-align: top;\n",
       "    }\n",
       "\n",
       "    .dataframe thead th {\n",
       "        text-align: right;\n",
       "    }\n",
       "</style>\n",
       "<table border=\"1\" class=\"dataframe\">\n",
       "  <thead>\n",
       "    <tr style=\"text-align: right;\">\n",
       "      <th></th>\n",
       "      <th>date</th>\n",
       "      <th>facebook</th>\n",
       "      <th>email</th>\n",
       "      <th>search</th>\n",
       "      <th>brand sem intent google</th>\n",
       "      <th>affiliate</th>\n",
       "      <th>email_blast</th>\n",
       "      <th>pinterest</th>\n",
       "      <th>referral</th>\n",
       "    </tr>\n",
       "  </thead>\n",
       "  <tbody>\n",
       "    <tr>\n",
       "      <th>0</th>\n",
       "      <td>2019/06</td>\n",
       "      <td>84800</td>\n",
       "      <td>75000</td>\n",
       "      <td>17300</td>\n",
       "      <td>21400</td>\n",
       "      <td>11900</td>\n",
       "      <td>10500</td>\n",
       "      <td>5900</td>\n",
       "      <td>6100</td>\n",
       "    </tr>\n",
       "    <tr>\n",
       "      <th>1</th>\n",
       "      <td>2019/07</td>\n",
       "      <td>60000</td>\n",
       "      <td>75600</td>\n",
       "      <td>17300</td>\n",
       "      <td>21300</td>\n",
       "      <td>12000</td>\n",
       "      <td>29800</td>\n",
       "      <td>6000</td>\n",
       "      <td>6600</td>\n",
       "    </tr>\n",
       "    <tr>\n",
       "      <th>2</th>\n",
       "      <td>2019/08</td>\n",
       "      <td>52300</td>\n",
       "      <td>76100</td>\n",
       "      <td>18100</td>\n",
       "      <td>21300</td>\n",
       "      <td>16300</td>\n",
       "      <td>65900</td>\n",
       "      <td>6200</td>\n",
       "      <td>6800</td>\n",
       "    </tr>\n",
       "    <tr>\n",
       "      <th>3</th>\n",
       "      <td>2019/09</td>\n",
       "      <td>49000</td>\n",
       "      <td>75800</td>\n",
       "      <td>18900</td>\n",
       "      <td>21300</td>\n",
       "      <td>16400</td>\n",
       "      <td>73700</td>\n",
       "      <td>6000</td>\n",
       "      <td>7400</td>\n",
       "    </tr>\n",
       "    <tr>\n",
       "      <th>4</th>\n",
       "      <td>2019/10</td>\n",
       "      <td>51300</td>\n",
       "      <td>76000</td>\n",
       "      <td>21000</td>\n",
       "      <td>21400</td>\n",
       "      <td>12200</td>\n",
       "      <td>32300</td>\n",
       "      <td>6700</td>\n",
       "      <td>7300</td>\n",
       "    </tr>\n",
       "    <tr>\n",
       "      <th>5</th>\n",
       "      <td>2019/11</td>\n",
       "      <td>56100</td>\n",
       "      <td>75900</td>\n",
       "      <td>21400</td>\n",
       "      <td>21600</td>\n",
       "      <td>11700</td>\n",
       "      <td>9800</td>\n",
       "      <td>6300</td>\n",
       "      <td>7300</td>\n",
       "    </tr>\n",
       "    <tr>\n",
       "      <th>6</th>\n",
       "      <td>2019/12</td>\n",
       "      <td>51400</td>\n",
       "      <td>76100</td>\n",
       "      <td>32100</td>\n",
       "      <td>22200</td>\n",
       "      <td>12100</td>\n",
       "      <td>3500</td>\n",
       "      <td>7200</td>\n",
       "      <td>8000</td>\n",
       "    </tr>\n",
       "    <tr>\n",
       "      <th>7</th>\n",
       "      <td>2020/01</td>\n",
       "      <td>49000</td>\n",
       "      <td>75500</td>\n",
       "      <td>33600</td>\n",
       "      <td>22700</td>\n",
       "      <td>14300</td>\n",
       "      <td>300</td>\n",
       "      <td>6700</td>\n",
       "      <td>7400</td>\n",
       "    </tr>\n",
       "    <tr>\n",
       "      <th>8</th>\n",
       "      <td>2020/02</td>\n",
       "      <td>49700</td>\n",
       "      <td>76600</td>\n",
       "      <td>30100</td>\n",
       "      <td>21700</td>\n",
       "      <td>15000</td>\n",
       "      <td>300</td>\n",
       "      <td>6400</td>\n",
       "      <td>6500</td>\n",
       "    </tr>\n",
       "    <tr>\n",
       "      <th>9</th>\n",
       "      <td>2020/03</td>\n",
       "      <td>49100</td>\n",
       "      <td>78000</td>\n",
       "      <td>22700</td>\n",
       "      <td>21200</td>\n",
       "      <td>17600</td>\n",
       "      <td>300</td>\n",
       "      <td>5900</td>\n",
       "      <td>10000</td>\n",
       "    </tr>\n",
       "  </tbody>\n",
       "</table>\n",
       "</div>"
      ],
      "text/plain": [
       "      date  facebook  email  search  brand sem intent google  affiliate  \\\n",
       "0  2019/06     84800  75000   17300                    21400      11900   \n",
       "1  2019/07     60000  75600   17300                    21300      12000   \n",
       "2  2019/08     52300  76100   18100                    21300      16300   \n",
       "3  2019/09     49000  75800   18900                    21300      16400   \n",
       "4  2019/10     51300  76000   21000                    21400      12200   \n",
       "5  2019/11     56100  75900   21400                    21600      11700   \n",
       "6  2019/12     51400  76100   32100                    22200      12100   \n",
       "7  2020/01     49000  75500   33600                    22700      14300   \n",
       "8  2020/02     49700  76600   30100                    21700      15000   \n",
       "9  2020/03     49100  78000   22700                    21200      17600   \n",
       "\n",
       "   email_blast  pinterest  referral  \n",
       "0        10500       5900      6100  \n",
       "1        29800       6000      6600  \n",
       "2        65900       6200      6800  \n",
       "3        73700       6000      7400  \n",
       "4        32300       6700      7300  \n",
       "5         9800       6300      7300  \n",
       "6         3500       7200      8000  \n",
       "7          300       6700      7400  \n",
       "8          300       6400      6500  \n",
       "9          300       5900     10000  "
      ]
     },
     "execution_count": 15,
     "metadata": {},
     "output_type": "execute_result"
    }
   ],
   "source": [
    "df_channels"
   ]
  },
  {
   "cell_type": "code",
   "execution_count": 16,
   "id": "c3c14a12",
   "metadata": {},
   "outputs": [
    {
     "data": {
      "text/plain": [
       "0    232900\n",
       "1    228600\n",
       "2    263000\n",
       "3    268500\n",
       "4    228200\n",
       "5    210100\n",
       "6    212600\n",
       "7    209500\n",
       "8    206300\n",
       "9    204800\n",
       "dtype: int64"
      ]
     },
     "execution_count": 16,
     "metadata": {},
     "output_type": "execute_result"
    }
   ],
   "source": [
    "# Calculate the budget for each month\n",
    "\n",
    "df_channels.iloc[:,1:].apply(sum, axis = 1)"
   ]
  },
  {
   "cell_type": "code",
   "execution_count": 17,
   "id": "77a04ae8",
   "metadata": {},
   "outputs": [
    {
     "data": {
      "text/plain": [
       "2020/02    28089\n",
       "2019/11    26828\n",
       "2020/03    26122\n",
       "2019/07    25708\n",
       "2019/08    25434\n",
       "2019/12    25339\n",
       "2020/01    24843\n",
       "2019/10    22412\n",
       "2019/09    20190\n",
       "2019/06     2663\n",
       "Name: account_creation_month, dtype: int64"
      ]
     },
     "execution_count": 17,
     "metadata": {},
     "output_type": "execute_result"
    }
   ],
   "source": [
    "# Check the total number of customers converted every month\n",
    "\n",
    "df_subs['account_creation_month'].value_counts()"
   ]
  },
  {
   "cell_type": "markdown",
   "id": "5a911641",
   "metadata": {},
   "source": [
    "We can confirm that, to calculate attribution and allocation, both subscriber and channel data should be used.<br>\n",
    "Next, let's think about which data implies conversion."
   ]
  },
  {
   "cell_type": "code",
   "execution_count": 18,
   "id": "af771b89",
   "metadata": {},
   "outputs": [
    {
     "data": {
      "text/plain": [
       "['facebook',\n",
       " 'email',\n",
       " 'search',\n",
       " 'brand sem intent google',\n",
       " 'affiliate',\n",
       " 'email_blast',\n",
       " 'pinterest',\n",
       " 'referral']"
      ]
     },
     "execution_count": 18,
     "metadata": {},
     "output_type": "execute_result"
    }
   ],
   "source": [
    "channels= list(df_channels.columns[1:])\n",
    "channels"
   ]
  },
  {
   "cell_type": "code",
   "execution_count": 19,
   "id": "8827d12b",
   "metadata": {},
   "outputs": [],
   "source": [
    "df_paid = df_subs[df_subs['paid_TF'] == True]\n",
    "df_convert = df_paid[df_paid['refund_after_trial_TF'] == False]"
   ]
  },
  {
   "cell_type": "markdown",
   "id": "219e5e5f",
   "metadata": {},
   "source": [
    "We find it reasonable to consider customers who have made a successful payment and haven't requested refund as converted customers."
   ]
  },
  {
   "cell_type": "code",
   "execution_count": 20,
   "id": "0d05aee7",
   "metadata": {},
   "outputs": [
    {
     "data": {
      "text/plain": [
       "(82805, 30)"
      ]
     },
     "execution_count": 20,
     "metadata": {},
     "output_type": "execute_result"
    }
   ],
   "source": [
    "df_convert.shape"
   ]
  },
  {
   "cell_type": "code",
   "execution_count": 21,
   "id": "44328077",
   "metadata": {},
   "outputs": [
    {
     "data": {
      "text/plain": [
       "facebook                   26279\n",
       "email                      10007\n",
       "search                      8095\n",
       "brand sem intent google     7573\n",
       "affiliate                   3039\n",
       "email_blast                 3589\n",
       "pinterest                   1853\n",
       "referral                    2797\n",
       "Name: attribution_technical, dtype: int64"
      ]
     },
     "execution_count": 21,
     "metadata": {},
     "output_type": "execute_result"
    }
   ],
   "source": [
    "# Check the data we have for attribution\n",
    "\n",
    "df_convert['attribution_technical'].value_counts()[channels]"
   ]
  },
  {
   "cell_type": "code",
   "execution_count": 22,
   "id": "b4ad194c",
   "metadata": {},
   "outputs": [
    {
     "name": "stdout",
     "output_type": "stream",
     "text": [
      "facebook 41142\n",
      "search 2613\n",
      "affiliate 639\n",
      "pinterest 2493\n",
      "referral 10305\n"
     ]
    }
   ],
   "source": [
    "for channel in channels:\n",
    "    if channel in df_convert['attribution_survey'].value_counts().index:\n",
    "        print(channel, df_convert['attribution_survey'].value_counts()[channel])"
   ]
  },
  {
   "cell_type": "code",
   "execution_count": 23,
   "id": "6c700ad7",
   "metadata": {},
   "outputs": [],
   "source": [
    "months = sorted(list(df_convert['account_creation_month'].unique()))"
   ]
  },
  {
   "cell_type": "code",
   "execution_count": 24,
   "id": "9b99ab83",
   "metadata": {
    "scrolled": true
   },
   "outputs": [],
   "source": [
    "df_convert_bymonth = df_convert.groupby(\"account_creation_month\")"
   ]
  },
  {
   "cell_type": "code",
   "execution_count": 25,
   "id": "c7cc3ef6",
   "metadata": {
    "scrolled": true
   },
   "outputs": [
    {
     "data": {
      "text/plain": [
       "facebook                   497\n",
       "email                      135\n",
       "search                      35\n",
       "brand sem intent google     91\n",
       "affiliate                   39\n",
       "email_blast                 61\n",
       "pinterest                   10\n",
       "referral                    15\n",
       "Name: attribution_technical, dtype: int64"
      ]
     },
     "execution_count": 25,
     "metadata": {},
     "output_type": "execute_result"
    }
   ],
   "source": [
    "df_convert_bymonth.get_group(months[0])['attribution_technical'].value_counts()[channels]"
   ]
  },
  {
   "cell_type": "code",
   "execution_count": 26,
   "id": "c07a751e",
   "metadata": {},
   "outputs": [
    {
     "data": {
      "text/html": [
       "<div>\n",
       "<style scoped>\n",
       "    .dataframe tbody tr th:only-of-type {\n",
       "        vertical-align: middle;\n",
       "    }\n",
       "\n",
       "    .dataframe tbody tr th {\n",
       "        vertical-align: top;\n",
       "    }\n",
       "\n",
       "    .dataframe thead th {\n",
       "        text-align: right;\n",
       "    }\n",
       "</style>\n",
       "<table border=\"1\" class=\"dataframe\">\n",
       "  <thead>\n",
       "    <tr style=\"text-align: right;\">\n",
       "      <th></th>\n",
       "      <th>date</th>\n",
       "      <th>facebook</th>\n",
       "      <th>email</th>\n",
       "      <th>search</th>\n",
       "      <th>brand sem intent google</th>\n",
       "      <th>affiliate</th>\n",
       "      <th>email_blast</th>\n",
       "      <th>pinterest</th>\n",
       "      <th>referral</th>\n",
       "    </tr>\n",
       "  </thead>\n",
       "  <tbody>\n",
       "    <tr>\n",
       "      <th>0</th>\n",
       "      <td>2019/06</td>\n",
       "      <td>84800</td>\n",
       "      <td>75000</td>\n",
       "      <td>17300</td>\n",
       "      <td>21400</td>\n",
       "      <td>11900</td>\n",
       "      <td>10500</td>\n",
       "      <td>5900</td>\n",
       "      <td>6100</td>\n",
       "    </tr>\n",
       "    <tr>\n",
       "      <th>1</th>\n",
       "      <td>2019/07</td>\n",
       "      <td>60000</td>\n",
       "      <td>75600</td>\n",
       "      <td>17300</td>\n",
       "      <td>21300</td>\n",
       "      <td>12000</td>\n",
       "      <td>29800</td>\n",
       "      <td>6000</td>\n",
       "      <td>6600</td>\n",
       "    </tr>\n",
       "    <tr>\n",
       "      <th>2</th>\n",
       "      <td>2019/08</td>\n",
       "      <td>52300</td>\n",
       "      <td>76100</td>\n",
       "      <td>18100</td>\n",
       "      <td>21300</td>\n",
       "      <td>16300</td>\n",
       "      <td>65900</td>\n",
       "      <td>6200</td>\n",
       "      <td>6800</td>\n",
       "    </tr>\n",
       "    <tr>\n",
       "      <th>3</th>\n",
       "      <td>2019/09</td>\n",
       "      <td>49000</td>\n",
       "      <td>75800</td>\n",
       "      <td>18900</td>\n",
       "      <td>21300</td>\n",
       "      <td>16400</td>\n",
       "      <td>73700</td>\n",
       "      <td>6000</td>\n",
       "      <td>7400</td>\n",
       "    </tr>\n",
       "    <tr>\n",
       "      <th>4</th>\n",
       "      <td>2019/10</td>\n",
       "      <td>51300</td>\n",
       "      <td>76000</td>\n",
       "      <td>21000</td>\n",
       "      <td>21400</td>\n",
       "      <td>12200</td>\n",
       "      <td>32300</td>\n",
       "      <td>6700</td>\n",
       "      <td>7300</td>\n",
       "    </tr>\n",
       "    <tr>\n",
       "      <th>5</th>\n",
       "      <td>2019/11</td>\n",
       "      <td>56100</td>\n",
       "      <td>75900</td>\n",
       "      <td>21400</td>\n",
       "      <td>21600</td>\n",
       "      <td>11700</td>\n",
       "      <td>9800</td>\n",
       "      <td>6300</td>\n",
       "      <td>7300</td>\n",
       "    </tr>\n",
       "    <tr>\n",
       "      <th>6</th>\n",
       "      <td>2019/12</td>\n",
       "      <td>51400</td>\n",
       "      <td>76100</td>\n",
       "      <td>32100</td>\n",
       "      <td>22200</td>\n",
       "      <td>12100</td>\n",
       "      <td>3500</td>\n",
       "      <td>7200</td>\n",
       "      <td>8000</td>\n",
       "    </tr>\n",
       "    <tr>\n",
       "      <th>7</th>\n",
       "      <td>2020/01</td>\n",
       "      <td>49000</td>\n",
       "      <td>75500</td>\n",
       "      <td>33600</td>\n",
       "      <td>22700</td>\n",
       "      <td>14300</td>\n",
       "      <td>300</td>\n",
       "      <td>6700</td>\n",
       "      <td>7400</td>\n",
       "    </tr>\n",
       "    <tr>\n",
       "      <th>8</th>\n",
       "      <td>2020/02</td>\n",
       "      <td>49700</td>\n",
       "      <td>76600</td>\n",
       "      <td>30100</td>\n",
       "      <td>21700</td>\n",
       "      <td>15000</td>\n",
       "      <td>300</td>\n",
       "      <td>6400</td>\n",
       "      <td>6500</td>\n",
       "    </tr>\n",
       "    <tr>\n",
       "      <th>9</th>\n",
       "      <td>2020/03</td>\n",
       "      <td>49100</td>\n",
       "      <td>78000</td>\n",
       "      <td>22700</td>\n",
       "      <td>21200</td>\n",
       "      <td>17600</td>\n",
       "      <td>300</td>\n",
       "      <td>5900</td>\n",
       "      <td>10000</td>\n",
       "    </tr>\n",
       "  </tbody>\n",
       "</table>\n",
       "</div>"
      ],
      "text/plain": [
       "      date  facebook  email  search  brand sem intent google  affiliate  \\\n",
       "0  2019/06     84800  75000   17300                    21400      11900   \n",
       "1  2019/07     60000  75600   17300                    21300      12000   \n",
       "2  2019/08     52300  76100   18100                    21300      16300   \n",
       "3  2019/09     49000  75800   18900                    21300      16400   \n",
       "4  2019/10     51300  76000   21000                    21400      12200   \n",
       "5  2019/11     56100  75900   21400                    21600      11700   \n",
       "6  2019/12     51400  76100   32100                    22200      12100   \n",
       "7  2020/01     49000  75500   33600                    22700      14300   \n",
       "8  2020/02     49700  76600   30100                    21700      15000   \n",
       "9  2020/03     49100  78000   22700                    21200      17600   \n",
       "\n",
       "   email_blast  pinterest  referral  \n",
       "0        10500       5900      6100  \n",
       "1        29800       6000      6600  \n",
       "2        65900       6200      6800  \n",
       "3        73700       6000      7400  \n",
       "4        32300       6700      7300  \n",
       "5         9800       6300      7300  \n",
       "6         3500       7200      8000  \n",
       "7          300       6700      7400  \n",
       "8          300       6400      6500  \n",
       "9          300       5900     10000  "
      ]
     },
     "execution_count": 26,
     "metadata": {},
     "output_type": "execute_result"
    }
   ],
   "source": [
    "df_channels"
   ]
  },
  {
   "cell_type": "markdown",
   "id": "c20de35e",
   "metadata": {},
   "source": [
    "There are multiple tasks we can do for attribution and allocation.<br>\n",
    "First, for attribution method, it's obvious that we shall attribute conversion based on both ***attribution_technical*** and ***attribution_survey***.<br>\n",
    "Second, we want to calculate CAC for all channels in all months to see if how CAC differs between channels and how CAC of each channel change over time. <br>\n",
    "Third, using monthly data, we can calculate marginal CAC for allocation decision making. This approach should be viable since monthly budgets for most channels didn't change a lot except channel **email_blast**. This might mean that marginal CAC calculated for email_blast would not be representative.<br>"
   ]
  }
 ],
 "metadata": {
  "kernelspec": {
   "display_name": "Python 3",
   "language": "python",
   "name": "python3"
  },
  "language_info": {
   "codemirror_mode": {
    "name": "ipython",
    "version": 3
   },
   "file_extension": ".py",
   "mimetype": "text/x-python",
   "name": "python",
   "nbconvert_exporter": "python",
   "pygments_lexer": "ipython3",
   "version": "3.8.8"
  }
 },
 "nbformat": 4,
 "nbformat_minor": 5
}
